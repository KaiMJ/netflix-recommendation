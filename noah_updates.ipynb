{
 "cells": [
  {
   "cell_type": "code",
   "execution_count": 1,
   "id": "950ed2c9",
   "metadata": {},
   "outputs": [],
   "source": [
    "import numpy as np\n",
    "import pandas as pd\n",
    "from collections import defaultdict\n",
    "import datetime\n",
    "from dateutil.parser import parse\n",
    "from tqdm import tqdm\n",
    "from tqdm import trange\n",
    "import sys\n",
    "import matplotlib.pyplot as plt\n",
    "from sklearn.feature_extraction.text import TfidfVectorizer\n",
    "from sklearn.model_selection import train_test_split\n",
    "from sklearn.metrics import mean_squared_error as mse"
   ]
  },
  {
   "cell_type": "code",
   "execution_count": 47,
   "id": "ec27e0b2",
   "metadata": {},
   "outputs": [],
   "source": [
    "def mae(pred, true):\n",
    "    return np.mean(np.abs(pred - true))"
   ]
  },
  {
   "cell_type": "code",
   "execution_count": 3,
   "id": "8ae7a278",
   "metadata": {},
   "outputs": [],
   "source": [
    "######################################\n",
    "#    DOWNLOAD DATA\n",
    "######################################\n",
    "\n",
    "# https://drive.google.com/drive/folders/1Xt9EcMG64I_2y_fxu4d5Zr-qo2VlwiOP?usp=sharing"
   ]
  },
  {
   "cell_type": "code",
   "execution_count": 5,
   "id": "1a1b5e91",
   "metadata": {},
   "outputs": [],
   "source": [
    "data = pd.read_csv('data/data.csv')"
   ]
  },
  {
   "cell_type": "code",
   "execution_count": 11,
   "id": "4fafc1a3",
   "metadata": {},
   "outputs": [],
   "source": [
    "details = pd.read_csv('data/movie_details.csv')"
   ]
  },
  {
   "cell_type": "code",
   "execution_count": 12,
   "id": "bfd32036",
   "metadata": {},
   "outputs": [
    {
     "data": {
      "text/html": [
       "<div>\n",
       "<style scoped>\n",
       "    .dataframe tbody tr th:only-of-type {\n",
       "        vertical-align: middle;\n",
       "    }\n",
       "\n",
       "    .dataframe tbody tr th {\n",
       "        vertical-align: top;\n",
       "    }\n",
       "\n",
       "    .dataframe thead th {\n",
       "        text-align: right;\n",
       "    }\n",
       "</style>\n",
       "<table border=\"1\" class=\"dataframe\">\n",
       "  <thead>\n",
       "    <tr style=\"text-align: right;\">\n",
       "      <th></th>\n",
       "      <th>Unnamed: 0</th>\n",
       "      <th>MovieID</th>\n",
       "      <th>UserID</th>\n",
       "      <th>Rating</th>\n",
       "      <th>Rated Date</th>\n",
       "      <th>Released Date</th>\n",
       "      <th>Title</th>\n",
       "      <th>Released Since</th>\n",
       "      <th>show_id</th>\n",
       "    </tr>\n",
       "  </thead>\n",
       "  <tbody>\n",
       "    <tr>\n",
       "      <th>0</th>\n",
       "      <td>0</td>\n",
       "      <td>30</td>\n",
       "      <td>2173336</td>\n",
       "      <td>5</td>\n",
       "      <td>2004-06-22</td>\n",
       "      <td>2003</td>\n",
       "      <td>Something's Gotta Give</td>\n",
       "      <td>538 days</td>\n",
       "      <td>s8056</td>\n",
       "    </tr>\n",
       "    <tr>\n",
       "      <th>1</th>\n",
       "      <td>1</td>\n",
       "      <td>30</td>\n",
       "      <td>2473170</td>\n",
       "      <td>5</td>\n",
       "      <td>2004-05-22</td>\n",
       "      <td>2003</td>\n",
       "      <td>Something's Gotta Give</td>\n",
       "      <td>507 days</td>\n",
       "      <td>s8056</td>\n",
       "    </tr>\n",
       "    <tr>\n",
       "      <th>2</th>\n",
       "      <td>2</td>\n",
       "      <td>30</td>\n",
       "      <td>900816</td>\n",
       "      <td>3</td>\n",
       "      <td>2005-07-08</td>\n",
       "      <td>2003</td>\n",
       "      <td>Something's Gotta Give</td>\n",
       "      <td>919 days</td>\n",
       "      <td>s8056</td>\n",
       "    </tr>\n",
       "    <tr>\n",
       "      <th>3</th>\n",
       "      <td>3</td>\n",
       "      <td>30</td>\n",
       "      <td>1990901</td>\n",
       "      <td>4</td>\n",
       "      <td>2004-05-24</td>\n",
       "      <td>2003</td>\n",
       "      <td>Something's Gotta Give</td>\n",
       "      <td>509 days</td>\n",
       "      <td>s8056</td>\n",
       "    </tr>\n",
       "    <tr>\n",
       "      <th>4</th>\n",
       "      <td>4</td>\n",
       "      <td>30</td>\n",
       "      <td>662337</td>\n",
       "      <td>4</td>\n",
       "      <td>2005-07-08</td>\n",
       "      <td>2003</td>\n",
       "      <td>Something's Gotta Give</td>\n",
       "      <td>919 days</td>\n",
       "      <td>s8056</td>\n",
       "    </tr>\n",
       "  </tbody>\n",
       "</table>\n",
       "</div>"
      ],
      "text/plain": [
       "   Unnamed: 0  MovieID   UserID  Rating  Rated Date  Released Date  \\\n",
       "0           0       30  2173336       5  2004-06-22           2003   \n",
       "1           1       30  2473170       5  2004-05-22           2003   \n",
       "2           2       30   900816       3  2005-07-08           2003   \n",
       "3           3       30  1990901       4  2004-05-24           2003   \n",
       "4           4       30   662337       4  2005-07-08           2003   \n",
       "\n",
       "                    Title Released Since show_id  \n",
       "0  Something's Gotta Give       538 days   s8056  \n",
       "1  Something's Gotta Give       507 days   s8056  \n",
       "2  Something's Gotta Give       919 days   s8056  \n",
       "3  Something's Gotta Give       509 days   s8056  \n",
       "4  Something's Gotta Give       919 days   s8056  "
      ]
     },
     "execution_count": 12,
     "metadata": {},
     "output_type": "execute_result"
    }
   ],
   "source": [
    "data.head()"
   ]
  },
  {
   "cell_type": "code",
   "execution_count": 13,
   "id": "5ecde6b7",
   "metadata": {
    "scrolled": false
   },
   "outputs": [
    {
     "data": {
      "text/html": [
       "<div>\n",
       "<style scoped>\n",
       "    .dataframe tbody tr th:only-of-type {\n",
       "        vertical-align: middle;\n",
       "    }\n",
       "\n",
       "    .dataframe tbody tr th {\n",
       "        vertical-align: top;\n",
       "    }\n",
       "\n",
       "    .dataframe thead th {\n",
       "        text-align: right;\n",
       "    }\n",
       "</style>\n",
       "<table border=\"1\" class=\"dataframe\">\n",
       "  <thead>\n",
       "    <tr style=\"text-align: right;\">\n",
       "      <th></th>\n",
       "      <th>Unnamed: 0</th>\n",
       "      <th>show_id</th>\n",
       "      <th>Title</th>\n",
       "      <th>director</th>\n",
       "      <th>cast</th>\n",
       "      <th>country</th>\n",
       "      <th>date_added</th>\n",
       "      <th>release_year</th>\n",
       "      <th>rating</th>\n",
       "      <th>duration</th>\n",
       "      <th>listed_in</th>\n",
       "      <th>description</th>\n",
       "    </tr>\n",
       "  </thead>\n",
       "  <tbody>\n",
       "    <tr>\n",
       "      <th>0</th>\n",
       "      <td>0</td>\n",
       "      <td>s8056</td>\n",
       "      <td>Something's Gotta Give</td>\n",
       "      <td>Nancy Meyers</td>\n",
       "      <td>Jack Nicholson, Diane Keaton, Keanu Reeves, Fr...</td>\n",
       "      <td>United States</td>\n",
       "      <td>August 1, 2019</td>\n",
       "      <td>2003</td>\n",
       "      <td>PG-13</td>\n",
       "      <td>128 min</td>\n",
       "      <td>Comedies, Romantic Movies</td>\n",
       "      <td>Still sexy at 60, Harry Sanborn wines and dine...</td>\n",
       "    </tr>\n",
       "    <tr>\n",
       "      <th>1</th>\n",
       "      <td>118413</td>\n",
       "      <td>s6642</td>\n",
       "      <td>Dragonheart</td>\n",
       "      <td>Rob Cohen</td>\n",
       "      <td>Sean Connery, Dennis Quaid, David Thewlis, Pet...</td>\n",
       "      <td>United States</td>\n",
       "      <td>January 1, 2020</td>\n",
       "      <td>1996</td>\n",
       "      <td>PG-13</td>\n",
       "      <td>103 min</td>\n",
       "      <td>Action &amp; Adventure, Sci-Fi &amp; Fantasy</td>\n",
       "      <td>In ancient times when majestic fire-breathers ...</td>\n",
       "    </tr>\n",
       "    <tr>\n",
       "      <th>2</th>\n",
       "      <td>135818</td>\n",
       "      <td>s568</td>\n",
       "      <td>Congo</td>\n",
       "      <td>Frank Marshall</td>\n",
       "      <td>Dylan Walsh, Laura Linney, Ernie Hudson, Tim C...</td>\n",
       "      <td>United States</td>\n",
       "      <td>July 1, 2021</td>\n",
       "      <td>1995</td>\n",
       "      <td>PG-13</td>\n",
       "      <td>108 min</td>\n",
       "      <td>Action &amp; Adventure, Thrillers</td>\n",
       "      <td>Eight people, some with ulterior motives, go o...</td>\n",
       "    </tr>\n",
       "    <tr>\n",
       "      <th>3</th>\n",
       "      <td>149416</td>\n",
       "      <td>s601</td>\n",
       "      <td>The Game</td>\n",
       "      <td>David Fincher</td>\n",
       "      <td>Michael Douglas, Sean Penn, Deborah Kara Unger...</td>\n",
       "      <td>United States</td>\n",
       "      <td>July 1, 2021</td>\n",
       "      <td>1997</td>\n",
       "      <td>R</td>\n",
       "      <td>129 min</td>\n",
       "      <td>Thrillers</td>\n",
       "      <td>An aloof investment banker's life spirals into...</td>\n",
       "    </tr>\n",
       "    <tr>\n",
       "      <th>4</th>\n",
       "      <td>187778</td>\n",
       "      <td>s8111</td>\n",
       "      <td>Stuart Little 2</td>\n",
       "      <td>Rob Minkoff</td>\n",
       "      <td>Michael J. Fox, Geena Davis, Hugh Laurie, Jona...</td>\n",
       "      <td>United States</td>\n",
       "      <td>January 1, 2020</td>\n",
       "      <td>2002</td>\n",
       "      <td>PG</td>\n",
       "      <td>78 min</td>\n",
       "      <td>Children &amp; Family Movies, Comedies</td>\n",
       "      <td>Zany misadventures are in store as lovable cit...</td>\n",
       "    </tr>\n",
       "  </tbody>\n",
       "</table>\n",
       "</div>"
      ],
      "text/plain": [
       "   Unnamed: 0 show_id                   Title        director  \\\n",
       "0           0   s8056  Something's Gotta Give    Nancy Meyers   \n",
       "1      118413   s6642             Dragonheart       Rob Cohen   \n",
       "2      135818    s568                   Congo  Frank Marshall   \n",
       "3      149416    s601                The Game   David Fincher   \n",
       "4      187778   s8111         Stuart Little 2     Rob Minkoff   \n",
       "\n",
       "                                                cast        country  \\\n",
       "0  Jack Nicholson, Diane Keaton, Keanu Reeves, Fr...  United States   \n",
       "1  Sean Connery, Dennis Quaid, David Thewlis, Pet...  United States   \n",
       "2  Dylan Walsh, Laura Linney, Ernie Hudson, Tim C...  United States   \n",
       "3  Michael Douglas, Sean Penn, Deborah Kara Unger...  United States   \n",
       "4  Michael J. Fox, Geena Davis, Hugh Laurie, Jona...  United States   \n",
       "\n",
       "        date_added  release_year rating duration  \\\n",
       "0   August 1, 2019          2003  PG-13  128 min   \n",
       "1  January 1, 2020          1996  PG-13  103 min   \n",
       "2     July 1, 2021          1995  PG-13  108 min   \n",
       "3     July 1, 2021          1997      R  129 min   \n",
       "4  January 1, 2020          2002     PG   78 min   \n",
       "\n",
       "                              listed_in  \\\n",
       "0             Comedies, Romantic Movies   \n",
       "1  Action & Adventure, Sci-Fi & Fantasy   \n",
       "2         Action & Adventure, Thrillers   \n",
       "3                             Thrillers   \n",
       "4    Children & Family Movies, Comedies   \n",
       "\n",
       "                                         description  \n",
       "0  Still sexy at 60, Harry Sanborn wines and dine...  \n",
       "1  In ancient times when majestic fire-breathers ...  \n",
       "2  Eight people, some with ulterior motives, go o...  \n",
       "3  An aloof investment banker's life spirals into...  \n",
       "4  Zany misadventures are in store as lovable cit...  "
      ]
     },
     "execution_count": 13,
     "metadata": {},
     "output_type": "execute_result"
    }
   ],
   "source": [
    "details.head()"
   ]
  },
  {
   "cell_type": "code",
   "execution_count": 23,
   "id": "66f0694e",
   "metadata": {},
   "outputs": [],
   "source": [
    "data['Released Since'] = pd.to_datetime(data['Rated Date']) - pd.to_datetime(data['Released Date'], format='%Y')"
   ]
  },
  {
   "cell_type": "markdown",
   "id": "7a644c24",
   "metadata": {},
   "source": [
    "# * NOTE * 5% (70,5564/14,111,287) of data is used below since Data has 14M rows to reduce runtimes/failures"
   ]
  },
  {
   "cell_type": "markdown",
   "id": "49039834",
   "metadata": {},
   "source": [
    "# Baseline 1"
   ]
  },
  {
   "cell_type": "code",
   "execution_count": 15,
   "id": "ecef7e69",
   "metadata": {},
   "outputs": [],
   "source": [
    "from tqdm import tqdm"
   ]
  },
  {
   "cell_type": "code",
   "execution_count": 22,
   "id": "ba8ecd6a",
   "metadata": {},
   "outputs": [],
   "source": [
    "def mae(pred, true):\n",
    "    return np.mean(np.abs(pred - true))\n",
    "def rmse(pred, true):\n",
    "    return np.sqrt(((pred - true) ** 2).mean())"
   ]
  },
  {
   "cell_type": "code",
   "execution_count": 23,
   "id": "0ffe4748",
   "metadata": {},
   "outputs": [],
   "source": [
    "from sklearn.model_selection import train_test_split\n",
    "\n",
    "seed = 20\n",
    "#working with half to reduce runtimes/failures\n",
    "small = data.sample(frac=0.05, replace=False, random_state=seed)\n",
    "\n",
    "\n",
    "# 60 / 20 / 20 split\n",
    "X_train, X_test, y_train, y_test = train_test_split(small,\n",
    "                    small.Rating, test_size=0.4, random_state=seed)\n",
    "\n",
    "X_valid, X_test, y_valid, y_test = train_test_split(X_test, y_test,\n",
    "                                                   test_size=0.5, random_state=seed)"
   ]
  },
  {
   "cell_type": "code",
   "execution_count": 18,
   "id": "7378135c",
   "metadata": {},
   "outputs": [
    {
     "data": {
      "text/plain": [
       "((423338, 9), (141113, 9), (141113, 9), (423338,), (141113,), (141113,))"
      ]
     },
     "execution_count": 18,
     "metadata": {},
     "output_type": "execute_result"
    }
   ],
   "source": [
    "X_train.shape, X_valid.shape, X_test.shape, y_train.shape, y_valid.shape, y_test.shape"
   ]
  },
  {
   "cell_type": "code",
   "execution_count": 25,
   "id": "9a6854d3",
   "metadata": {},
   "outputs": [
    {
     "name": "stdout",
     "output_type": "stream",
     "text": [
      "Global mean RMSE:1.0549462083557153\n",
      "Global mean MAE:0.8810598653527241\n"
     ]
    }
   ],
   "source": [
    "#baseline 1\n",
    "global_mean = X_train.Rating.mean()\n",
    "y_pred1 = [global_mean for _ in y_valid]\n",
    "rmse1 = rmse(y_valid, y_pred1)\n",
    "mae1 = mae(y_valid, y_pred1)\n",
    "print(\"Global mean RMSE:\" + str(rmse1))\n",
    "print(\"Global mean MAE:\" + str(mae1))"
   ]
  },
  {
   "cell_type": "markdown",
   "id": "3b9883cc",
   "metadata": {},
   "source": [
    "# Baseline 2"
   ]
  },
  {
   "cell_type": "code",
   "execution_count": 26,
   "id": "06cb94a7",
   "metadata": {},
   "outputs": [
    {
     "name": "stderr",
     "output_type": "stream",
     "text": [
      "100%|██████████| 423338/423338 [00:21<00:00, 19244.30it/s]\n"
     ]
    }
   ],
   "source": [
    "#baseline2\n",
    "ratings_per_user = defaultdict(list)\n",
    "ratings_per_movie = defaultdict(list)\n",
    "movies_per_user= defaultdict(set)\n",
    "users_per_movie = defaultdict(set)\n",
    "for ind, row in tqdm(X_train.iterrows(), total=X_train.shape[0]):\n",
    "    ratings_per_user[row.UserID].append(row.Rating)\n",
    "    ratings_per_movie[row.MovieID].append(row.Rating)\n",
    "    movies_per_user[row.UserID].add(row.MovieID)\n",
    "    users_per_movie[row.MovieID].add(row.UserID)"
   ]
  },
  {
   "cell_type": "code",
   "execution_count": 27,
   "id": "db6ec8f1",
   "metadata": {},
   "outputs": [],
   "source": [
    "avg_user_rating = {u: (sum(ratings_per_user[u])/len(ratings_per_user[u]))\n",
    "    if len(ratings_per_user[u]) > 0 else 0 for u in ratings_per_user}"
   ]
  },
  {
   "cell_type": "code",
   "execution_count": 28,
   "id": "beeb0ec7",
   "metadata": {},
   "outputs": [],
   "source": [
    "avg_ratings_per_user = {}\n",
    "for u in ratings_per_user:\n",
    "    avg_ratings_per_user[u] = np.mean(ratings_per_user[u])"
   ]
  },
  {
   "cell_type": "code",
   "execution_count": 80,
   "id": "8eed5b85",
   "metadata": {},
   "outputs": [
    {
     "name": "stdout",
     "output_type": "stream",
     "text": [
      "Global mean with user devations RMSE:1.1616527467847417\n",
      "Global mean with user deviations MAE:0.9001950895586495\n",
      "Global mean with movie devations RMSE:1.0003645740883667\n",
      "Global mean with movie deviations MAE:0.8030538466243965\n"
     ]
    }
   ],
   "source": [
    "dev_per_user = {u: (sum(ratings_per_user[u])/len(ratings_per_user[u])) - global_mean\n",
    "    if len(ratings_per_user[u]) > 0 else 0 for u in ratings_per_user}\n",
    "\n",
    "dev_per_movie = {m: (sum(ratings_per_movie[m])/len(ratings_per_movie[m])) - global_mean \n",
    "    if len(ratings_per_movie[m]) > 0 else 0 for m in ratings_per_movie}\n",
    "\n",
    "def baseline_2_user(row):\n",
    "    movie = row.MovieID\n",
    "    user = row.UserID\n",
    "    out = global_mean\n",
    "    if user in dev_per_user.keys():\n",
    "        out += dev_per_user[user]\n",
    "    return out\n",
    "\n",
    "def baseline_2_movie(row):\n",
    "    movie = row.MovieID\n",
    "    out = global_mean\n",
    "    if movie in dev_per_movie.keys():\n",
    "        out += dev_per_movie[movie]\n",
    "    return out\n",
    "\n",
    "y_pred_user = []\n",
    "y_pred_movie = []\n",
    "for ind, row in X_valid.iterrows():\n",
    "    y_pred_user.append(baseline_2_user(row))\n",
    "    y_pred_movie.append(baseline_2_movie(row))\n",
    "\n",
    "rmse_user = rmse(y_valid, y_pred_user)\n",
    "rmse_movie = rmse(y_valid, y_pred_movie)\n",
    "\n",
    "mae_user = mae(y_valid, y_pred_user)\n",
    "mae_movie = mae(y_valid, y_pred_movie)\n",
    "\n",
    "\n",
    "print(\"Global mean with user devations RMSE:\" + str(rmse_user))\n",
    "print(\"Global mean with user deviations MAE:\" + str(mae_user))\n",
    "print(\"Global mean with movie devations RMSE:\" + str(rmse_movie))\n",
    "print(\"Global mean with movie deviations MAE:\" + str(mae_movie))"
   ]
  },
  {
   "cell_type": "markdown",
   "id": "ca26c7c0",
   "metadata": {},
   "source": [
    "# Baseline 3"
   ]
  },
  {
   "cell_type": "code",
   "execution_count": 31,
   "id": "913574ef",
   "metadata": {},
   "outputs": [
    {
     "name": "stderr",
     "output_type": "stream",
     "text": [
      "100%|██████████| 141113/141113 [00:49<00:00, 2842.83it/s]"
     ]
    },
    {
     "name": "stdout",
     "output_type": "stream",
     "text": [
      "User similarity (tresh = 0.0) baseline MSE:0.6264050965178989\n",
      "User similarity (tresh = 0.0) baseline MAE:0.44898433351154887\n"
     ]
    },
    {
     "name": "stderr",
     "output_type": "stream",
     "text": [
      "\n"
     ]
    }
   ],
   "source": [
    "mean_per_movie = {m: (sum(ratings_per_movie[m])/len(ratings_per_movie[m])) \n",
    "    if len(ratings_per_movie[m]) > 0 else 0 for m in ratings_per_movie}\n",
    "\n",
    "mean_per_user = {m: (sum(ratings_per_movie[m])/len(ratings_per_movie[m])) \n",
    "    if len(ratings_per_movie[m]) > 0 else 0 for m in ratings_per_movie}\n",
    "\n",
    "\n",
    "\n",
    "def Jaccard(s1, s2):\n",
    "    numer = len(s1.intersection(s2))\n",
    "    denom = len(s1.union(s2))\n",
    "    if denom == 0:\n",
    "        return 0\n",
    "    return numer / denom\n",
    "\n",
    "max_sims = []\n",
    "\n",
    "def predict_rating(row,thresh):\n",
    "    ratings = []\n",
    "    sims = []\n",
    "    max_sim = 0\n",
    "    movie = row.MovieID\n",
    "    user = row.UserID\n",
    "    rating = row.Rating\n",
    "    for m in movies_per_user[user]:\n",
    "        if m == movie: continue\n",
    "        ratings.append(rating - mean_per_movie[m])\n",
    "        sim = Jaccard(users_per_movie[movie],users_per_movie[m])\n",
    "        if sim > max_sim:\n",
    "            max_sim = sim\n",
    "            \n",
    "        sims.append(sim)\n",
    "    max_sims.append(max_sim)\n",
    "    if (max_sim > 0):\n",
    "        weightedRatings = [(x*y) for x,y in zip(ratings,sims)] #NEW TEMPORAL WEIGHT GOES HERE\n",
    "        return mean_per_movie[movie]  + sum(weightedRatings) / sum(sims)\n",
    "    else:\n",
    "        return baseline_2_movie(row)\n",
    "\n",
    "#for tresh in np.arange(0, 2, .005):\n",
    "tresh = 0.000\n",
    "y_pred3 = [predict_rating(row,tresh) for ind, row in tqdm(X_valid.iterrows(), total=X_valid.shape[0], position=0)]\n",
    "rmse3 = rmse(y_valid, y_pred3)\n",
    "mae3 = mae(y_valid, y_pred3)\n",
    "print(f\"User similarity (tresh = {tresh}) baseline RMSE:\" + str(rmse3))\n",
    "print(f\"User similarity (tresh = {tresh}) baseline MAE:\" + str(mae3))\n",
    "\n"
   ]
  },
  {
   "cell_type": "markdown",
   "id": "559d4a5d",
   "metadata": {},
   "source": [
    "### 11/28 7:30AM - added\n",
    "### Temporal Models\n",
    "\n",
    "# Baseline 5\n",
    "\n",
    "1. Moving average window by movie."
   ]
  },
  {
   "cell_type": "code",
   "execution_count": 79,
   "id": "dfdaf92f",
   "metadata": {},
   "outputs": [
    {
     "name": "stdout",
     "output_type": "stream",
     "text": [
      "1.048393112636199\n"
     ]
    }
   ],
   "source": [
    "#trivial linear regressor with day month and year\n",
    "from sklearn.model_selection import train_test_split\n",
    "from sklearn.linear_model import LinearRegression\n",
    "samp = data.sample(n=500000)\n",
    "train, test = train_test_split(samp, test_size=0.25)\n",
    "x_train = pd.to_datetime(train['Rated Date'])\n",
    "x_test = pd.to_datetime(test['Rated Date'])\n",
    "y_train = train.Rating\n",
    "y_test = test.Rating\n",
    "\n",
    "def just_time(date):\n",
    "    day = date.day\n",
    "    month = date.month\n",
    "    year = date.year\n",
    "    return [day] + [month] + [year]\n",
    "train_dates = [just_time(date) for date in x_train]\n",
    "test_dates = [just_time(date) for date in x_test]\n",
    "model = LinearRegression()\n",
    "model.fit(train_dates, y_train)\n",
    "preds = model.predict(test_dates)\n",
    "print(rmse(preds,y_test))\n",
    "\n"
   ]
  },
  {
   "cell_type": "code",
   "execution_count": null,
   "id": "44317de4",
   "metadata": {},
   "outputs": [],
   "source": []
  },
  {
   "cell_type": "code",
   "execution_count": 34,
   "id": "f56705ab",
   "metadata": {},
   "outputs": [],
   "source": [
    "from datetime import datetime\n",
    "from sklearn.linear_model import LinearRegression\n",
    "import pickle"
   ]
  },
  {
   "cell_type": "code",
   "execution_count": 35,
   "id": "c41b57e8",
   "metadata": {},
   "outputs": [
    {
     "data": {
      "text/html": [
       "<div>\n",
       "<style scoped>\n",
       "    .dataframe tbody tr th:only-of-type {\n",
       "        vertical-align: middle;\n",
       "    }\n",
       "\n",
       "    .dataframe tbody tr th {\n",
       "        vertical-align: top;\n",
       "    }\n",
       "\n",
       "    .dataframe thead th {\n",
       "        text-align: right;\n",
       "    }\n",
       "</style>\n",
       "<table border=\"1\" class=\"dataframe\">\n",
       "  <thead>\n",
       "    <tr style=\"text-align: right;\">\n",
       "      <th></th>\n",
       "      <th>Unnamed: 0</th>\n",
       "      <th>MovieID</th>\n",
       "      <th>UserID</th>\n",
       "      <th>Rating</th>\n",
       "      <th>Rated Date</th>\n",
       "      <th>Released Date</th>\n",
       "      <th>Title</th>\n",
       "      <th>Released Since</th>\n",
       "      <th>show_id</th>\n",
       "    </tr>\n",
       "  </thead>\n",
       "  <tbody>\n",
       "    <tr>\n",
       "      <th>6328647</th>\n",
       "      <td>6552913</td>\n",
       "      <td>8669</td>\n",
       "      <td>552382</td>\n",
       "      <td>4</td>\n",
       "      <td>2005-08-08</td>\n",
       "      <td>1996</td>\n",
       "      <td>Executive Decision</td>\n",
       "      <td>3507 days</td>\n",
       "      <td>s6720</td>\n",
       "    </tr>\n",
       "    <tr>\n",
       "      <th>5754832</th>\n",
       "      <td>5858377</td>\n",
       "      <td>7509</td>\n",
       "      <td>374423</td>\n",
       "      <td>3</td>\n",
       "      <td>2003-10-22</td>\n",
       "      <td>2002</td>\n",
       "      <td>Die Another Day</td>\n",
       "      <td>659 days</td>\n",
       "      <td>s6610</td>\n",
       "    </tr>\n",
       "    <tr>\n",
       "      <th>8914216</th>\n",
       "      <td>9177702</td>\n",
       "      <td>11781</td>\n",
       "      <td>2207196</td>\n",
       "      <td>4</td>\n",
       "      <td>2004-01-02</td>\n",
       "      <td>1984</td>\n",
       "      <td>Indiana Jones and the Temple of Doom</td>\n",
       "      <td>7306 days</td>\n",
       "      <td>s7074</td>\n",
       "    </tr>\n",
       "    <tr>\n",
       "      <th>7484300</th>\n",
       "      <td>7747786</td>\n",
       "      <td>10231</td>\n",
       "      <td>2550125</td>\n",
       "      <td>1</td>\n",
       "      <td>2005-11-06</td>\n",
       "      <td>2004</td>\n",
       "      <td>Kung Fu Hustle</td>\n",
       "      <td>675 days</td>\n",
       "      <td>s7240</td>\n",
       "    </tr>\n",
       "    <tr>\n",
       "      <th>373631</th>\n",
       "      <td>384234</td>\n",
       "      <td>457</td>\n",
       "      <td>1424596</td>\n",
       "      <td>5</td>\n",
       "      <td>2004-08-23</td>\n",
       "      <td>2004</td>\n",
       "      <td>Kill Bill: Vol. 2</td>\n",
       "      <td>235 days</td>\n",
       "      <td>s7199</td>\n",
       "    </tr>\n",
       "  </tbody>\n",
       "</table>\n",
       "</div>"
      ],
      "text/plain": [
       "         Unnamed: 0  MovieID   UserID  Rating  Rated Date  Released Date  \\\n",
       "6328647     6552913     8669   552382       4  2005-08-08           1996   \n",
       "5754832     5858377     7509   374423       3  2003-10-22           2002   \n",
       "8914216     9177702    11781  2207196       4  2004-01-02           1984   \n",
       "7484300     7747786    10231  2550125       1  2005-11-06           2004   \n",
       "373631       384234      457  1424596       5  2004-08-23           2004   \n",
       "\n",
       "                                        Title Released Since show_id  \n",
       "6328647                    Executive Decision      3507 days   s6720  \n",
       "5754832                       Die Another Day       659 days   s6610  \n",
       "8914216  Indiana Jones and the Temple of Doom      7306 days   s7074  \n",
       "7484300                        Kung Fu Hustle       675 days   s7240  \n",
       "373631                      Kill Bill: Vol. 2       235 days   s7199  "
      ]
     },
     "execution_count": 35,
     "metadata": {},
     "output_type": "execute_result"
    }
   ],
   "source": [
    "X_train.head()"
   ]
  },
  {
   "cell_type": "code",
   "execution_count": 36,
   "id": "21751cf3",
   "metadata": {
    "scrolled": true
   },
   "outputs": [],
   "source": [
    "ratings_per_user_stamped = defaultdict(list)\n",
    "ratings_per_movie_stamped = defaultdict(list)\n",
    "for i, row in X_train.iterrows():\n",
    "    # rating ID, rated date, rating\n",
    "    ratings_per_user_stamped[row['UserID']].append([i, datetime.strptime(row['Rated Date'], \"%Y-%m-%d\"), row.Rating])\n",
    "    ratings_per_movie_stamped[row['MovieID']].append([i, datetime.strptime(row['Rated Date'], \"%Y-%m-%d\"), row.Rating])\n",
    "\n",
    "# sort by rated date\n",
    "for user, stamp in ratings_per_user_stamped.items():\n",
    "    stamp.sort(key=lambda val: val[1], reverse=True)\n",
    "    \n",
    "for user, stamp in ratings_per_movie_stamped.items():\n",
    "    stamp.sort(key=lambda val: val[1], reverse=True)"
   ]
  },
  {
   "cell_type": "code",
   "execution_count": 40,
   "id": "ac2a41a0",
   "metadata": {
    "scrolled": true
   },
   "outputs": [
    {
     "name": "stderr",
     "output_type": "stream",
     "text": [
      "100%|██████████| 423338/423338 [02:43<00:00, 2596.64it/s]\n"
     ]
    },
    {
     "name": "stdout",
     "output_type": "stream",
     "text": [
      "Sliding window training RMSE: 0.8595499925022362\n",
      "Sliding window training MAE: 0.6671385837891767\n"
     ]
    },
    {
     "name": "stderr",
     "output_type": "stream",
     "text": [
      "100%|██████████| 423338/423338 [02:47<00:00, 2534.64it/s]\n"
     ]
    },
    {
     "name": "stdout",
     "output_type": "stream",
     "text": [
      "Sliding window training RMSE: 0.8595155114284472\n",
      "Sliding window training MAE: 0.6670961340606323\n"
     ]
    },
    {
     "name": "stderr",
     "output_type": "stream",
     "text": [
      " 68%|██████▊   | 286582/423338 [01:54<00:54, 2510.74it/s]\n"
     ]
    },
    {
     "ename": "KeyboardInterrupt",
     "evalue": "",
     "output_type": "error",
     "traceback": [
      "\u001b[1;31m---------------------------------------------------------------------------\u001b[0m",
      "\u001b[1;31mKeyboardInterrupt\u001b[0m                         Traceback (most recent call last)",
      "\u001b[1;32m~\\AppData\\Local\\Temp/ipykernel_5332/4198071275.py\u001b[0m in \u001b[0;36m<module>\u001b[1;34m\u001b[0m\n\u001b[0;32m     39\u001b[0m \u001b[1;33m\u001b[0m\u001b[0m\n\u001b[0;32m     40\u001b[0m     \u001b[1;32mfor\u001b[0m \u001b[0mind\u001b[0m\u001b[1;33m,\u001b[0m \u001b[0mrow\u001b[0m \u001b[1;32min\u001b[0m \u001b[0mtqdm\u001b[0m\u001b[1;33m(\u001b[0m\u001b[0mX_train\u001b[0m\u001b[1;33m.\u001b[0m\u001b[0miterrows\u001b[0m\u001b[1;33m(\u001b[0m\u001b[1;33m)\u001b[0m\u001b[1;33m,\u001b[0m \u001b[0mtotal\u001b[0m\u001b[1;33m=\u001b[0m\u001b[0mX_train\u001b[0m\u001b[1;33m.\u001b[0m\u001b[0mshape\u001b[0m\u001b[1;33m[\u001b[0m\u001b[1;36m0\u001b[0m\u001b[1;33m]\u001b[0m\u001b[1;33m)\u001b[0m\u001b[1;33m:\u001b[0m\u001b[1;33m\u001b[0m\u001b[1;33m\u001b[0m\u001b[0m\n\u001b[1;32m---> 41\u001b[1;33m         \u001b[0mX_features\u001b[0m\u001b[1;33m.\u001b[0m\u001b[0mappend\u001b[0m\u001b[1;33m(\u001b[0m\u001b[0mpredict_rating\u001b[0m\u001b[1;33m(\u001b[0m\u001b[0mind\u001b[0m\u001b[1;33m,\u001b[0m \u001b[0mrow\u001b[0m\u001b[1;33m,\u001b[0m \u001b[0msz\u001b[0m\u001b[1;33m)\u001b[0m\u001b[1;33m)\u001b[0m\u001b[1;33m\u001b[0m\u001b[1;33m\u001b[0m\u001b[0m\n\u001b[0m\u001b[0;32m     42\u001b[0m \u001b[1;33m\u001b[0m\u001b[0m\n\u001b[0;32m     43\u001b[0m     \u001b[0mmodel\u001b[0m\u001b[1;33m.\u001b[0m\u001b[0mfit\u001b[0m\u001b[1;33m(\u001b[0m\u001b[0mX_features\u001b[0m\u001b[1;33m,\u001b[0m \u001b[0my_train\u001b[0m\u001b[1;33m)\u001b[0m\u001b[1;33m\u001b[0m\u001b[1;33m\u001b[0m\u001b[0m\n",
      "\u001b[1;32m~\\AppData\\Local\\Temp/ipykernel_5332/4198071275.py\u001b[0m in \u001b[0;36mpredict_rating\u001b[1;34m(ind, row, window_size)\u001b[0m\n\u001b[0;32m     25\u001b[0m     \u001b[0mrated_date\u001b[0m \u001b[1;33m=\u001b[0m \u001b[0mdatetime\u001b[0m\u001b[1;33m.\u001b[0m\u001b[0mstrptime\u001b[0m\u001b[1;33m(\u001b[0m\u001b[0mrow\u001b[0m\u001b[1;33m[\u001b[0m\u001b[1;34m'Rated Date'\u001b[0m\u001b[1;33m]\u001b[0m\u001b[1;33m,\u001b[0m \u001b[1;34m\"%Y-%m-%d\"\u001b[0m\u001b[1;33m)\u001b[0m\u001b[1;33m\u001b[0m\u001b[1;33m\u001b[0m\u001b[0m\n\u001b[0;32m     26\u001b[0m \u001b[1;33m\u001b[0m\u001b[0m\n\u001b[1;32m---> 27\u001b[1;33m     \u001b[1;32mfor\u001b[0m \u001b[0mi\u001b[0m\u001b[1;33m,\u001b[0m \u001b[0mstamp\u001b[0m \u001b[1;32min\u001b[0m \u001b[0menumerate\u001b[0m\u001b[1;33m(\u001b[0m\u001b[0mmovie_stamps\u001b[0m\u001b[1;33m)\u001b[0m\u001b[1;33m:\u001b[0m\u001b[1;33m\u001b[0m\u001b[1;33m\u001b[0m\u001b[0m\n\u001b[0m\u001b[0;32m     28\u001b[0m         \u001b[1;32mif\u001b[0m \u001b[0mstamp\u001b[0m\u001b[1;33m[\u001b[0m\u001b[1;36m1\u001b[0m\u001b[1;33m]\u001b[0m \u001b[1;33m<=\u001b[0m \u001b[0mrated_date\u001b[0m\u001b[1;33m:\u001b[0m\u001b[1;33m\u001b[0m\u001b[1;33m\u001b[0m\u001b[0m\n\u001b[0;32m     29\u001b[0m             \u001b[0mfeatures\u001b[0m \u001b[1;33m=\u001b[0m \u001b[0mmovie_window_features\u001b[0m\u001b[1;33m(\u001b[0m\u001b[0mmovie_stamps\u001b[0m\u001b[1;33m[\u001b[0m\u001b[0mi\u001b[0m\u001b[1;33m:\u001b[0m \u001b[0mi\u001b[0m\u001b[1;33m+\u001b[0m\u001b[0mind\u001b[0m\u001b[1;33m]\u001b[0m\u001b[1;33m,\u001b[0m \u001b[0mwindow_size\u001b[0m\u001b[1;33m,\u001b[0m \u001b[0mmovie_mean\u001b[0m\u001b[1;33m)\u001b[0m\u001b[1;33m\u001b[0m\u001b[1;33m\u001b[0m\u001b[0m\n",
      "\u001b[1;31mKeyboardInterrupt\u001b[0m: "
     ]
    }
   ],
   "source": [
    "# 1) Predict user rating by previous x timesteps of that movie.\n",
    "# If previous rating doesn't exist, return mean of that movie.\n",
    "\n",
    "# keep track of ratings per users with rated date\n",
    "# to predict rating of the user, look at the timesteps from before of that user.\n",
    "\n",
    "def movie_window_features(stamps, window_size, mean):\n",
    "    # stamps: [ [ratingID, ratedDate, Rating]]\n",
    "    # if not enough window size, use mean of the movie\n",
    "    features = [mean] * window_size\n",
    "    for i in range(min(window_size, len(stamps))):\n",
    "        features[i] = stamps[i][2]\n",
    "    return features        \n",
    "    \n",
    "def predict_rating(ind, row, window_size):\n",
    "    movie = row.MovieID\n",
    "    movie_stamps = ratings_per_movie_stamped[movie]\n",
    "    \n",
    "    if movie in mean_per_movie.keys():\n",
    "        movie_mean = mean_per_movie[movie]\n",
    "    else:\n",
    "        movie_mean = global_mean\n",
    "\n",
    "    features = [movie_mean] * window_size\n",
    "    rated_date = datetime.strptime(row['Rated Date'], \"%Y-%m-%d\")\n",
    "\n",
    "    for i, stamp in enumerate(movie_stamps):\n",
    "        if stamp[1] <= rated_date:\n",
    "            features = movie_window_features(movie_stamps[i: i+ind], window_size, movie_mean)\n",
    "            break\n",
    "    return features\n",
    "        \n",
    "window_size = 10\n",
    "\n",
    "model = LinearRegression()\n",
    "\n",
    "X_features = []\n",
    "\n",
    "for ind, row in tqdm(X_train.iterrows(), total=X_train.shape[0]):\n",
    "    X_features.append(predict_rating(ind, row, window_size))\n",
    "\n",
    "model.fit(X_features, y_train)\n",
    "\n",
    "# train score\n",
    "print(\"Sliding window training RMSE:\", rmse(y_train, model.predict(X_features)))\n",
    "print(\"Sliding window training MAE:\", mae(y_train, model.predict(X_features)))"
   ]
  },
  {
   "cell_type": "code",
   "execution_count": 230,
   "id": "fdac8b34",
   "metadata": {
    "scrolled": true
   },
   "outputs": [
    {
     "name": "stderr",
     "output_type": "stream",
     "text": [
      "100%|███████████████████████████████████████████| 141113/141113 [01:52<00:00, 1257.39it/s]"
     ]
    },
    {
     "name": "stdout",
     "output_type": "stream",
     "text": [
      "Baseline 5 valid MSE: 1.226954132557433\n",
      "Baseline 5 valid MAE: 0.8837190580624726\n"
     ]
    },
    {
     "name": "stderr",
     "output_type": "stream",
     "text": [
      "\n"
     ]
    }
   ],
   "source": [
    "mse5 = []\n",
    "mae5 = []\n",
    "for i, (ind, row) in enumerate(tqdm(X_valid.iterrows(), total=X_valid.shape[0])):\n",
    "    features = predict_rating(ind, row, window_size)\n",
    "    pred = model.predict([features])\n",
    "    mse5.append(mse(pred, y_valid.iloc[[i]]))\n",
    "    mae5.append(mae(pred, y_valid.iloc[[i]]))\n",
    "\n",
    "print(\"Baseline 5 valid MSE:\", np.mean(mse5))\n",
    "print(\"Baseline 5 valid MAE:\", np.mean(mae5))"
   ]
  },
  {
   "cell_type": "markdown",
   "id": "2a6e5643",
   "metadata": {},
   "source": [
    "## Results of baseline 5\n",
    "\n",
    "| window_size | Train MSE | Train MAE | Valid MSE | Valid MAE |\n",
    "| --- | --- | --- | --- | --- |\n",
    "| 1 | 0.8358 | 0.7070 | 1.2561 | 0.9045 |\n",
    "| 3 | 0.7541 | 0.6724 | 1.2536 | 0.8948 |\n",
    "| 5 | 0.7424 | 0.6685 | 1.2386 | 0.8884 |\n",
    "| 10 | 0.7390 | 0.6673 | 1.226 | 0.8837 |\n",
    "\n"
   ]
  },
  {
   "cell_type": "code",
   "execution_count": null,
   "id": "79e5387e",
   "metadata": {},
   "outputs": [],
   "source": [
    "    \n",
    "    \n",
    "    \n",
    "#     user = row.UserID\n",
    "#     user_stamps = ratings_per_user_stamped[user]\n",
    "#     print(user_stamps)\n",
    "    \n",
    "# y_pred5 = [predict_rating(ind, row,tresh) for ind, row in tqdm(X_valid.iterrows(), total=X_valid.shape[0], position=0)]\n",
    "\n",
    "# mse5 = mse(y_valid, y_pred5)\n",
    "# mae5 = mae(y_valid, y_pred5)\n",
    "# print(f\"Window size = {window_size}) baseline 5 MSE:\" + str(mse5))\n",
    "# print(f\"Window size = {window_size}) baseline 5 MAE:\" + str(mae5))"
   ]
  },
  {
   "cell_type": "code",
   "execution_count": 148,
   "id": "c540fea1",
   "metadata": {
    "scrolled": true
   },
   "outputs": [
    {
     "data": {
      "text/html": [
       "<div>\n",
       "<style scoped>\n",
       "    .dataframe tbody tr th:only-of-type {\n",
       "        vertical-align: middle;\n",
       "    }\n",
       "\n",
       "    .dataframe tbody tr th {\n",
       "        vertical-align: top;\n",
       "    }\n",
       "\n",
       "    .dataframe thead th {\n",
       "        text-align: right;\n",
       "    }\n",
       "</style>\n",
       "<table border=\"1\" class=\"dataframe\">\n",
       "  <thead>\n",
       "    <tr style=\"text-align: right;\">\n",
       "      <th></th>\n",
       "      <th>Unnamed: 0</th>\n",
       "      <th>MovieID</th>\n",
       "      <th>UserID</th>\n",
       "      <th>Rating</th>\n",
       "      <th>Rated Date</th>\n",
       "      <th>Released Date</th>\n",
       "      <th>Title</th>\n",
       "      <th>Released Since</th>\n",
       "      <th>show_id</th>\n",
       "      <th>month</th>\n",
       "      <th>day_of_month</th>\n",
       "      <th>year</th>\n",
       "    </tr>\n",
       "  </thead>\n",
       "  <tbody>\n",
       "    <tr>\n",
       "      <th>6328647</th>\n",
       "      <td>6552913</td>\n",
       "      <td>8669</td>\n",
       "      <td>552382</td>\n",
       "      <td>4</td>\n",
       "      <td>2005-08-08</td>\n",
       "      <td>1996</td>\n",
       "      <td>Executive Decision</td>\n",
       "      <td>3507 days</td>\n",
       "      <td>s6720</td>\n",
       "      <td>08</td>\n",
       "      <td>08</td>\n",
       "      <td>2005</td>\n",
       "    </tr>\n",
       "    <tr>\n",
       "      <th>5754832</th>\n",
       "      <td>5858377</td>\n",
       "      <td>7509</td>\n",
       "      <td>374423</td>\n",
       "      <td>3</td>\n",
       "      <td>2003-10-22</td>\n",
       "      <td>2002</td>\n",
       "      <td>Die Another Day</td>\n",
       "      <td>659 days</td>\n",
       "      <td>s6610</td>\n",
       "      <td>10</td>\n",
       "      <td>22</td>\n",
       "      <td>2003</td>\n",
       "    </tr>\n",
       "    <tr>\n",
       "      <th>8914216</th>\n",
       "      <td>9177702</td>\n",
       "      <td>11781</td>\n",
       "      <td>2207196</td>\n",
       "      <td>4</td>\n",
       "      <td>2004-01-02</td>\n",
       "      <td>1984</td>\n",
       "      <td>Indiana Jones and the Temple of Doom</td>\n",
       "      <td>7306 days</td>\n",
       "      <td>s7074</td>\n",
       "      <td>01</td>\n",
       "      <td>02</td>\n",
       "      <td>2004</td>\n",
       "    </tr>\n",
       "    <tr>\n",
       "      <th>7484300</th>\n",
       "      <td>7747786</td>\n",
       "      <td>10231</td>\n",
       "      <td>2550125</td>\n",
       "      <td>1</td>\n",
       "      <td>2005-11-06</td>\n",
       "      <td>2004</td>\n",
       "      <td>Kung Fu Hustle</td>\n",
       "      <td>675 days</td>\n",
       "      <td>s7240</td>\n",
       "      <td>11</td>\n",
       "      <td>06</td>\n",
       "      <td>2005</td>\n",
       "    </tr>\n",
       "    <tr>\n",
       "      <th>373631</th>\n",
       "      <td>384234</td>\n",
       "      <td>457</td>\n",
       "      <td>1424596</td>\n",
       "      <td>5</td>\n",
       "      <td>2004-08-23</td>\n",
       "      <td>2004</td>\n",
       "      <td>Kill Bill: Vol. 2</td>\n",
       "      <td>235 days</td>\n",
       "      <td>s7199</td>\n",
       "      <td>08</td>\n",
       "      <td>23</td>\n",
       "      <td>2004</td>\n",
       "    </tr>\n",
       "  </tbody>\n",
       "</table>\n",
       "</div>"
      ],
      "text/plain": [
       "         Unnamed: 0  MovieID   UserID  Rating  Rated Date  Released Date  \\\n",
       "6328647     6552913     8669   552382       4  2005-08-08           1996   \n",
       "5754832     5858377     7509   374423       3  2003-10-22           2002   \n",
       "8914216     9177702    11781  2207196       4  2004-01-02           1984   \n",
       "7484300     7747786    10231  2550125       1  2005-11-06           2004   \n",
       "373631       384234      457  1424596       5  2004-08-23           2004   \n",
       "\n",
       "                                        Title Released Since show_id month  \\\n",
       "6328647                    Executive Decision      3507 days   s6720    08   \n",
       "5754832                       Die Another Day       659 days   s6610    10   \n",
       "8914216  Indiana Jones and the Temple of Doom      7306 days   s7074    01   \n",
       "7484300                        Kung Fu Hustle       675 days   s7240    11   \n",
       "373631                      Kill Bill: Vol. 2       235 days   s7199    08   \n",
       "\n",
       "        day_of_month  year  \n",
       "6328647           08  2005  \n",
       "5754832           22  2003  \n",
       "8914216           02  2004  \n",
       "7484300           06  2005  \n",
       "373631            23  2004  "
      ]
     },
     "execution_count": 148,
     "metadata": {},
     "output_type": "execute_result"
    }
   ],
   "source": [
    "X_train.head()"
   ]
  },
  {
   "cell_type": "markdown",
   "id": "56aeda48",
   "metadata": {},
   "source": [
    "### 11/28 7:30AM - added\n",
    "### Factorized Machines Models\n",
    "\n",
    "# Baseline 6\n",
    "\n",
    "1. Latent factor models\n",
    "    - \n"
   ]
  },
  {
   "cell_type": "code",
   "execution_count": 2,
   "id": "ff2c51d7",
   "metadata": {},
   "outputs": [],
   "source": [
    "from sklearn.model_selection import train_test_split\n",
    "from sklearn.metrics import mean_squared_error as mse\n",
    "\n",
    "data = pd.read_csv('data/data.csv')\n",
    "details = pd.read_csv('data/movie_detials.csv')\n",
    "seed = 20\n",
    "#working with half to reduce runtimes/failures\n",
    "small = data.sample(frac=0.05, replace=False, random_state=seed)\n",
    "\n",
    "\n",
    "# 60 / 20 / 20 split\n",
    "X_train, X_test, y_train, y_test = train_test_split(small,\n",
    "                    small.Rating, test_size=0.4, random_state=seed)\n",
    "\n",
    "X_valid, X_test, y_valid, y_test = train_test_split(X_test, y_test,\n",
    "                                                   test_size=0.5, random_state=seed)\n"
   ]
  },
  {
   "cell_type": "code",
   "execution_count": 33,
   "id": "e0cfd3c4",
   "metadata": {
    "scrolled": true
   },
   "outputs": [
    {
     "name": "stdout",
     "output_type": "stream",
     "text": [
      "Evaluating MSE, MAE of algorithm SVD on 5 split(s).\n",
      "\n",
      "                  Fold 1  Fold 2  Fold 3  Fold 4  Fold 5  Mean    Std     \n",
      "MSE (testset)     0.9929  0.9934  1.0012  0.9927  0.9946  0.9950  0.0032  \n",
      "MAE (testset)     0.7942  0.7925  0.7964  0.7930  0.7952  0.7943  0.0014  \n",
      "Fit time          6.46    6.15    6.37    6.38    6.45    6.36    0.11    \n",
      "Test time         1.04    0.48    0.48    1.00    0.47    0.69    0.27    \n"
     ]
    },
    {
     "data": {
      "text/plain": [
       "{'test_mse': array([0.99294404, 0.9934367 , 1.00124265, 0.99271232, 0.99463695]),\n",
       " 'test_mae': array([0.79423931, 0.79250555, 0.79639337, 0.79297743, 0.795157  ]),\n",
       " 'fit_time': (6.458282470703125,\n",
       "  6.151134490966797,\n",
       "  6.373811960220337,\n",
       "  6.380130290985107,\n",
       "  6.453195571899414),\n",
       " 'test_time': (1.0447471141815186,\n",
       "  0.48354530334472656,\n",
       "  0.4750077724456787,\n",
       "  1.0015232563018799,\n",
       "  0.4651298522949219)}"
      ]
     },
     "execution_count": 33,
     "metadata": {},
     "output_type": "execute_result"
    }
   ],
   "source": [
    "# 1) latent factor model\n",
    "\n",
    "# ! pip install scikit-surprise\n",
    "from surprise import SVD, Reader, Dataset\n",
    "from surprise.model_selection import cross_validate\n",
    "\n",
    "reader = Reader(rating_scale=(1, 5))\n",
    "\n",
    "dataset = small.reset_index(drop=True)\n",
    "dataset.rename(columns={'UserID': \"userID\", \"MovieID\":\"itemID\", \"Rating\":\"rating\"}, inplace=True)\n",
    "dataset = Dataset.load_from_df(dataset[['userID', 'itemID', 'rating']], reader)\n",
    "# trainset, testset = train_test_split(dataset, test_size=0.25)\n",
    "\n",
    "model = SVD()\n",
    "# model.fit(trainset)\n",
    "\n",
    "# train_pred = model.test(trainset)\n",
    "# mse6_train = mse(np.array([p.est for p in train_pred]), np.array([t[2] for t in trainset]))\n",
    "# mae6_train = mae(np.array([p.est for p in train_pred]), np.array([t[2] for t in trainset]))\n",
    "\n",
    "# print(\"MSE6 train:\", mse6)\n",
    "# print(\"MAE6 trian:\", mae6)\n",
    "\n",
    "# predictions = model.test(testset)\n",
    "\n",
    "# mse6_valid = mse(np.array([p.est for p in predictions]), np.array([t[2] for t in testset]))\n",
    "# mae6_valid = mae(np.array([p.est for p in predictions]), np.array([t[2] for t in testset]))\n",
    "\n",
    "# print(\"MSE6 test:\", mse6)\n",
    "# print(\"MAE6 test:\", mae6)\n",
    "\n",
    "cross_validate(model, dataset, measures=[\"MSE\", \"MAE\"], cv=5, verbose=True)"
   ]
  },
  {
   "cell_type": "code",
   "execution_count": null,
   "id": "e78b7de6",
   "metadata": {},
   "outputs": [],
   "source": [
    "# Evaluating MSE, MAE of algorithm SVD on 5 split(s).\n",
    "\n",
    "#                   Fold 1  Fold 2  Fold 3  Fold 4  Fold 5  Mean    Std     \n",
    "# MSE (testset)     0.9929  0.9934  1.0012  0.9927  0.9946  0.9950  0.0032  \n",
    "# MAE (testset)     0.7942  0.7925  0.7964  0.7930  0.7952  0.7943  0.0014  \n",
    "# Fit time          6.46    6.15    6.37    6.38    6.45    6.36    0.11    \n",
    "# Test time         1.04    0.48    0.48    1.00    0.47    0.69    0.27    \n",
    "# {'test_mse': array([0.99294404, 0.9934367 , 1.00124265, 0.99271232, 0.99463695]),\n",
    "#  'test_mae': array([0.79423931, 0.79250555, 0.79639337, 0.79297743, 0.795157  ]),\n",
    "#  'fit_time': (6.458282470703125,\n",
    "#   6.151134490966797,\n",
    "#   6.373811960220337,\n",
    "#   6.380130290985107,\n",
    "#   6.453195571899414),\n",
    "#  'test_time': (1.0447471141815186,\n",
    "#   0.48354530334472656,\n",
    "#   0.4750077724456787,\n",
    "#   1.0015232563018799,\n",
    "#   0.4651298522949219)}"
   ]
  },
  {
   "cell_type": "code",
   "execution_count": 34,
   "id": "af553303",
   "metadata": {},
   "outputs": [],
   "source": [
    "# SVD doesn't perform as well, which is expected.\n",
    "# SVD is not great at cold start problems because it only uses userID, movieID, to predict rating.\n",
    "# Since our dataset is sparse and additional features are not used, values from SVD for new users and items \n",
    "# revert to zero because of the regularizer."
   ]
  },
  {
   "cell_type": "code",
   "execution_count": 107,
   "id": "da773418",
   "metadata": {},
   "outputs": [],
   "source": [
    "# TODO: show that data is sparse to explain"
   ]
  },
  {
   "cell_type": "markdown",
   "id": "577fb0ec",
   "metadata": {},
   "source": [
    "# Baseline 7\n",
    "\n",
    "## Factorization machines\n",
    "\n",
    "### extends latent-factor\n",
    "\n",
    "- 1) User and Movie ID\n",
    "- 2) User + MovieID + Genre + release Year"
   ]
  },
  {
   "cell_type": "code",
   "execution_count": 81,
   "id": "2cd98690",
   "metadata": {},
   "outputs": [],
   "source": [
    "# https://github.com/ibayer/fastFM\n",
    "from fastFM import als\n",
    "from scipy.spatial import distance\n",
    "from scipy.sparse import lil_matrix"
   ]
  },
  {
   "cell_type": "code",
   "execution_count": 82,
   "id": "e61f1bc9",
   "metadata": {},
   "outputs": [
    {
     "name": "stderr",
     "output_type": "stream",
     "text": [
      "100%|██████████████████████████████████████████| 705564/705564 [00:21<00:00, 32878.56it/s]\n"
     ]
    }
   ],
   "source": [
    "# basline 6\n",
    "userIDs,itemIDs = {},{}\n",
    "\n",
    "for idx, d in tqdm(small.iterrows(), total=len(small)):\n",
    "    u,i = d.UserID, d.MovieID\n",
    "    if not u in userIDs: userIDs[u] = len(userIDs)\n",
    "    if not i in itemIDs: itemIDs[i] = len(itemIDs)\n",
    "    \n",
    "nUsers,nItems = len(userIDs),len(itemIDs)"
   ]
  },
  {
   "cell_type": "code",
   "execution_count": 110,
   "id": "5eb02076",
   "metadata": {},
   "outputs": [
    {
     "data": {
      "text/plain": [
       "1942"
      ]
     },
     "execution_count": 110,
     "metadata": {},
     "output_type": "execute_result"
    }
   ],
   "source": [
    "medium.release_year.min()"
   ]
  },
  {
   "cell_type": "code",
   "execution_count": 83,
   "id": "dea9960e",
   "metadata": {},
   "outputs": [
    {
     "data": {
      "text/plain": [
       "(259040, 633)"
      ]
     },
     "execution_count": 83,
     "metadata": {},
     "output_type": "execute_result"
    }
   ],
   "source": [
    "nUsers, nItems"
   ]
  },
  {
   "cell_type": "code",
   "execution_count": 37,
   "id": "8663586b",
   "metadata": {},
   "outputs": [
    {
     "data": {
      "text/plain": [
       "(705564, 259673)"
      ]
     },
     "execution_count": 37,
     "metadata": {},
     "output_type": "execute_result"
    }
   ],
   "source": [
    "X = lil_matrix((small.shape[0], nUsers+nItems))\n",
    "\n",
    "print(X.shape)\n",
    "\n",
    "for i in trange(small.shape[0]):\n",
    "    user = userIDs[small.iloc[i].UserID]\n",
    "    item = itemIDs[small.iloc[i].MovieID]\n",
    "    X[i,user] = 1 # One-hot encoding of user\n",
    "    X[i,nUsers + item] = 1 # One-hot encoding of item"
   ]
  },
  {
   "cell_type": "code",
   "execution_count": 70,
   "id": "4dac7cd0",
   "metadata": {},
   "outputs": [
    {
     "data": {
      "text/html": [
       "<style>#sk-container-id-9 {color: black;background-color: white;}#sk-container-id-9 pre{padding: 0;}#sk-container-id-9 div.sk-toggleable {background-color: white;}#sk-container-id-9 label.sk-toggleable__label {cursor: pointer;display: block;width: 100%;margin-bottom: 0;padding: 0.3em;box-sizing: border-box;text-align: center;}#sk-container-id-9 label.sk-toggleable__label-arrow:before {content: \"▸\";float: left;margin-right: 0.25em;color: #696969;}#sk-container-id-9 label.sk-toggleable__label-arrow:hover:before {color: black;}#sk-container-id-9 div.sk-estimator:hover label.sk-toggleable__label-arrow:before {color: black;}#sk-container-id-9 div.sk-toggleable__content {max-height: 0;max-width: 0;overflow: hidden;text-align: left;background-color: #f0f8ff;}#sk-container-id-9 div.sk-toggleable__content pre {margin: 0.2em;color: black;border-radius: 0.25em;background-color: #f0f8ff;}#sk-container-id-9 input.sk-toggleable__control:checked~div.sk-toggleable__content {max-height: 200px;max-width: 100%;overflow: auto;}#sk-container-id-9 input.sk-toggleable__control:checked~label.sk-toggleable__label-arrow:before {content: \"▾\";}#sk-container-id-9 div.sk-estimator input.sk-toggleable__control:checked~label.sk-toggleable__label {background-color: #d4ebff;}#sk-container-id-9 div.sk-label input.sk-toggleable__control:checked~label.sk-toggleable__label {background-color: #d4ebff;}#sk-container-id-9 input.sk-hidden--visually {border: 0;clip: rect(1px 1px 1px 1px);clip: rect(1px, 1px, 1px, 1px);height: 1px;margin: -1px;overflow: hidden;padding: 0;position: absolute;width: 1px;}#sk-container-id-9 div.sk-estimator {font-family: monospace;background-color: #f0f8ff;border: 1px dotted black;border-radius: 0.25em;box-sizing: border-box;margin-bottom: 0.5em;}#sk-container-id-9 div.sk-estimator:hover {background-color: #d4ebff;}#sk-container-id-9 div.sk-parallel-item::after {content: \"\";width: 100%;border-bottom: 1px solid gray;flex-grow: 1;}#sk-container-id-9 div.sk-label:hover label.sk-toggleable__label {background-color: #d4ebff;}#sk-container-id-9 div.sk-serial::before {content: \"\";position: absolute;border-left: 1px solid gray;box-sizing: border-box;top: 0;bottom: 0;left: 50%;z-index: 0;}#sk-container-id-9 div.sk-serial {display: flex;flex-direction: column;align-items: center;background-color: white;padding-right: 0.2em;padding-left: 0.2em;position: relative;}#sk-container-id-9 div.sk-item {position: relative;z-index: 1;}#sk-container-id-9 div.sk-parallel {display: flex;align-items: stretch;justify-content: center;background-color: white;position: relative;}#sk-container-id-9 div.sk-item::before, #sk-container-id-9 div.sk-parallel-item::before {content: \"\";position: absolute;border-left: 1px solid gray;box-sizing: border-box;top: 0;bottom: 0;left: 50%;z-index: -1;}#sk-container-id-9 div.sk-parallel-item {display: flex;flex-direction: column;z-index: 1;position: relative;background-color: white;}#sk-container-id-9 div.sk-parallel-item:first-child::after {align-self: flex-end;width: 50%;}#sk-container-id-9 div.sk-parallel-item:last-child::after {align-self: flex-start;width: 50%;}#sk-container-id-9 div.sk-parallel-item:only-child::after {width: 0;}#sk-container-id-9 div.sk-dashed-wrapped {border: 1px dashed gray;margin: 0 0.4em 0.5em 0.4em;box-sizing: border-box;padding-bottom: 0.4em;background-color: white;}#sk-container-id-9 div.sk-label label {font-family: monospace;font-weight: bold;display: inline-block;line-height: 1.2em;}#sk-container-id-9 div.sk-label-container {text-align: center;}#sk-container-id-9 div.sk-container {/* jupyter's `normalize.less` sets `[hidden] { display: none; }` but bootstrap.min.css set `[hidden] { display: none !important; }` so we also need the `!important` here to be able to override the default hidden behavior on the sphinx rendered scikit-learn.org. See: https://github.com/scikit-learn/scikit-learn/issues/21755 */display: inline-block !important;position: relative;}#sk-container-id-9 div.sk-text-repr-fallback {display: none;}</style><div id=\"sk-container-id-9\" class=\"sk-top-container\"><div class=\"sk-text-repr-fallback\"><pre>FMRegression(l2_reg_V=1, l2_reg_w=1, n_iter=500, random_state=20, rank=5)</pre><b>In a Jupyter environment, please rerun this cell to show the HTML representation or trust the notebook. <br />On GitHub, the HTML representation is unable to render, please try loading this page with nbviewer.org.</b></div><div class=\"sk-container\" hidden><div class=\"sk-item\"><div class=\"sk-estimator sk-toggleable\"><input class=\"sk-toggleable__control sk-hidden--visually\" id=\"sk-estimator-id-9\" type=\"checkbox\" checked><label for=\"sk-estimator-id-9\" class=\"sk-toggleable__label sk-toggleable__label-arrow\">FMRegression</label><div class=\"sk-toggleable__content\"><pre>FMRegression(l2_reg_V=1, l2_reg_w=1, n_iter=500, random_state=20, rank=5)</pre></div></div></div></div></div>"
      ],
      "text/plain": [
       "FMRegression(l2_reg_V=1, l2_reg_w=1, n_iter=500, random_state=20, rank=5)"
      ]
     },
     "execution_count": 70,
     "metadata": {},
     "output_type": "execute_result"
    }
   ],
   "source": [
    "seed = 20\n",
    "\n",
    "y = small.Rating\n",
    "\n",
    "fm = als.FMRegression(n_iter=500, init_stdev=0.1, rank=5, random_state=seed, l2_reg_w=1, l2_reg_V=1)\n",
    "\n",
    "\n",
    "# 80 / 10 / 10 split\n",
    "X_train, X_test, y_train, y_test = train_test_split(X, y, test_size=0.2, random_state=seed)\n",
    "\n",
    "X_valid, X_test, y_valid, y_test = train_test_split(X_test, y_test, test_size=0.5, random_state=seed)\n",
    "fm.fit(X_train, y_train)"
   ]
  },
  {
   "cell_type": "code",
   "execution_count": 71,
   "id": "e85f86ca",
   "metadata": {},
   "outputs": [
    {
     "name": "stdout",
     "output_type": "stream",
     "text": [
      "Baseline train 7 FM: RMSE: 0.19859783123430458\n",
      "Baseline train 7 FM: MAE: 0.0962419354018597\n",
      "Baseline valid 7 FM: RMSE: 1.3598246989410048\n",
      "Baseline valid 7 FM: MAE: 1.0321521189169733\n"
     ]
    }
   ],
   "source": [
    "y_pred_train = fm.predict(X_train)\n",
    "print(\"Baseline train 7 FM: RMSE:\", np.sqrt(mse(y_pred_train, y_train)))\n",
    "print(\"Baseline train 7 FM: MAE:\", mae(y_pred_train, y_train))\n",
    "\n",
    "y_pred_valid = fm.predict(X_valid)\n",
    "print(\"Baseline valid 7 FM: RMSE:\", np.sqrt(mse(y_pred_valid, y_valid)))\n",
    "print(\"Baseline valid 7 FM: MAE:\", mae(y_pred_valid, y_valid))"
   ]
  },
  {
   "cell_type": "code",
   "execution_count": 190,
   "id": "0627e25a",
   "metadata": {},
   "outputs": [],
   "source": [
    "# Baseline train 7 FM: RMSE: 0.19859783123430458\n",
    "# Baseline train 7 FM: MAE: 0.0962419354018597\n",
    "# Baseline valid 7 FM: RMSE: 1.3598246989410048\n",
    "# Baseline valid 7 FM: MAE: 1.0321521189169733"
   ]
  },
  {
   "cell_type": "markdown",
   "id": "9069e264",
   "metadata": {},
   "source": [
    "2) User ID + MovieID + Genre"
   ]
  },
  {
   "cell_type": "code",
   "execution_count": 111,
   "id": "3cd8d3d3",
   "metadata": {},
   "outputs": [],
   "source": [
    "# baseline 7b\n",
    "medium = small.merge(details, on=\"show_id\")"
   ]
  },
  {
   "cell_type": "code",
   "execution_count": 145,
   "id": "45e644eb",
   "metadata": {},
   "outputs": [
    {
     "data": {
      "text/html": [
       "<div>\n",
       "<style scoped>\n",
       "    .dataframe tbody tr th:only-of-type {\n",
       "        vertical-align: middle;\n",
       "    }\n",
       "\n",
       "    .dataframe tbody tr th {\n",
       "        vertical-align: top;\n",
       "    }\n",
       "\n",
       "    .dataframe thead th {\n",
       "        text-align: right;\n",
       "    }\n",
       "</style>\n",
       "<table border=\"1\" class=\"dataframe\">\n",
       "  <thead>\n",
       "    <tr style=\"text-align: right;\">\n",
       "      <th></th>\n",
       "      <th>Unnamed: 0</th>\n",
       "      <th>show_id</th>\n",
       "      <th>Title</th>\n",
       "      <th>director</th>\n",
       "      <th>cast</th>\n",
       "      <th>country</th>\n",
       "      <th>date_added</th>\n",
       "      <th>release_year</th>\n",
       "      <th>rating</th>\n",
       "      <th>duration</th>\n",
       "      <th>listed_in</th>\n",
       "      <th>description</th>\n",
       "    </tr>\n",
       "  </thead>\n",
       "  <tbody>\n",
       "    <tr>\n",
       "      <th>222</th>\n",
       "      <td>5539372</td>\n",
       "      <td>s562</td>\n",
       "      <td>Austin Powers in Goldmember</td>\n",
       "      <td>Jay Roach</td>\n",
       "      <td>Mike Myers, Beyoncé Knowles-Carter, Seth Green...</td>\n",
       "      <td>United States</td>\n",
       "      <td>July 1, 2021</td>\n",
       "      <td>2002</td>\n",
       "      <td>PG-13</td>\n",
       "      <td>94 min</td>\n",
       "      <td>Action &amp; Adventure, Comedies</td>\n",
       "      <td>The world's most shagadelic spy continues his ...</td>\n",
       "    </tr>\n",
       "  </tbody>\n",
       "</table>\n",
       "</div>"
      ],
      "text/plain": [
       "     Unnamed: 0 show_id                        Title   director  \\\n",
       "222     5539372    s562  Austin Powers in Goldmember  Jay Roach   \n",
       "\n",
       "                                                  cast        country  \\\n",
       "222  Mike Myers, Beyoncé Knowles-Carter, Seth Green...  United States   \n",
       "\n",
       "       date_added  release_year rating duration                     listed_in  \\\n",
       "222  July 1, 2021          2002  PG-13   94 min  Action & Adventure, Comedies   \n",
       "\n",
       "                                           description  \n",
       "222  The world's most shagadelic spy continues his ...  "
      ]
     },
     "execution_count": 145,
     "metadata": {},
     "output_type": "execute_result"
    }
   ],
   "source": [
    "small\n",
    "show_id = 's562'\n",
    "details[details['show_id'] == 's562']"
   ]
  },
  {
   "cell_type": "code",
   "execution_count": 150,
   "id": "5700509c",
   "metadata": {
    "scrolled": false
   },
   "outputs": [
    {
     "data": {
      "text/plain": [
       "19"
      ]
     },
     "execution_count": 150,
     "metadata": {},
     "output_type": "execute_result"
    }
   ],
   "source": [
    "len(genres_series)"
   ]
  },
  {
   "cell_type": "code",
   "execution_count": 187,
   "id": "798b4555",
   "metadata": {
    "scrolled": true
   },
   "outputs": [
    {
     "name": "stderr",
     "output_type": "stream",
     "text": [
      "100%|███████████████████████████████████████████| 705564/705564 [02:15<00:00, 5212.59it/s]\n"
     ]
    }
   ],
   "source": [
    "minYear = details.release_year.min()\n",
    "maxYear = details.release_year.max()\n",
    "nYears = maxYear - minYear + 1\n",
    "\n",
    "genres_series = pd.DataFrame(details.listed_in.str.split(',').tolist()).stack().str.strip().value_counts()\n",
    "nGenres = len(genres)\n",
    "\n",
    "X = lil_matrix((medium.shape[0], nUsers+nItems+nYears+nGenres))\n",
    "\n",
    "for i, row in tqdm(medium.iterrows(), total=medium.shape[0]):\n",
    "    user = userIDs[row.UserID]\n",
    "    item = itemIDs[row.MovieID]\n",
    "    year = row.release_year - minYear\n",
    "    X[i,user] = 1 # One-hot encoding of user\n",
    "    X[i,nUsers + item] = 1 # One-hot encoding of item\n",
    "    X[i,nUsers+item + year] = 1\n",
    "    \n",
    "    genres = row.listed_in.split(',')\n",
    "    for g in genres:\n",
    "        g_idx = genres_series.index == g.strip()\n",
    "        X[i, nUsers+nItems+g_idx] = 1"
   ]
  },
  {
   "cell_type": "code",
   "execution_count": 188,
   "id": "13f3b7c7",
   "metadata": {},
   "outputs": [
    {
     "data": {
      "text/html": [
       "<style>#sk-container-id-10 {color: black;background-color: white;}#sk-container-id-10 pre{padding: 0;}#sk-container-id-10 div.sk-toggleable {background-color: white;}#sk-container-id-10 label.sk-toggleable__label {cursor: pointer;display: block;width: 100%;margin-bottom: 0;padding: 0.3em;box-sizing: border-box;text-align: center;}#sk-container-id-10 label.sk-toggleable__label-arrow:before {content: \"▸\";float: left;margin-right: 0.25em;color: #696969;}#sk-container-id-10 label.sk-toggleable__label-arrow:hover:before {color: black;}#sk-container-id-10 div.sk-estimator:hover label.sk-toggleable__label-arrow:before {color: black;}#sk-container-id-10 div.sk-toggleable__content {max-height: 0;max-width: 0;overflow: hidden;text-align: left;background-color: #f0f8ff;}#sk-container-id-10 div.sk-toggleable__content pre {margin: 0.2em;color: black;border-radius: 0.25em;background-color: #f0f8ff;}#sk-container-id-10 input.sk-toggleable__control:checked~div.sk-toggleable__content {max-height: 200px;max-width: 100%;overflow: auto;}#sk-container-id-10 input.sk-toggleable__control:checked~label.sk-toggleable__label-arrow:before {content: \"▾\";}#sk-container-id-10 div.sk-estimator input.sk-toggleable__control:checked~label.sk-toggleable__label {background-color: #d4ebff;}#sk-container-id-10 div.sk-label input.sk-toggleable__control:checked~label.sk-toggleable__label {background-color: #d4ebff;}#sk-container-id-10 input.sk-hidden--visually {border: 0;clip: rect(1px 1px 1px 1px);clip: rect(1px, 1px, 1px, 1px);height: 1px;margin: -1px;overflow: hidden;padding: 0;position: absolute;width: 1px;}#sk-container-id-10 div.sk-estimator {font-family: monospace;background-color: #f0f8ff;border: 1px dotted black;border-radius: 0.25em;box-sizing: border-box;margin-bottom: 0.5em;}#sk-container-id-10 div.sk-estimator:hover {background-color: #d4ebff;}#sk-container-id-10 div.sk-parallel-item::after {content: \"\";width: 100%;border-bottom: 1px solid gray;flex-grow: 1;}#sk-container-id-10 div.sk-label:hover label.sk-toggleable__label {background-color: #d4ebff;}#sk-container-id-10 div.sk-serial::before {content: \"\";position: absolute;border-left: 1px solid gray;box-sizing: border-box;top: 0;bottom: 0;left: 50%;z-index: 0;}#sk-container-id-10 div.sk-serial {display: flex;flex-direction: column;align-items: center;background-color: white;padding-right: 0.2em;padding-left: 0.2em;position: relative;}#sk-container-id-10 div.sk-item {position: relative;z-index: 1;}#sk-container-id-10 div.sk-parallel {display: flex;align-items: stretch;justify-content: center;background-color: white;position: relative;}#sk-container-id-10 div.sk-item::before, #sk-container-id-10 div.sk-parallel-item::before {content: \"\";position: absolute;border-left: 1px solid gray;box-sizing: border-box;top: 0;bottom: 0;left: 50%;z-index: -1;}#sk-container-id-10 div.sk-parallel-item {display: flex;flex-direction: column;z-index: 1;position: relative;background-color: white;}#sk-container-id-10 div.sk-parallel-item:first-child::after {align-self: flex-end;width: 50%;}#sk-container-id-10 div.sk-parallel-item:last-child::after {align-self: flex-start;width: 50%;}#sk-container-id-10 div.sk-parallel-item:only-child::after {width: 0;}#sk-container-id-10 div.sk-dashed-wrapped {border: 1px dashed gray;margin: 0 0.4em 0.5em 0.4em;box-sizing: border-box;padding-bottom: 0.4em;background-color: white;}#sk-container-id-10 div.sk-label label {font-family: monospace;font-weight: bold;display: inline-block;line-height: 1.2em;}#sk-container-id-10 div.sk-label-container {text-align: center;}#sk-container-id-10 div.sk-container {/* jupyter's `normalize.less` sets `[hidden] { display: none; }` but bootstrap.min.css set `[hidden] { display: none !important; }` so we also need the `!important` here to be able to override the default hidden behavior on the sphinx rendered scikit-learn.org. See: https://github.com/scikit-learn/scikit-learn/issues/21755 */display: inline-block !important;position: relative;}#sk-container-id-10 div.sk-text-repr-fallback {display: none;}</style><div id=\"sk-container-id-10\" class=\"sk-top-container\"><div class=\"sk-text-repr-fallback\"><pre>FMRegression(l2_reg_V=1, l2_reg_w=1, n_iter=500, random_state=20, rank=5)</pre><b>In a Jupyter environment, please rerun this cell to show the HTML representation or trust the notebook. <br />On GitHub, the HTML representation is unable to render, please try loading this page with nbviewer.org.</b></div><div class=\"sk-container\" hidden><div class=\"sk-item\"><div class=\"sk-estimator sk-toggleable\"><input class=\"sk-toggleable__control sk-hidden--visually\" id=\"sk-estimator-id-10\" type=\"checkbox\" checked><label for=\"sk-estimator-id-10\" class=\"sk-toggleable__label sk-toggleable__label-arrow\">FMRegression</label><div class=\"sk-toggleable__content\"><pre>FMRegression(l2_reg_V=1, l2_reg_w=1, n_iter=500, random_state=20, rank=5)</pre></div></div></div></div></div>"
      ],
      "text/plain": [
       "FMRegression(l2_reg_V=1, l2_reg_w=1, n_iter=500, random_state=20, rank=5)"
      ]
     },
     "execution_count": 188,
     "metadata": {},
     "output_type": "execute_result"
    }
   ],
   "source": [
    "seed = 20\n",
    "\n",
    "y = small.Rating\n",
    "\n",
    "fm = als.FMRegression(n_iter=500, init_stdev=0.1, rank=5, random_state=seed, l2_reg_w=1, l2_reg_V=1)\n",
    "\n",
    "\n",
    "# 80 / 10 / 10 split\n",
    "X_train, X_test, y_train, y_test = train_test_split(X, y, test_size=0.2, random_state=seed)\n",
    "\n",
    "X_valid, X_test, y_valid, y_test = train_test_split(X_test, y_test, test_size=0.5, random_state=seed)\n",
    "fm.fit(X_train, y_train)"
   ]
  },
  {
   "cell_type": "code",
   "execution_count": 189,
   "id": "778a0ca2",
   "metadata": {
    "scrolled": true
   },
   "outputs": [
    {
     "name": "stdout",
     "output_type": "stream",
     "text": [
      "Baseline train 7b FM: RMSE: 0.24434819514982983\n",
      "Baseline train 7b FM: MAE: 0.11038932534199308\n",
      "Baseline valid 7b FM: RMSE: 1.5388583476656417\n",
      "Baseline valid 7b FM: MAE: 1.1750044285470544\n"
     ]
    }
   ],
   "source": [
    "y_pred_train = fm.predict(X_train)\n",
    "print(\"Baseline train 7b FM: RMSE:\", np.sqrt(mse(y_pred_train, y_train)))\n",
    "print(\"Baseline train 7b FM: MAE:\", mae(y_pred_train, y_train))\n",
    "\n",
    "y_pred_valid = fm.predict(X_valid)\n",
    "print(\"Baseline valid 7b FM: RMSE:\", np.sqrt(mse(y_pred_valid, y_valid)))\n",
    "print(\"Baseline valid 7b FM: MAE:\", mae(y_pred_valid, y_valid))"
   ]
  },
  {
   "cell_type": "code",
   "execution_count": null,
   "id": "49c5bf0a",
   "metadata": {},
   "outputs": [],
   "source": [
    "# Baseline train 7b FM: RMSE: 0.24434819514982983\n",
    "# Baseline train 7b FM: MAE: 0.11038932534199308\n",
    "# Baseline valid 7b FM: RMSE: 1.5388583476656417\n",
    "# Baseline valid 7b FM: MAE: 1.1750044285470544"
   ]
  },
  {
   "cell_type": "markdown",
   "id": "a9e2391c",
   "metadata": {},
   "source": [
    "# Testset metrics"
   ]
  },
  {
   "cell_type": "code",
   "execution_count": null,
   "id": "2cc04a5e",
   "metadata": {},
   "outputs": [],
   "source": [
    "# Plot \"cold start for users\"\n"
   ]
  }
 ],
 "metadata": {
  "kernelspec": {
   "display_name": "Python 3.8.5 64-bit",
   "language": "python",
   "name": "python3"
  },
  "language_info": {
   "codemirror_mode": {
    "name": "ipython",
    "version": 3
   },
   "file_extension": ".py",
   "mimetype": "text/x-python",
   "name": "python",
   "nbconvert_exporter": "python",
   "pygments_lexer": "ipython3",
   "version": "3.8.5"
  },
  "vscode": {
   "interpreter": {
    "hash": "af8b02673ba3bb449aac40e142d101b6b16152c98c71757a3e28bd2b78de54c9"
   }
  }
 },
 "nbformat": 4,
 "nbformat_minor": 5
}
