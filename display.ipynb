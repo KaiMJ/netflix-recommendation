{
 "cells": [
  {
   "cell_type": "markdown",
   "id": "f36d2ffa",
   "metadata": {},
   "source": [
    "1. Identify a dataset to study, and perform an exploratory analysis of the data. Describe the\n",
    "dataset, including its basic statistics and properties, and report any interesting findings. This\n",
    "exploratory analysis should motivate the design of your model in the following sections. Datasets\n",
    "should be reasonably large (e.g. large enough to run the kinds of methods we’ve discussed in\n",
    "class).\n"
   ]
  },
  {
   "cell_type": "markdown",
   "id": "18f642e5",
   "metadata": {},
   "source": [
    "https://www.kaggle.com/datasets/netflix-inc/netflix-prize-data"
   ]
  },
  {
   "cell_type": "code",
   "execution_count": 51,
   "id": "d722128d",
   "metadata": {},
   "outputs": [],
   "source": [
    "import numpy as np\n",
    "import pandas as pd\n",
    "from collections import defaultdict\n",
    "import datetime\n",
    "from dateutil.parser import parse\n",
    "from tqdm import tqdm\n",
    "import sys\n",
    "import matplotlib.pyplot as plt\n",
    "from sklearn.feature_extraction.text import TfidfVectorizer"
   ]
  },
  {
   "cell_type": "code",
   "execution_count": 52,
   "id": "3e5f6116",
   "metadata": {
    "scrolled": false
   },
   "outputs": [
    {
     "name": "stdout",
     "output_type": "stream",
     "text": [
      "Reading file 1...\n"
     ]
    },
    {
     "name": "stderr",
     "output_type": "stream",
     "text": [
      "100%|███████████████████████████████████| 24058263/24058263 [00:23<00:00, 1029564.70it/s]\n"
     ]
    }
   ],
   "source": [
    "# Movies: 1 to 17770 \n",
    "# Ratings: 1 to 5\n",
    "# Users: 1 to 2649429, with gaps. There are 480189 users.\n",
    "\n",
    "# ratingsByUserPerMovie = defaultdict(list)\n",
    "data = []\n",
    "\n",
    "# takes around a minute to load all ratings...\n",
    "# data too big, so we are using 1 to 4499\n",
    "\n",
    "# for i in range(1, 5):\n",
    "for i in range(1, 2): # takes around 30 seconds to load\n",
    "    print(f\"Reading file {i}...\")\n",
    "    current_movie = None\n",
    "    with open(f'data/combined_data_{i}.txt', 'r') as f:\n",
    "        txt = f.readlines()\n",
    "        for line in tqdm(txt):\n",
    "            line = line.strip()\n",
    "            if ':' in line: # movie_id:\n",
    "                current_movie = line[:-1] \n",
    "            else:\n",
    "                data.append([current_movie] + line.split(','))\n",
    "#                 ratingsByUserPerMovie[int(current_movie)].append(line)\n",
    "\n",
    "def format_line(line):\n",
    "    split = line.split(',')\n",
    "    split[0] = int(split[0])\n",
    "    split[1] = int(split[1])\n",
    "    split[2] = parse(split[2])\n",
    "    return split\n",
    "\n",
    "# this takes about 30 minutes to parse\n",
    "# for k, v in tqdm(ratingsByUserPerMovie.items()): # ! only run once\n",
    "#     lines = []\n",
    "#     for line in v:\n",
    "#         lines.append(format_line(line))\n",
    "#     ratingsByUserPerMovie[k] = lines"
   ]
  },
  {
   "cell_type": "code",
   "execution_count": 53,
   "id": "5245ffde",
   "metadata": {},
   "outputs": [],
   "source": [
    "# data\n",
    "# MovieID, CustomerID, Rating, Rated Date\n",
    "\n",
    "data = pd.DataFrame(data)\n",
    "data.rename(columns={0: 'MovieID', 1: 'UserID', 2: 'Rating', 3: 'Rated Date'}, inplace=True)\n",
    "data['MovieID'] = data['MovieID'].astype(int)\n",
    "data['UserID'] = data['UserID'].astype(int)\n",
    "data['Rating'] = data['Rating'].astype(int)\n",
    "data['Rated Date'] = pd.to_datetime(data['Rated Date'])"
   ]
  },
  {
   "cell_type": "code",
   "execution_count": 54,
   "id": "e0f66c22",
   "metadata": {},
   "outputs": [
    {
     "data": {
      "text/html": [
       "<div>\n",
       "<style scoped>\n",
       "    .dataframe tbody tr th:only-of-type {\n",
       "        vertical-align: middle;\n",
       "    }\n",
       "\n",
       "    .dataframe tbody tr th {\n",
       "        vertical-align: top;\n",
       "    }\n",
       "\n",
       "    .dataframe thead th {\n",
       "        text-align: right;\n",
       "    }\n",
       "</style>\n",
       "<table border=\"1\" class=\"dataframe\">\n",
       "  <thead>\n",
       "    <tr style=\"text-align: right;\">\n",
       "      <th></th>\n",
       "      <th>MovieID</th>\n",
       "      <th>UserID</th>\n",
       "      <th>Rating</th>\n",
       "      <th>Rated Date</th>\n",
       "    </tr>\n",
       "  </thead>\n",
       "  <tbody>\n",
       "    <tr>\n",
       "      <th>0</th>\n",
       "      <td>1</td>\n",
       "      <td>1488844</td>\n",
       "      <td>3</td>\n",
       "      <td>2005-09-06</td>\n",
       "    </tr>\n",
       "    <tr>\n",
       "      <th>1</th>\n",
       "      <td>1</td>\n",
       "      <td>822109</td>\n",
       "      <td>5</td>\n",
       "      <td>2005-05-13</td>\n",
       "    </tr>\n",
       "    <tr>\n",
       "      <th>2</th>\n",
       "      <td>1</td>\n",
       "      <td>885013</td>\n",
       "      <td>4</td>\n",
       "      <td>2005-10-19</td>\n",
       "    </tr>\n",
       "    <tr>\n",
       "      <th>3</th>\n",
       "      <td>1</td>\n",
       "      <td>30878</td>\n",
       "      <td>4</td>\n",
       "      <td>2005-12-26</td>\n",
       "    </tr>\n",
       "    <tr>\n",
       "      <th>4</th>\n",
       "      <td>1</td>\n",
       "      <td>823519</td>\n",
       "      <td>3</td>\n",
       "      <td>2004-05-03</td>\n",
       "    </tr>\n",
       "  </tbody>\n",
       "</table>\n",
       "</div>"
      ],
      "text/plain": [
       "   MovieID   UserID  Rating Rated Date\n",
       "0        1  1488844       3 2005-09-06\n",
       "1        1   822109       5 2005-05-13\n",
       "2        1   885013       4 2005-10-19\n",
       "3        1    30878       4 2005-12-26\n",
       "4        1   823519       3 2004-05-03"
      ]
     },
     "execution_count": 54,
     "metadata": {},
     "output_type": "execute_result"
    }
   ],
   "source": [
    "data.head()"
   ]
  },
  {
   "cell_type": "code",
   "execution_count": 55,
   "id": "f8ac72e1",
   "metadata": {},
   "outputs": [],
   "source": [
    "# movies_titles.txt\n",
    "# MovieID,YearOfRelease,Title\n",
    "\n",
    "movies = pd.read_csv('data/movie_titles.csv',\n",
    "                     usecols=range(3),\n",
    "                     encoding=\"ISO-8859-1\",\n",
    "                    lineterminator='\\n',\n",
    "                    header=None)\n",
    "movies.rename(columns={0: \"MovieID\", 1:\"Released Date\", 2:\"Title\"}, inplace=True)\n",
    "movies['Title'] = movies['Title'].astype(str)"
   ]
  },
  {
   "cell_type": "code",
   "execution_count": 56,
   "id": "07baa820",
   "metadata": {
    "scrolled": false
   },
   "outputs": [
    {
     "data": {
      "text/html": [
       "<div>\n",
       "<style scoped>\n",
       "    .dataframe tbody tr th:only-of-type {\n",
       "        vertical-align: middle;\n",
       "    }\n",
       "\n",
       "    .dataframe tbody tr th {\n",
       "        vertical-align: top;\n",
       "    }\n",
       "\n",
       "    .dataframe thead th {\n",
       "        text-align: right;\n",
       "    }\n",
       "</style>\n",
       "<table border=\"1\" class=\"dataframe\">\n",
       "  <thead>\n",
       "    <tr style=\"text-align: right;\">\n",
       "      <th></th>\n",
       "      <th>MovieID</th>\n",
       "      <th>Released Date</th>\n",
       "      <th>Title</th>\n",
       "    </tr>\n",
       "  </thead>\n",
       "  <tbody>\n",
       "    <tr>\n",
       "      <th>4387</th>\n",
       "      <td>4388</td>\n",
       "      <td>NaN</td>\n",
       "      <td>Ancient Civilizations: Rome and Pompeii</td>\n",
       "    </tr>\n",
       "    <tr>\n",
       "      <th>4793</th>\n",
       "      <td>4794</td>\n",
       "      <td>NaN</td>\n",
       "      <td>Ancient Civilizations: Land of the Pharaohs</td>\n",
       "    </tr>\n",
       "    <tr>\n",
       "      <th>7240</th>\n",
       "      <td>7241</td>\n",
       "      <td>NaN</td>\n",
       "      <td>Ancient Civilizations: Athens and Greece</td>\n",
       "    </tr>\n",
       "    <tr>\n",
       "      <th>10781</th>\n",
       "      <td>10782</td>\n",
       "      <td>NaN</td>\n",
       "      <td>Roti Kapada Aur Makaan</td>\n",
       "    </tr>\n",
       "    <tr>\n",
       "      <th>15917</th>\n",
       "      <td>15918</td>\n",
       "      <td>NaN</td>\n",
       "      <td>Hote Hote Pyaar Ho Gaya</td>\n",
       "    </tr>\n",
       "    <tr>\n",
       "      <th>16677</th>\n",
       "      <td>16678</td>\n",
       "      <td>NaN</td>\n",
       "      <td>Jimmy Hollywood</td>\n",
       "    </tr>\n",
       "    <tr>\n",
       "      <th>17666</th>\n",
       "      <td>17667</td>\n",
       "      <td>NaN</td>\n",
       "      <td>Eros Dance Dhamaka</td>\n",
       "    </tr>\n",
       "  </tbody>\n",
       "</table>\n",
       "</div>"
      ],
      "text/plain": [
       "       MovieID  Released Date                                        Title\n",
       "4387      4388            NaN      Ancient Civilizations: Rome and Pompeii\n",
       "4793      4794            NaN  Ancient Civilizations: Land of the Pharaohs\n",
       "7240      7241            NaN     Ancient Civilizations: Athens and Greece\n",
       "10781    10782            NaN                       Roti Kapada Aur Makaan\n",
       "15917    15918            NaN                      Hote Hote Pyaar Ho Gaya\n",
       "16677    16678            NaN                              Jimmy Hollywood\n",
       "17666    17667            NaN                           Eros Dance Dhamaka"
      ]
     },
     "execution_count": 56,
     "metadata": {},
     "output_type": "execute_result"
    }
   ],
   "source": [
    "movies[movies.isna().any(axis=1)]"
   ]
  },
  {
   "cell_type": "code",
   "execution_count": 57,
   "id": "43c6f139",
   "metadata": {
    "scrolled": true
   },
   "outputs": [],
   "source": [
    "# https://www.amazon.com/Ancient-Civilizations-Rome-Pompeii/dp/B00005MKKE\n",
    "# Released date is 2002 for Ancient Civilizations: Rome and Pompeii\n",
    "movies.loc[movies['MovieID'] == 4388, 'Released Date'] = 2002\n",
    "\n",
    "\n",
    "# Other MovieIDs can be dropped since no other movies have been rated.\n",
    "# data[data['MovieID'].isin(movies[movies.isna().any(axis=1)].MovieID)].MovieID.unique()\n",
    "# array([4388])\n",
    "movies.dropna(inplace=True)\n",
    "\n",
    "\n",
    "movies['Released Date'] = movies['Released Date'].astype(int)"
   ]
  },
  {
   "cell_type": "code",
   "execution_count": 58,
   "id": "b49123b3",
   "metadata": {},
   "outputs": [
    {
     "data": {
      "text/html": [
       "<div>\n",
       "<style scoped>\n",
       "    .dataframe tbody tr th:only-of-type {\n",
       "        vertical-align: middle;\n",
       "    }\n",
       "\n",
       "    .dataframe tbody tr th {\n",
       "        vertical-align: top;\n",
       "    }\n",
       "\n",
       "    .dataframe thead th {\n",
       "        text-align: right;\n",
       "    }\n",
       "</style>\n",
       "<table border=\"1\" class=\"dataframe\">\n",
       "  <thead>\n",
       "    <tr style=\"text-align: right;\">\n",
       "      <th></th>\n",
       "      <th>MovieID</th>\n",
       "      <th>UserID</th>\n",
       "      <th>Rating</th>\n",
       "      <th>Rated Date</th>\n",
       "      <th>Released Date</th>\n",
       "      <th>Title</th>\n",
       "    </tr>\n",
       "  </thead>\n",
       "  <tbody>\n",
       "    <tr>\n",
       "      <th>0</th>\n",
       "      <td>1</td>\n",
       "      <td>1488844</td>\n",
       "      <td>3</td>\n",
       "      <td>2005-09-06</td>\n",
       "      <td>2003</td>\n",
       "      <td>Dinosaur Planet</td>\n",
       "    </tr>\n",
       "    <tr>\n",
       "      <th>1</th>\n",
       "      <td>1</td>\n",
       "      <td>822109</td>\n",
       "      <td>5</td>\n",
       "      <td>2005-05-13</td>\n",
       "      <td>2003</td>\n",
       "      <td>Dinosaur Planet</td>\n",
       "    </tr>\n",
       "    <tr>\n",
       "      <th>2</th>\n",
       "      <td>1</td>\n",
       "      <td>885013</td>\n",
       "      <td>4</td>\n",
       "      <td>2005-10-19</td>\n",
       "      <td>2003</td>\n",
       "      <td>Dinosaur Planet</td>\n",
       "    </tr>\n",
       "    <tr>\n",
       "      <th>3</th>\n",
       "      <td>1</td>\n",
       "      <td>30878</td>\n",
       "      <td>4</td>\n",
       "      <td>2005-12-26</td>\n",
       "      <td>2003</td>\n",
       "      <td>Dinosaur Planet</td>\n",
       "    </tr>\n",
       "    <tr>\n",
       "      <th>4</th>\n",
       "      <td>1</td>\n",
       "      <td>823519</td>\n",
       "      <td>3</td>\n",
       "      <td>2004-05-03</td>\n",
       "      <td>2003</td>\n",
       "      <td>Dinosaur Planet</td>\n",
       "    </tr>\n",
       "  </tbody>\n",
       "</table>\n",
       "</div>"
      ],
      "text/plain": [
       "   MovieID   UserID  Rating Rated Date  Released Date            Title\n",
       "0        1  1488844       3 2005-09-06           2003  Dinosaur Planet\n",
       "1        1   822109       5 2005-05-13           2003  Dinosaur Planet\n",
       "2        1   885013       4 2005-10-19           2003  Dinosaur Planet\n",
       "3        1    30878       4 2005-12-26           2003  Dinosaur Planet\n",
       "4        1   823519       3 2004-05-03           2003  Dinosaur Planet"
      ]
     },
     "execution_count": 58,
     "metadata": {},
     "output_type": "execute_result"
    }
   ],
   "source": [
    "# Merge data with movies\n",
    "data = data.merge(movies)\n",
    "data.head()"
   ]
  },
  {
   "cell_type": "code",
   "execution_count": 59,
   "id": "ec3afe7d",
   "metadata": {},
   "outputs": [
    {
     "data": {
      "text/html": [
       "<div>\n",
       "<style scoped>\n",
       "    .dataframe tbody tr th:only-of-type {\n",
       "        vertical-align: middle;\n",
       "    }\n",
       "\n",
       "    .dataframe tbody tr th {\n",
       "        vertical-align: top;\n",
       "    }\n",
       "\n",
       "    .dataframe thead th {\n",
       "        text-align: right;\n",
       "    }\n",
       "</style>\n",
       "<table border=\"1\" class=\"dataframe\">\n",
       "  <thead>\n",
       "    <tr style=\"text-align: right;\">\n",
       "      <th></th>\n",
       "      <th>MovieID</th>\n",
       "      <th>Released Date</th>\n",
       "      <th>Title</th>\n",
       "    </tr>\n",
       "  </thead>\n",
       "  <tbody>\n",
       "    <tr>\n",
       "      <th>0</th>\n",
       "      <td>1</td>\n",
       "      <td>2003</td>\n",
       "      <td>Dinosaur Planet</td>\n",
       "    </tr>\n",
       "    <tr>\n",
       "      <th>1</th>\n",
       "      <td>2</td>\n",
       "      <td>2004</td>\n",
       "      <td>Isle of Man TT 2004 Review</td>\n",
       "    </tr>\n",
       "    <tr>\n",
       "      <th>2</th>\n",
       "      <td>3</td>\n",
       "      <td>1997</td>\n",
       "      <td>Character</td>\n",
       "    </tr>\n",
       "    <tr>\n",
       "      <th>3</th>\n",
       "      <td>4</td>\n",
       "      <td>1994</td>\n",
       "      <td>Paula Abdul's Get Up &amp; Dance</td>\n",
       "    </tr>\n",
       "    <tr>\n",
       "      <th>4</th>\n",
       "      <td>5</td>\n",
       "      <td>2004</td>\n",
       "      <td>The Rise and Fall of ECW</td>\n",
       "    </tr>\n",
       "  </tbody>\n",
       "</table>\n",
       "</div>"
      ],
      "text/plain": [
       "   MovieID  Released Date                         Title\n",
       "0        1           2003               Dinosaur Planet\n",
       "1        2           2004    Isle of Man TT 2004 Review\n",
       "2        3           1997                     Character\n",
       "3        4           1994  Paula Abdul's Get Up & Dance\n",
       "4        5           2004      The Rise and Fall of ECW"
      ]
     },
     "execution_count": 59,
     "metadata": {},
     "output_type": "execute_result"
    }
   ],
   "source": [
    "movies.head()"
   ]
  },
  {
   "cell_type": "markdown",
   "id": "205bc149",
   "metadata": {},
   "source": [
    "## Plots\n",
    "\n",
    "#### Basic\n",
    "\n",
    "- Number of movies per release date\n",
    "- Number of ratings per movie\n",
    "- Average ratings per movie"
   ]
  },
  {
   "cell_type": "code",
   "execution_count": 60,
   "id": "ca07cf5d",
   "metadata": {},
   "outputs": [
    {
     "data": {
      "image/png": "[encoded data removed]",
      "text/plain": [
       "<Figure size 432x288 with 1 Axes>"
      ]
     },
     "metadata": {
      "needs_background": "light"
     },
     "output_type": "display_data"
    }
   ],
   "source": [
    "movies['Released Date'].hist()\n",
    "plt.title(\"Number of Movies per Release Date\")\n",
    "plt.show()"
   ]
  },
  {
   "cell_type": "code",
   "execution_count": 61,
   "id": "233b61d3",
   "metadata": {},
   "outputs": [
    {
     "data": {
      "image/png": "[encoded data removed]",
      "text/plain": [
       "<Figure size 432x288 with 1 Axes>"
      ]
     },
     "metadata": {
      "needs_background": "light"
     },
     "output_type": "display_data"
    },
    {
     "name": "stdout",
     "output_type": "stream",
     "text": [
      "Mean nubmer of rating: 5346.46899310958\n",
      "Median nubmer of rating: 552.0\n",
      "Min number of rating: 36\n",
      "Max number of rating: 193941\n"
     ]
    }
   ],
   "source": [
    "n = 4499\n",
    "\n",
    "ratings = data.groupby('MovieID').count()['Rating']\n",
    "ratings.hist(bins=n//100)\n",
    "plt.axvline(ratings.median(), color='y', label=\"Median\")\n",
    "plt.axvline(ratings.mean(), color='r', label=\"Mean\")\n",
    "plt.title(\"Number of Ratings per Movie\")\n",
    "plt.legend()\n",
    "\n",
    "plt.show()\n",
    "\n",
    "print(\"Mean nubmer of rating:\", ratings.mean())\n",
    "print(\"Median nubmer of rating:\", ratings.median())\n",
    "print(\"Min number of rating:\", ratings.min())\n",
    "print(\"Max number of rating:\", ratings.max())"
   ]
  },
  {
   "cell_type": "code",
   "execution_count": 62,
   "id": "41abcf85",
   "metadata": {},
   "outputs": [
    {
     "data": {
      "image/png": "[encoded data removed]",
      "text/plain": [
       "<Figure size 432x288 with 1 Axes>"
      ]
     },
     "metadata": {
      "needs_background": "light"
     },
     "output_type": "display_data"
    },
    {
     "name": "stdout",
     "output_type": "stream",
     "text": [
      "Mean rating: 3.2219446775168805\n",
      "Median rating: 3.2447916666666665\n",
      "Min rating: 1.2878787878787878\n",
      "Max rating: 4.6709891019450955\n"
     ]
    }
   ],
   "source": [
    "n = 4499\n",
    "\n",
    "ratings = data.groupby('MovieID')['Rating'].mean()\n",
    "ratings.hist(bins=n//100)\n",
    "plt.axvline(ratings.median(), color='y', label=\"Median\")\n",
    "plt.axvline(ratings.mean(), color='r', label=\"Mean\")\n",
    "plt.title(\"Average rating per Movie\")\n",
    "plt.legend()\n",
    "\n",
    "plt.show()\n",
    "\n",
    "print(\"Mean rating:\", ratings.mean())\n",
    "print(\"Median rating:\", ratings.median())\n",
    "print(\"Min rating:\", ratings.min())\n",
    "print(\"Max rating:\", ratings.max())"
   ]
  },
  {
   "cell_type": "markdown",
   "id": "ab0a11a3",
   "metadata": {},
   "source": [
    "### Insightful\n",
    "\n",
    "\n",
    "#### Average and number of ratings per release date \n",
    "- Are movies released more recently more likely to recieve better ratings?\n",
    "- See some trends throughout date.\n",
    "\n",
    "#### Rating trend of movies.\n",
    "- How do ratings change across time?\n",
    "- Plot average rating since release date.\n",
    "\n",
    "\n",
    "### ToDO\n",
    "#### Word - Embeddings to Ratings\n",
    "- Which movie titles contain words that are more significant to viewers?\n",
    "- Extract words that correlate with better ratings.\n",
    "\n",
    "\n",
    "\n"
   ]
  },
  {
   "cell_type": "code",
   "execution_count": 63,
   "id": "43a5f024",
   "metadata": {},
   "outputs": [
    {
     "data": {
      "image/png": "[encoded data removed]",
      "text/plain": [
       "<Figure size 720x360 with 2 Axes>"
      ]
     },
     "metadata": {
      "needs_background": "light"
     },
     "output_type": "display_data"
    }
   ],
   "source": [
    "# Average and number of ratings per release date\n",
    "fig, axs = plt.subplots(1, 2, figsize=(10, 5))\n",
    "data.groupby('Released Date')['Rating'].mean().plot(ax=axs[0])\n",
    "axs[0].set_title('Average ratings per release date')\n",
    "data.groupby('Released Date')['Rating'].count().plot(ax=axs[1])\n",
    "axs[1].set_title('Number of ratings per release date')\n",
    "\n",
    "plt.show()"
   ]
  },
  {
   "cell_type": "code",
   "execution_count": 97,
   "id": "bb725354",
   "metadata": {
    "scrolled": false
   },
   "outputs": [
    {
     "data": {
      "text/html": [
       "<div>\n",
       "<style scoped>\n",
       "    .dataframe tbody tr th:only-of-type {\n",
       "        vertical-align: middle;\n",
       "    }\n",
       "\n",
       "    .dataframe tbody tr th {\n",
       "        vertical-align: top;\n",
       "    }\n",
       "\n",
       "    .dataframe thead th {\n",
       "        text-align: right;\n",
       "    }\n",
       "</style>\n",
       "<table border=\"1\" class=\"dataframe\">\n",
       "  <thead>\n",
       "    <tr style=\"text-align: right;\">\n",
       "      <th></th>\n",
       "      <th>MovieID</th>\n",
       "      <th>UserID</th>\n",
       "      <th>Rating</th>\n",
       "      <th>Rated Date</th>\n",
       "      <th>Released Date</th>\n",
       "      <th>Title</th>\n",
       "      <th>Released Since</th>\n",
       "    </tr>\n",
       "  </thead>\n",
       "  <tbody>\n",
       "  </tbody>\n",
       "</table>\n",
       "</div>"
      ],
      "text/plain": [
       "Empty DataFrame\n",
       "Columns: [MovieID, UserID, Rating, Rated Date, Released Date, Title, Released Since]\n",
       "Index: []"
      ]
     },
     "execution_count": 97,
     "metadata": {},
     "output_type": "execute_result"
    }
   ],
   "source": [
    "data['Released Since'] = data['Rated Date'] - pd.to_datetime(data['Released Date'], format='%Y')\n",
    "data[data['Released Since'].dt.days < 0]"
   ]
  },
  {
   "cell_type": "code",
   "execution_count": 68,
   "id": "4d0f7635",
   "metadata": {},
   "outputs": [
    {
     "data": {
      "text/plain": [
       "(24053684, 7)"
      ]
     },
     "execution_count": 68,
     "metadata": {},
     "output_type": "execute_result"
    }
   ],
   "source": [
    "# Drop if rated date is before released date.\n",
    "data = data[data['Released Since'].dt.days >= 0]\n",
    "data.shape"
   ]
  },
  {
   "cell_type": "code",
   "execution_count": 95,
   "id": "115227ff",
   "metadata": {
    "scrolled": false
   },
   "outputs": [
    {
     "data": {
      "image/png": "[encoded data removed]",
      "text/plain": [
       "<Figure size 720x360 with 2 Axes>"
      ]
     },
     "metadata": {
      "needs_background": "light"
     },
     "output_type": "display_data"
    }
   ],
   "source": [
    "# Average and number of ratings per release date\n",
    "fig, axs = plt.subplots(1, 2, figsize=(10, 5))\n",
    "data.groupby('Released Since')['Rating'].mean().plot(ax=axs[0])\n",
    "\n",
    "rating_average = data.groupby('Released Since')['Rating'].mean().rolling(window=100).mean()\n",
    "axs[0].plot(rating_average.values, 'r-', label='mean')\n",
    "axs[0].legend()\n",
    "\n",
    "axs[0].set_title('Average ratings since release date')\n",
    "data.groupby('Released Since')['Rating'].count().plot(ax=axs[1])\n",
    "axs[1].set_title('Number of ratings since release date')\n",
    "\n",
    "plt.show()"
   ]
  },
  {
   "cell_type": "code",
   "execution_count": null,
   "id": "0bf41769",
   "metadata": {},
   "outputs": [],
   "source": []
  },
  {
   "cell_type": "code",
   "execution_count": 96,
   "id": "aac17011",
   "metadata": {},
   "outputs": [],
   "source": [
    "# TODO\n",
    "\n",
    "# Find something interesting about the titles"
   ]
  },
  {
   "cell_type": "code",
   "execution_count": null,
   "id": "bbf87ff6",
   "metadata": {},
   "outputs": [],
   "source": []
  },
  {
   "cell_type": "code",
   "execution_count": null,
   "id": "deb7c476",
   "metadata": {},
   "outputs": [],
   "source": [
    "# Average and number of ratings per release date\n",
    "fig, axs = plt.subplots(1, 2, figsize=(10, 5))\n",
    "merged.groupby('Released Date')['Rating'].mean().plot(ax=axs[0])\n",
    "axs[0].set_title('Average ratings per release date')\n",
    "merged.groupby('Released Date')['Rating'].count().plot(ax=axs[1])\n",
    "axs[1].set_title('Number of ratings per release date')\n",
    "\n",
    "plt.show()"
   ]
  },
  {
   "cell_type": "code",
   "execution_count": 132,
   "id": "c0fd541a",
   "metadata": {},
   "outputs": [
    {
     "name": "stderr",
     "output_type": "stream",
     "text": [
      "/home/mkim/miniconda3/envs/torch/lib/python3.10/site-packages/sklearn/utils/deprecation.py:87: FutureWarning: Function get_feature_names is deprecated; get_feature_names is deprecated in 1.0 and will be removed in 1.2. Please use get_feature_names_out instead.\n",
      "  warnings.warn(msg, category=FutureWarning)\n"
     ]
    }
   ],
   "source": [
    "# TF-IDF of top 20 words vs ratings.\n",
    "\n",
    "tfidf = TfidfVectorizer()\n",
    "title = tfidf.fit_transform(movies['Title'])\n",
    "\n",
    "feature_array = np.array(tfidf.get_feature_names())\n",
    "tfidf_sorting = np.argsort(title.toarray()).flatten()[::-1]\n",
    "\n",
    "n = 3\n",
    "top_n = feature_array[tfidf_sorting][:n]"
   ]
  },
  {
   "cell_type": "code",
   "execution_count": 133,
   "id": "fa5da0fb",
   "metadata": {
    "scrolled": true
   },
   "outputs": [
    {
     "data": {
      "text/plain": [
       "array(['hunter', 'alien', 'zz'], dtype='<U16')"
      ]
     },
     "execution_count": 133,
     "metadata": {},
     "output_type": "execute_result"
    }
   ],
   "source": [
    "top_n"
   ]
  },
  {
   "cell_type": "code",
   "execution_count": null,
   "id": "6770c995",
   "metadata": {},
   "outputs": [],
   "source": []
  },
  {
   "cell_type": "markdown",
   "id": "17925e8c",
   "metadata": {},
   "source": [
    "## Observations\n",
    "\n",
    "## From ratings per Movie, we can see that there are \"Top\" movies.\n",
    "\n",
    "## - More recent = More ratings and more movies \n",
    "\n",
    "## - Some trends in ratings\n"
   ]
  },
  {
   "cell_type": "code",
   "execution_count": null,
   "id": "c214ece0",
   "metadata": {},
   "outputs": [],
   "source": []
  },
  {
   "cell_type": "code",
   "execution_count": 99,
   "id": "6a753dea",
   "metadata": {},
   "outputs": [
    {
     "name": "stdout",
     "output_type": "stream",
     "text": [
      "3126.025752 MB\n",
      "1.808075 MB\n"
     ]
    }
   ],
   "source": [
    "import sys\n",
    "print(sys.getsizeof(data) / 1e6, 'MB')\n",
    "print(sys.getsizeof(movies) / 1e6, 'MB')"
   ]
  },
  {
   "cell_type": "markdown",
   "id": "301eab50",
   "metadata": {},
   "source": [
    "2. Identify a predictive task that can be studied on this dataset. Describe how you will evaluate\n",
    "your model at this predictive task, what relevant baselines can be used for comparison, and how\n",
    "you will assess the validity of your model’s predictions. It’s also important in this section to\n",
    "carefully describe what features you will use and how you had to process the data to obtain them.\n",
    "Make sure to select a task and models that are relevant to the course content; if you want to try\n",
    "out models you’ve seen in other classes that’s fine, but you should still implement models from\n",
    "this class as baselines / comparison points."
   ]
  },
  {
   "cell_type": "markdown",
   "id": "77258df4",
   "metadata": {},
   "source": [
    "3. Describe your model. Explain and justify your decision to use the model you proposed. How\n",
    "will you optimize it? Did you run into any issues due to scalability, overfitting, etc.? What other\n",
    "models did you consider for comparison? What were your unsuccessful attempts along the way?\n",
    "What are the strengths and weaknesses of the different models being compared?"
   ]
  },
  {
   "cell_type": "markdown",
   "id": "b1fb60e9",
   "metadata": {},
   "source": [
    "4. Describe literature related to the problem you are studying. If you are using an existing dataset,\n",
    "where did it come from and how was it used? What other similar datasets have been studied in\n",
    "the past and how? What are the state-of-the-art methods currently employed to study this type\n",
    "of data? Are the conclusions from existing work similar to or different from your own findings?"
   ]
  },
  {
   "cell_type": "markdown",
   "id": "c067b9a9",
   "metadata": {},
   "source": [
    "5. Describe your results and conclusions. How well does your model perform compared to alternatives, and what is the significance of the results? Which feature representations worked well and\n",
    "which do not? What is the interpretation of your model’s parameters? Why did the proposed\n",
    "model succeed why others failed (or if it failed, why did it fail)?"
   ]
  },
  {
   "cell_type": "code",
   "execution_count": null,
   "id": "4c072d17",
   "metadata": {},
   "outputs": [],
   "source": []
  }
 ],
 "metadata": {
  "kernelspec": {
   "display_name": "Python 3 (ipykernel)",
   "language": "python",
   "name": "python3"
  },
  "language_info": {
   "codemirror_mode": {
    "name": "ipython",
    "version": 3
   },
   "file_extension": ".py",
   "mimetype": "text/x-python",
   "name": "python",
   "nbconvert_exporter": "python",
   "pygments_lexer": "ipython3",
   "version": "3.10.4"
  }
 },
 "nbformat": 4,
 "nbformat_minor": 5
}
