{
 "cells": [
  {
   "cell_type": "markdown",
   "id": "109eec0f",
   "metadata": {},
   "source": [
    "1. Identify a dataset to study, and perform an exploratory analysis of the data. Describe the\n",
    "dataset, including its basic statistics and properties, and report any interesting findings. This\n",
    "exploratory analysis should motivate the design of your model in the following sections. Datasets\n",
    "should be reasonably large (e.g. large enough to run the kinds of methods we’ve discussed in\n",
    "class).\n"
   ]
  },
  {
   "cell_type": "code",
   "execution_count": null,
   "id": "7a327a4a",
   "metadata": {},
   "outputs": [],
   "source": []
  },
  {
   "cell_type": "markdown",
   "id": "8b444afd",
   "metadata": {},
   "source": [
    "2. Identify a predictive task that can be studied on this dataset. Describe how you will evaluate\n",
    "your model at this predictive task, what relevant baselines can be used for comparison, and how\n",
    "you will assess the validity of your model’s predictions. It’s also important in this section to\n",
    "carefully describe what features you will use and how you had to process the data to obtain them.\n",
    "Make sure to select a task and models that are relevant to the course content; if you want to try\n",
    "out models you’ve seen in other classes that’s fine, but you should still implement models from\n",
    "this class as baselines / comparison points."
   ]
  },
  {
   "cell_type": "markdown",
   "id": "eba59d2c",
   "metadata": {},
   "source": [
    "3. Describe your model. Explain and justify your decision to use the model you proposed. How\n",
    "will you optimize it? Did you run into any issues due to scalability, overfitting, etc.? What other\n",
    "models did you consider for comparison? What were your unsuccessful attempts along the way?\n",
    "What are the strengths and weaknesses of the different models being compared?"
   ]
  },
  {
   "cell_type": "markdown",
   "id": "bdffad47",
   "metadata": {},
   "source": [
    "4. Describe literature related to the problem you are studying. If you are using an existing dataset,\n",
    "where did it come from and how was it used? What other similar datasets have been studied in\n",
    "the past and how? What are the state-of-the-art methods currently employed to study this type\n",
    "of data? Are the conclusions from existing work similar to or different from your own findings?"
   ]
  },
  {
   "cell_type": "markdown",
   "id": "4debdc6f",
   "metadata": {},
   "source": [
    "5. Describe your results and conclusions. How well does your model perform compared to alternatives, and what is the significance of the results? Which feature representations worked well and\n",
    "which do not? What is the interpretation of your model’s parameters? Why did the proposed\n",
    "model succeed why others failed (or if it failed, why did it fail)?"
   ]
  },
  {
   "cell_type": "code",
   "execution_count": null,
   "id": "5767e767",
   "metadata": {},
   "outputs": [],
   "source": []
  }
 ],
 "metadata": {
  "kernelspec": {
   "display_name": "Python 3 (ipykernel)",
   "language": "python",
   "name": "python3"
  },
  "language_info": {
   "codemirror_mode": {
    "name": "ipython",
    "version": 3
   },
   "file_extension": ".py",
   "mimetype": "text/x-python",
   "name": "python",
   "nbconvert_exporter": "python",
   "pygments_lexer": "ipython3",
   "version": "3.10.4"
  }
 },
 "nbformat": 4,
 "nbformat_minor": 5
}
