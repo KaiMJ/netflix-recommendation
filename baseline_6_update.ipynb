{
 "cells": [
  {
   "cell_type": "code",
   "execution_count": 198,
   "id": "950ed2c9",
   "metadata": {},
   "outputs": [],
   "source": [
    "import numpy as np\n",
    "import pandas as pd\n",
    "from collections import defaultdict\n",
    "import datetime\n",
    "from dateutil.parser import parse\n",
    "from tqdm import tqdm\n",
    "from tqdm import trange\n",
    "import sys\n",
    "import matplotlib.pyplot as plt\n",
    "from sklearn.feature_extraction.text import TfidfVectorizer\n",
    "from sklearn.model_selection import train_test_split\n",
    "from sklearn.metrics import mean_squared_error as mse"
   ]
  },
  {
   "cell_type": "code",
   "execution_count": 199,
   "id": "8c48c041",
   "metadata": {},
   "outputs": [],
   "source": [
    "def mae(pred, true):\n",
    "    return np.mean(np.abs(pred - true))"
   ]
  },
  {
   "cell_type": "code",
   "execution_count": 200,
   "id": "8ae7a278",
   "metadata": {},
   "outputs": [],
   "source": [
    "######################################\n",
    "#    DOWNLOAD DATA\n",
    "######################################\n",
    "\n",
    "# https://drive.google.com/drive/folders/1Xt9EcMG64I_2y_fxu4d5Zr-qo2VlwiOP?usp=sharing"
   ]
  },
  {
   "cell_type": "code",
   "execution_count": 201,
   "id": "1a1b5e91",
   "metadata": {},
   "outputs": [],
   "source": [
    "data = pd.read_csv('data/data.csv')"
   ]
  },
  {
   "cell_type": "code",
   "execution_count": 202,
   "id": "4fafc1a3",
   "metadata": {},
   "outputs": [],
   "source": [
    "details = pd.read_csv('data/movie_detials.csv')"
   ]
  },
  {
   "cell_type": "code",
   "execution_count": 203,
   "id": "c011fecb",
   "metadata": {},
   "outputs": [
    {
     "data": {
      "text/plain": [
       "(590, 12)"
      ]
     },
     "execution_count": 203,
     "metadata": {},
     "output_type": "execute_result"
    }
   ],
   "source": [
    "details.shape"
   ]
  },
  {
   "cell_type": "code",
   "execution_count": 204,
   "id": "bfd32036",
   "metadata": {},
   "outputs": [
    {
     "data": {
      "text/html": [
       "<div>\n",
       "<style scoped>\n",
       "    .dataframe tbody tr th:only-of-type {\n",
       "        vertical-align: middle;\n",
       "    }\n",
       "\n",
       "    .dataframe tbody tr th {\n",
       "        vertical-align: top;\n",
       "    }\n",
       "\n",
       "    .dataframe thead th {\n",
       "        text-align: right;\n",
       "    }\n",
       "</style>\n",
       "<table border=\"1\" class=\"dataframe\">\n",
       "  <thead>\n",
       "    <tr style=\"text-align: right;\">\n",
       "      <th></th>\n",
       "      <th>Unnamed: 0</th>\n",
       "      <th>MovieID</th>\n",
       "      <th>UserID</th>\n",
       "      <th>Rating</th>\n",
       "      <th>Rated Date</th>\n",
       "      <th>Released Date</th>\n",
       "      <th>Title</th>\n",
       "      <th>Released Since</th>\n",
       "      <th>show_id</th>\n",
       "    </tr>\n",
       "  </thead>\n",
       "  <tbody>\n",
       "    <tr>\n",
       "      <th>0</th>\n",
       "      <td>0</td>\n",
       "      <td>30</td>\n",
       "      <td>2173336</td>\n",
       "      <td>5</td>\n",
       "      <td>2004-06-22</td>\n",
       "      <td>2003</td>\n",
       "      <td>Something's Gotta Give</td>\n",
       "      <td>538 days</td>\n",
       "      <td>s8056</td>\n",
       "    </tr>\n",
       "    <tr>\n",
       "      <th>1</th>\n",
       "      <td>1</td>\n",
       "      <td>30</td>\n",
       "      <td>2473170</td>\n",
       "      <td>5</td>\n",
       "      <td>2004-05-22</td>\n",
       "      <td>2003</td>\n",
       "      <td>Something's Gotta Give</td>\n",
       "      <td>507 days</td>\n",
       "      <td>s8056</td>\n",
       "    </tr>\n",
       "    <tr>\n",
       "      <th>2</th>\n",
       "      <td>2</td>\n",
       "      <td>30</td>\n",
       "      <td>900816</td>\n",
       "      <td>3</td>\n",
       "      <td>2005-07-08</td>\n",
       "      <td>2003</td>\n",
       "      <td>Something's Gotta Give</td>\n",
       "      <td>919 days</td>\n",
       "      <td>s8056</td>\n",
       "    </tr>\n",
       "    <tr>\n",
       "      <th>3</th>\n",
       "      <td>3</td>\n",
       "      <td>30</td>\n",
       "      <td>1990901</td>\n",
       "      <td>4</td>\n",
       "      <td>2004-05-24</td>\n",
       "      <td>2003</td>\n",
       "      <td>Something's Gotta Give</td>\n",
       "      <td>509 days</td>\n",
       "      <td>s8056</td>\n",
       "    </tr>\n",
       "    <tr>\n",
       "      <th>4</th>\n",
       "      <td>4</td>\n",
       "      <td>30</td>\n",
       "      <td>662337</td>\n",
       "      <td>4</td>\n",
       "      <td>2005-07-08</td>\n",
       "      <td>2003</td>\n",
       "      <td>Something's Gotta Give</td>\n",
       "      <td>919 days</td>\n",
       "      <td>s8056</td>\n",
       "    </tr>\n",
       "    <tr>\n",
       "      <th>...</th>\n",
       "      <td>...</td>\n",
       "      <td>...</td>\n",
       "      <td>...</td>\n",
       "      <td>...</td>\n",
       "      <td>...</td>\n",
       "      <td>...</td>\n",
       "      <td>...</td>\n",
       "      <td>...</td>\n",
       "      <td>...</td>\n",
       "    </tr>\n",
       "    <tr>\n",
       "      <th>14111282</th>\n",
       "      <td>14394810</td>\n",
       "      <td>17725</td>\n",
       "      <td>2526746</td>\n",
       "      <td>4</td>\n",
       "      <td>2005-03-09</td>\n",
       "      <td>1999</td>\n",
       "      <td>Jerry Seinfeld: I'm Telling You for the Last Time</td>\n",
       "      <td>2259 days</td>\n",
       "      <td>s5057</td>\n",
       "    </tr>\n",
       "    <tr>\n",
       "      <th>14111283</th>\n",
       "      <td>14394811</td>\n",
       "      <td>17725</td>\n",
       "      <td>77915</td>\n",
       "      <td>1</td>\n",
       "      <td>2005-03-14</td>\n",
       "      <td>1999</td>\n",
       "      <td>Jerry Seinfeld: I'm Telling You for the Last Time</td>\n",
       "      <td>2264 days</td>\n",
       "      <td>s5057</td>\n",
       "    </tr>\n",
       "    <tr>\n",
       "      <th>14111284</th>\n",
       "      <td>14394812</td>\n",
       "      <td>17725</td>\n",
       "      <td>2180413</td>\n",
       "      <td>2</td>\n",
       "      <td>2005-09-12</td>\n",
       "      <td>1999</td>\n",
       "      <td>Jerry Seinfeld: I'm Telling You for the Last Time</td>\n",
       "      <td>2446 days</td>\n",
       "      <td>s5057</td>\n",
       "    </tr>\n",
       "    <tr>\n",
       "      <th>14111285</th>\n",
       "      <td>14394813</td>\n",
       "      <td>17725</td>\n",
       "      <td>1292639</td>\n",
       "      <td>1</td>\n",
       "      <td>2005-09-30</td>\n",
       "      <td>1999</td>\n",
       "      <td>Jerry Seinfeld: I'm Telling You for the Last Time</td>\n",
       "      <td>2464 days</td>\n",
       "      <td>s5057</td>\n",
       "    </tr>\n",
       "    <tr>\n",
       "      <th>14111286</th>\n",
       "      <td>14394814</td>\n",
       "      <td>17725</td>\n",
       "      <td>87898</td>\n",
       "      <td>4</td>\n",
       "      <td>2005-11-03</td>\n",
       "      <td>1999</td>\n",
       "      <td>Jerry Seinfeld: I'm Telling You for the Last Time</td>\n",
       "      <td>2498 days</td>\n",
       "      <td>s5057</td>\n",
       "    </tr>\n",
       "  </tbody>\n",
       "</table>\n",
       "<p>14111287 rows × 9 columns</p>\n",
       "</div>"
      ],
      "text/plain": [
       "          Unnamed: 0  MovieID   UserID  Rating  Rated Date  Released Date  \\\n",
       "0                  0       30  2173336       5  2004-06-22           2003   \n",
       "1                  1       30  2473170       5  2004-05-22           2003   \n",
       "2                  2       30   900816       3  2005-07-08           2003   \n",
       "3                  3       30  1990901       4  2004-05-24           2003   \n",
       "4                  4       30   662337       4  2005-07-08           2003   \n",
       "...              ...      ...      ...     ...         ...            ...   \n",
       "14111282    14394810    17725  2526746       4  2005-03-09           1999   \n",
       "14111283    14394811    17725    77915       1  2005-03-14           1999   \n",
       "14111284    14394812    17725  2180413       2  2005-09-12           1999   \n",
       "14111285    14394813    17725  1292639       1  2005-09-30           1999   \n",
       "14111286    14394814    17725    87898       4  2005-11-03           1999   \n",
       "\n",
       "                                                      Title Released Since  \\\n",
       "0                                    Something's Gotta Give       538 days   \n",
       "1                                    Something's Gotta Give       507 days   \n",
       "2                                    Something's Gotta Give       919 days   \n",
       "3                                    Something's Gotta Give       509 days   \n",
       "4                                    Something's Gotta Give       919 days   \n",
       "...                                                     ...            ...   \n",
       "14111282  Jerry Seinfeld: I'm Telling You for the Last Time      2259 days   \n",
       "14111283  Jerry Seinfeld: I'm Telling You for the Last Time      2264 days   \n",
       "14111284  Jerry Seinfeld: I'm Telling You for the Last Time      2446 days   \n",
       "14111285  Jerry Seinfeld: I'm Telling You for the Last Time      2464 days   \n",
       "14111286  Jerry Seinfeld: I'm Telling You for the Last Time      2498 days   \n",
       "\n",
       "         show_id  \n",
       "0          s8056  \n",
       "1          s8056  \n",
       "2          s8056  \n",
       "3          s8056  \n",
       "4          s8056  \n",
       "...          ...  \n",
       "14111282   s5057  \n",
       "14111283   s5057  \n",
       "14111284   s5057  \n",
       "14111285   s5057  \n",
       "14111286   s5057  \n",
       "\n",
       "[14111287 rows x 9 columns]"
      ]
     },
     "execution_count": 204,
     "metadata": {},
     "output_type": "execute_result"
    }
   ],
   "source": [
    "data"
   ]
  },
  {
   "cell_type": "code",
   "execution_count": 205,
   "id": "5ecde6b7",
   "metadata": {
    "scrolled": false
   },
   "outputs": [
    {
     "data": {
      "text/html": [
       "<div>\n",
       "<style scoped>\n",
       "    .dataframe tbody tr th:only-of-type {\n",
       "        vertical-align: middle;\n",
       "    }\n",
       "\n",
       "    .dataframe tbody tr th {\n",
       "        vertical-align: top;\n",
       "    }\n",
       "\n",
       "    .dataframe thead th {\n",
       "        text-align: right;\n",
       "    }\n",
       "</style>\n",
       "<table border=\"1\" class=\"dataframe\">\n",
       "  <thead>\n",
       "    <tr style=\"text-align: right;\">\n",
       "      <th></th>\n",
       "      <th>Unnamed: 0</th>\n",
       "      <th>show_id</th>\n",
       "      <th>Title</th>\n",
       "      <th>director</th>\n",
       "      <th>cast</th>\n",
       "      <th>country</th>\n",
       "      <th>date_added</th>\n",
       "      <th>release_year</th>\n",
       "      <th>rating</th>\n",
       "      <th>duration</th>\n",
       "      <th>listed_in</th>\n",
       "      <th>description</th>\n",
       "    </tr>\n",
       "  </thead>\n",
       "  <tbody>\n",
       "    <tr>\n",
       "      <th>0</th>\n",
       "      <td>0</td>\n",
       "      <td>s8056</td>\n",
       "      <td>Something's Gotta Give</td>\n",
       "      <td>Nancy Meyers</td>\n",
       "      <td>Jack Nicholson, Diane Keaton, Keanu Reeves, Fr...</td>\n",
       "      <td>United States</td>\n",
       "      <td>August 1, 2019</td>\n",
       "      <td>2003</td>\n",
       "      <td>PG-13</td>\n",
       "      <td>128 min</td>\n",
       "      <td>Comedies, Romantic Movies</td>\n",
       "      <td>Still sexy at 60, Harry Sanborn wines and dine...</td>\n",
       "    </tr>\n",
       "    <tr>\n",
       "      <th>1</th>\n",
       "      <td>118413</td>\n",
       "      <td>s6642</td>\n",
       "      <td>Dragonheart</td>\n",
       "      <td>Rob Cohen</td>\n",
       "      <td>Sean Connery, Dennis Quaid, David Thewlis, Pet...</td>\n",
       "      <td>United States</td>\n",
       "      <td>January 1, 2020</td>\n",
       "      <td>1996</td>\n",
       "      <td>PG-13</td>\n",
       "      <td>103 min</td>\n",
       "      <td>Action &amp; Adventure, Sci-Fi &amp; Fantasy</td>\n",
       "      <td>In ancient times when majestic fire-breathers ...</td>\n",
       "    </tr>\n",
       "    <tr>\n",
       "      <th>2</th>\n",
       "      <td>135818</td>\n",
       "      <td>s568</td>\n",
       "      <td>Congo</td>\n",
       "      <td>Frank Marshall</td>\n",
       "      <td>Dylan Walsh, Laura Linney, Ernie Hudson, Tim C...</td>\n",
       "      <td>United States</td>\n",
       "      <td>July 1, 2021</td>\n",
       "      <td>1995</td>\n",
       "      <td>PG-13</td>\n",
       "      <td>108 min</td>\n",
       "      <td>Action &amp; Adventure, Thrillers</td>\n",
       "      <td>Eight people, some with ulterior motives, go o...</td>\n",
       "    </tr>\n",
       "    <tr>\n",
       "      <th>3</th>\n",
       "      <td>149416</td>\n",
       "      <td>s601</td>\n",
       "      <td>The Game</td>\n",
       "      <td>David Fincher</td>\n",
       "      <td>Michael Douglas, Sean Penn, Deborah Kara Unger...</td>\n",
       "      <td>United States</td>\n",
       "      <td>July 1, 2021</td>\n",
       "      <td>1997</td>\n",
       "      <td>R</td>\n",
       "      <td>129 min</td>\n",
       "      <td>Thrillers</td>\n",
       "      <td>An aloof investment banker's life spirals into...</td>\n",
       "    </tr>\n",
       "    <tr>\n",
       "      <th>4</th>\n",
       "      <td>187778</td>\n",
       "      <td>s8111</td>\n",
       "      <td>Stuart Little 2</td>\n",
       "      <td>Rob Minkoff</td>\n",
       "      <td>Michael J. Fox, Geena Davis, Hugh Laurie, Jona...</td>\n",
       "      <td>United States</td>\n",
       "      <td>January 1, 2020</td>\n",
       "      <td>2002</td>\n",
       "      <td>PG</td>\n",
       "      <td>78 min</td>\n",
       "      <td>Children &amp; Family Movies, Comedies</td>\n",
       "      <td>Zany misadventures are in store as lovable cit...</td>\n",
       "    </tr>\n",
       "    <tr>\n",
       "      <th>...</th>\n",
       "      <td>...</td>\n",
       "      <td>...</td>\n",
       "      <td>...</td>\n",
       "      <td>...</td>\n",
       "      <td>...</td>\n",
       "      <td>...</td>\n",
       "      <td>...</td>\n",
       "      <td>...</td>\n",
       "      <td>...</td>\n",
       "      <td>...</td>\n",
       "      <td>...</td>\n",
       "      <td>...</td>\n",
       "    </tr>\n",
       "    <tr>\n",
       "      <th>585</th>\n",
       "      <td>14365233</td>\n",
       "      <td>s1442</td>\n",
       "      <td>Hello Brother</td>\n",
       "      <td>Sohail Khan</td>\n",
       "      <td>Salman Khan, Arbaaz Khan, Rani Mukerji, Johny ...</td>\n",
       "      <td>India</td>\n",
       "      <td>January 4, 2021</td>\n",
       "      <td>1999</td>\n",
       "      <td>TV-14</td>\n",
       "      <td>126 min</td>\n",
       "      <td>Action &amp; Adventure, Comedies, International Mo...</td>\n",
       "      <td>After receiving a heart transplant from a murd...</td>\n",
       "    </tr>\n",
       "    <tr>\n",
       "      <th>586</th>\n",
       "      <td>14365322</td>\n",
       "      <td>s7580</td>\n",
       "      <td>New York Minute</td>\n",
       "      <td>Dennie Gordon</td>\n",
       "      <td>Mary-Kate Olsen, Ashley Olsen, Eugene Levy, An...</td>\n",
       "      <td>United States</td>\n",
       "      <td>January 1, 2020</td>\n",
       "      <td>2004</td>\n",
       "      <td>PG</td>\n",
       "      <td>91 min</td>\n",
       "      <td>Children &amp; Family Movies, Comedies</td>\n",
       "      <td>When bickering teenage twins accidentally land...</td>\n",
       "    </tr>\n",
       "    <tr>\n",
       "      <th>587</th>\n",
       "      <td>14378240</td>\n",
       "      <td>s8395</td>\n",
       "      <td>The Little Mermaid</td>\n",
       "      <td>Blake Harris, Chris Bouchard</td>\n",
       "      <td>William Moseley, Poppy Drayton, Loreto Peralta...</td>\n",
       "      <td>United States</td>\n",
       "      <td>December 1, 2018</td>\n",
       "      <td>2018</td>\n",
       "      <td>PG</td>\n",
       "      <td>85 min</td>\n",
       "      <td>Children &amp; Family Movies, Dramas</td>\n",
       "      <td>In this take on the classic tale, a captive ci...</td>\n",
       "    </tr>\n",
       "    <tr>\n",
       "      <th>588</th>\n",
       "      <td>14385226</td>\n",
       "      <td>s2197</td>\n",
       "      <td>Redemption</td>\n",
       "      <td>Mickey Fonseca</td>\n",
       "      <td>Gil Alexandre, Arlete Bombe, Rashid Abdul, Laq...</td>\n",
       "      <td>Mozambique</td>\n",
       "      <td>July 29, 2020</td>\n",
       "      <td>2019</td>\n",
       "      <td>TV-MA</td>\n",
       "      <td>102 min</td>\n",
       "      <td>Dramas, International Movies, Thrillers</td>\n",
       "      <td>Newly released from prison, a man returning to...</td>\n",
       "    </tr>\n",
       "    <tr>\n",
       "      <th>589</th>\n",
       "      <td>14389002</td>\n",
       "      <td>s5057</td>\n",
       "      <td>Jerry Seinfeld: I'm Telling You for the Last Time</td>\n",
       "      <td>Marty Callner</td>\n",
       "      <td>Jerry Seinfeld</td>\n",
       "      <td>United States</td>\n",
       "      <td>January 30, 2018</td>\n",
       "      <td>1998</td>\n",
       "      <td>TV-14</td>\n",
       "      <td>69 min</td>\n",
       "      <td>Stand-Up Comedy</td>\n",
       "      <td>Months after his classic TV sitcom ends, the l...</td>\n",
       "    </tr>\n",
       "  </tbody>\n",
       "</table>\n",
       "<p>590 rows × 12 columns</p>\n",
       "</div>"
      ],
      "text/plain": [
       "     Unnamed: 0 show_id                                              Title  \\\n",
       "0             0   s8056                             Something's Gotta Give   \n",
       "1        118413   s6642                                        Dragonheart   \n",
       "2        135818    s568                                              Congo   \n",
       "3        149416    s601                                           The Game   \n",
       "4        187778   s8111                                    Stuart Little 2   \n",
       "..          ...     ...                                                ...   \n",
       "585    14365233   s1442                                      Hello Brother   \n",
       "586    14365322   s7580                                    New York Minute   \n",
       "587    14378240   s8395                                 The Little Mermaid   \n",
       "588    14385226   s2197                                         Redemption   \n",
       "589    14389002   s5057  Jerry Seinfeld: I'm Telling You for the Last Time   \n",
       "\n",
       "                         director  \\\n",
       "0                    Nancy Meyers   \n",
       "1                       Rob Cohen   \n",
       "2                  Frank Marshall   \n",
       "3                   David Fincher   \n",
       "4                     Rob Minkoff   \n",
       "..                            ...   \n",
       "585                   Sohail Khan   \n",
       "586                 Dennie Gordon   \n",
       "587  Blake Harris, Chris Bouchard   \n",
       "588                Mickey Fonseca   \n",
       "589                 Marty Callner   \n",
       "\n",
       "                                                  cast        country  \\\n",
       "0    Jack Nicholson, Diane Keaton, Keanu Reeves, Fr...  United States   \n",
       "1    Sean Connery, Dennis Quaid, David Thewlis, Pet...  United States   \n",
       "2    Dylan Walsh, Laura Linney, Ernie Hudson, Tim C...  United States   \n",
       "3    Michael Douglas, Sean Penn, Deborah Kara Unger...  United States   \n",
       "4    Michael J. Fox, Geena Davis, Hugh Laurie, Jona...  United States   \n",
       "..                                                 ...            ...   \n",
       "585  Salman Khan, Arbaaz Khan, Rani Mukerji, Johny ...          India   \n",
       "586  Mary-Kate Olsen, Ashley Olsen, Eugene Levy, An...  United States   \n",
       "587  William Moseley, Poppy Drayton, Loreto Peralta...  United States   \n",
       "588  Gil Alexandre, Arlete Bombe, Rashid Abdul, Laq...     Mozambique   \n",
       "589                                     Jerry Seinfeld  United States   \n",
       "\n",
       "           date_added  release_year rating duration  \\\n",
       "0      August 1, 2019          2003  PG-13  128 min   \n",
       "1     January 1, 2020          1996  PG-13  103 min   \n",
       "2        July 1, 2021          1995  PG-13  108 min   \n",
       "3        July 1, 2021          1997      R  129 min   \n",
       "4     January 1, 2020          2002     PG   78 min   \n",
       "..                ...           ...    ...      ...   \n",
       "585   January 4, 2021          1999  TV-14  126 min   \n",
       "586   January 1, 2020          2004     PG   91 min   \n",
       "587  December 1, 2018          2018     PG   85 min   \n",
       "588     July 29, 2020          2019  TV-MA  102 min   \n",
       "589  January 30, 2018          1998  TV-14   69 min   \n",
       "\n",
       "                                             listed_in  \\\n",
       "0                            Comedies, Romantic Movies   \n",
       "1                 Action & Adventure, Sci-Fi & Fantasy   \n",
       "2                        Action & Adventure, Thrillers   \n",
       "3                                            Thrillers   \n",
       "4                   Children & Family Movies, Comedies   \n",
       "..                                                 ...   \n",
       "585  Action & Adventure, Comedies, International Mo...   \n",
       "586                 Children & Family Movies, Comedies   \n",
       "587                   Children & Family Movies, Dramas   \n",
       "588            Dramas, International Movies, Thrillers   \n",
       "589                                    Stand-Up Comedy   \n",
       "\n",
       "                                           description  \n",
       "0    Still sexy at 60, Harry Sanborn wines and dine...  \n",
       "1    In ancient times when majestic fire-breathers ...  \n",
       "2    Eight people, some with ulterior motives, go o...  \n",
       "3    An aloof investment banker's life spirals into...  \n",
       "4    Zany misadventures are in store as lovable cit...  \n",
       "..                                                 ...  \n",
       "585  After receiving a heart transplant from a murd...  \n",
       "586  When bickering teenage twins accidentally land...  \n",
       "587  In this take on the classic tale, a captive ci...  \n",
       "588  Newly released from prison, a man returning to...  \n",
       "589  Months after his classic TV sitcom ends, the l...  \n",
       "\n",
       "[590 rows x 12 columns]"
      ]
     },
     "execution_count": 205,
     "metadata": {},
     "output_type": "execute_result"
    }
   ],
   "source": [
    "details"
   ]
  },
  {
   "cell_type": "markdown",
   "id": "bdad4059",
   "metadata": {},
   "source": [
    "## Plots\n",
    "\n",
    "#### Basic\n",
    "\n",
    "- Number of movies per release date\n",
    "- Number of ratings per movie\n",
    "- Average ratings per movie"
   ]
  },
  {
   "cell_type": "code",
   "execution_count": 206,
   "id": "92394cbc",
   "metadata": {},
   "outputs": [
    {
     "data": {
      "image/png": "[encoded data removed]",
      "text/plain": [
       "<Figure size 432x288 with 1 Axes>"
      ]
     },
     "metadata": {
      "needs_background": "light"
     },
     "output_type": "display_data"
    }
   ],
   "source": [
    "data['Released Date'].hist()\n",
    "plt.title(\"Number of Movies per Release Date\")\n",
    "plt.show()"
   ]
  },
  {
   "cell_type": "code",
   "execution_count": 207,
   "id": "f035a175",
   "metadata": {},
   "outputs": [
    {
     "data": {
      "image/png": "[encoded data removed]",
      "text/plain": [
       "<Figure size 432x288 with 1 Axes>"
      ]
     },
     "metadata": {
      "needs_background": "light"
     },
     "output_type": "display_data"
    }
   ],
   "source": [
    "pd.to_datetime(data['Rated Date']).hist()\n",
    "plt.title(\"Number of Movies Rated Over Time\")\n",
    "plt.show()"
   ]
  },
  {
   "cell_type": "code",
   "execution_count": 208,
   "id": "5db1ed9c",
   "metadata": {},
   "outputs": [
    {
     "data": {
      "text/html": [
       "<div>\n",
       "<style scoped>\n",
       "    .dataframe tbody tr th:only-of-type {\n",
       "        vertical-align: middle;\n",
       "    }\n",
       "\n",
       "    .dataframe tbody tr th {\n",
       "        vertical-align: top;\n",
       "    }\n",
       "\n",
       "    .dataframe thead th {\n",
       "        text-align: right;\n",
       "    }\n",
       "</style>\n",
       "<table border=\"1\" class=\"dataframe\">\n",
       "  <thead>\n",
       "    <tr style=\"text-align: right;\">\n",
       "      <th></th>\n",
       "      <th>Unnamed: 0</th>\n",
       "      <th>MovieID</th>\n",
       "      <th>UserID</th>\n",
       "      <th>Rating</th>\n",
       "      <th>Rated Date</th>\n",
       "      <th>Released Date</th>\n",
       "      <th>Title</th>\n",
       "      <th>Released Since</th>\n",
       "      <th>show_id</th>\n",
       "      <th>month</th>\n",
       "      <th>day_of_month</th>\n",
       "      <th>year</th>\n",
       "    </tr>\n",
       "  </thead>\n",
       "  <tbody>\n",
       "    <tr>\n",
       "      <th>0</th>\n",
       "      <td>0</td>\n",
       "      <td>30</td>\n",
       "      <td>2173336</td>\n",
       "      <td>5</td>\n",
       "      <td>2004-06-22</td>\n",
       "      <td>2003</td>\n",
       "      <td>Something's Gotta Give</td>\n",
       "      <td>538 days</td>\n",
       "      <td>s8056</td>\n",
       "      <td>06</td>\n",
       "      <td>22</td>\n",
       "      <td>2004</td>\n",
       "    </tr>\n",
       "    <tr>\n",
       "      <th>1</th>\n",
       "      <td>1</td>\n",
       "      <td>30</td>\n",
       "      <td>2473170</td>\n",
       "      <td>5</td>\n",
       "      <td>2004-05-22</td>\n",
       "      <td>2003</td>\n",
       "      <td>Something's Gotta Give</td>\n",
       "      <td>507 days</td>\n",
       "      <td>s8056</td>\n",
       "      <td>05</td>\n",
       "      <td>22</td>\n",
       "      <td>2004</td>\n",
       "    </tr>\n",
       "    <tr>\n",
       "      <th>2</th>\n",
       "      <td>2</td>\n",
       "      <td>30</td>\n",
       "      <td>900816</td>\n",
       "      <td>3</td>\n",
       "      <td>2005-07-08</td>\n",
       "      <td>2003</td>\n",
       "      <td>Something's Gotta Give</td>\n",
       "      <td>919 days</td>\n",
       "      <td>s8056</td>\n",
       "      <td>07</td>\n",
       "      <td>08</td>\n",
       "      <td>2005</td>\n",
       "    </tr>\n",
       "    <tr>\n",
       "      <th>3</th>\n",
       "      <td>3</td>\n",
       "      <td>30</td>\n",
       "      <td>1990901</td>\n",
       "      <td>4</td>\n",
       "      <td>2004-05-24</td>\n",
       "      <td>2003</td>\n",
       "      <td>Something's Gotta Give</td>\n",
       "      <td>509 days</td>\n",
       "      <td>s8056</td>\n",
       "      <td>05</td>\n",
       "      <td>24</td>\n",
       "      <td>2004</td>\n",
       "    </tr>\n",
       "    <tr>\n",
       "      <th>4</th>\n",
       "      <td>4</td>\n",
       "      <td>30</td>\n",
       "      <td>662337</td>\n",
       "      <td>4</td>\n",
       "      <td>2005-07-08</td>\n",
       "      <td>2003</td>\n",
       "      <td>Something's Gotta Give</td>\n",
       "      <td>919 days</td>\n",
       "      <td>s8056</td>\n",
       "      <td>07</td>\n",
       "      <td>08</td>\n",
       "      <td>2005</td>\n",
       "    </tr>\n",
       "  </tbody>\n",
       "</table>\n",
       "</div>"
      ],
      "text/plain": [
       "   Unnamed: 0  MovieID   UserID  Rating  Rated Date  Released Date  \\\n",
       "0           0       30  2173336       5  2004-06-22           2003   \n",
       "1           1       30  2473170       5  2004-05-22           2003   \n",
       "2           2       30   900816       3  2005-07-08           2003   \n",
       "3           3       30  1990901       4  2004-05-24           2003   \n",
       "4           4       30   662337       4  2005-07-08           2003   \n",
       "\n",
       "                    Title Released Since show_id month day_of_month  year  \n",
       "0  Something's Gotta Give       538 days   s8056    06           22  2004  \n",
       "1  Something's Gotta Give       507 days   s8056    05           22  2004  \n",
       "2  Something's Gotta Give       919 days   s8056    07           08  2005  \n",
       "3  Something's Gotta Give       509 days   s8056    05           24  2004  \n",
       "4  Something's Gotta Give       919 days   s8056    07           08  2005  "
      ]
     },
     "execution_count": 208,
     "metadata": {},
     "output_type": "execute_result"
    }
   ],
   "source": [
    "#datee = data['Rated Date'].apply(lambda x: datetime.datetime.strptime(x, \"%Y-%m-%d\"))\n",
    "temp = data\n",
    "temp['month'] = data['Rated Date'].apply(lambda x: x.split('-')[1])\n",
    "temp['day_of_month'] = data['Rated Date'].apply(lambda x: x.split('-')[2])\n",
    "temp['year'] = data['Rated Date'].apply(lambda x: x.split('-')[0])\n",
    "temp.head()"
   ]
  },
  {
   "cell_type": "code",
   "execution_count": 209,
   "id": "99f098db",
   "metadata": {},
   "outputs": [],
   "source": [
    "# temp['month'].hist(bins = 20)\n",
    "# plt.title(\"Number of Movies Ratings per Month\")\n",
    "# plt.show()"
   ]
  },
  {
   "cell_type": "code",
   "execution_count": 210,
   "id": "0d151bc5",
   "metadata": {},
   "outputs": [
    {
     "data": {
      "image/png": "[encoded data removed]",
      "text/plain": [
       "<Figure size 432x288 with 1 Axes>"
      ]
     },
     "metadata": {
      "needs_background": "light"
     },
     "output_type": "display_data"
    }
   ],
   "source": [
    "temp.groupby('month')['Rating'].count().plot.bar()\n",
    "plt.title(\"Number of Movie Ratings per Month\")\n",
    "plt.show()"
   ]
  },
  {
   "cell_type": "code",
   "execution_count": 211,
   "id": "733ef81d",
   "metadata": {},
   "outputs": [
    {
     "data": {
      "image/png": "[encoded data removed]",
      "text/plain": [
       "<Figure size 432x288 with 1 Axes>"
      ]
     },
     "metadata": {
      "needs_background": "light"
     },
     "output_type": "display_data"
    }
   ],
   "source": [
    "temp.groupby('year')['Rating'].count().plot.bar()\n",
    "plt.title(\"Number of Movie Ratings per Year\")\n",
    "plt.show()"
   ]
  },
  {
   "cell_type": "code",
   "execution_count": 212,
   "id": "69a1f08e",
   "metadata": {},
   "outputs": [
    {
     "data": {
      "image/png": "[encoded data removed]",
      "text/plain": [
       "<Figure size 432x288 with 1 Axes>"
      ]
     },
     "metadata": {
      "needs_background": "light"
     },
     "output_type": "display_data"
    }
   ],
   "source": [
    "temp.groupby('day_of_month')['Rating'].count().plot.bar()\n",
    "plt.title(\"Number of Movie Ratings per day_of_month\")\n",
    "plt.show()"
   ]
  },
  {
   "cell_type": "code",
   "execution_count": 213,
   "id": "2812708b",
   "metadata": {},
   "outputs": [
    {
     "data": {
      "image/png": "[encoded data removed]",
      "text/plain": [
       "<Figure size 432x288 with 1 Axes>"
      ]
     },
     "metadata": {
      "needs_background": "light"
     },
     "output_type": "display_data"
    }
   ],
   "source": [
    "temp.groupby('month')['Rating'].mean().plot.bar()\n",
    "plt.title(\"Average Ratings per Month\")\n",
    "plt.show()"
   ]
  },
  {
   "cell_type": "code",
   "execution_count": 214,
   "id": "cdc51be4",
   "metadata": {},
   "outputs": [
    {
     "data": {
      "image/png": "[encoded data removed]",
      "text/plain": [
       "<Figure size 432x288 with 1 Axes>"
      ]
     },
     "metadata": {
      "needs_background": "light"
     },
     "output_type": "display_data"
    }
   ],
   "source": [
    "temp.groupby('day_of_month')['Rating'].mean().plot.bar()\n",
    "plt.title(\"Average Ratings per day_of_month\")\n",
    "plt.show()"
   ]
  },
  {
   "cell_type": "code",
   "execution_count": 215,
   "id": "99572c80",
   "metadata": {},
   "outputs": [
    {
     "data": {
      "image/png": "[encoded data removed]",
      "text/plain": [
       "<Figure size 432x288 with 1 Axes>"
      ]
     },
     "metadata": {
      "needs_background": "light"
     },
     "output_type": "display_data"
    }
   ],
   "source": [
    "temp.groupby('year')['Rating'].mean().plot.bar()\n",
    "plt.title(\"Average of Movie Ratings per Year\")\n",
    "plt.show()"
   ]
  },
  {
   "cell_type": "code",
   "execution_count": 216,
   "id": "16eff1f0",
   "metadata": {},
   "outputs": [],
   "source": [
    "word_to_ix = {}\n",
    "num_unique_words = 0\n",
    "for d in details['Title']:\n",
    "    sent = d.split()\n",
    "    for word in sent:\n",
    "        word = word.lower()\n",
    "        if word not in word_to_ix:\n",
    "            word_to_ix[word] = 1\n",
    "            num_unique_words += 1\n",
    "        else:\n",
    "            word_to_ix[word] = word_to_ix[word] + 1"
   ]
  },
  {
   "cell_type": "code",
   "execution_count": 217,
   "id": "ee771238",
   "metadata": {},
   "outputs": [
    {
     "data": {
      "text/plain": [
       "[('the', 144),\n",
       " ('of', 34),\n",
       " ('in', 21),\n",
       " ('a', 19),\n",
       " ('and', 12),\n",
       " ('2', 10),\n",
       " ('american', 10),\n",
       " ('little', 8),\n",
       " ('love', 7),\n",
       " ('&', 6),\n",
       " ('dil', 6),\n",
       " ('hai', 6),\n",
       " ('day', 6),\n",
       " ('house', 6),\n",
       " ('to', 6),\n",
       " ('time', 6),\n",
       " ('night', 6),\n",
       " ('on', 5),\n",
       " ('rocky', 5),\n",
       " ('for', 5),\n",
       " ('my', 5),\n",
       " ('jones', 5),\n",
       " ('me', 5),\n",
       " ('girl', 4),\n",
       " ('kid', 4),\n",
       " ('movie', 4),\n",
       " ('men', 4),\n",
       " ('spy', 4),\n",
       " ('monster', 4),\n",
       " ('black', 4),\n",
       " ('ii', 4),\n",
       " ('last', 4),\n",
       " ('party', 4),\n",
       " ('an', 4),\n",
       " ('one', 4),\n",
       " ('tremors', 3),\n",
       " ('boy', 3),\n",
       " ('jaws', 3),\n",
       " ('run', 3),\n",
       " ('na', 3),\n",
       " ('good', 3),\n",
       " ('four', 3),\n",
       " ('mystery', 3),\n",
       " ('3', 3),\n",
       " ('kids', 3),\n",
       " ('island', 3),\n",
       " ('dreams', 3),\n",
       " ('mirror', 3),\n",
       " ('ninja', 3),\n",
       " ('wild', 3),\n",
       " ('west', 3),\n",
       " ('what', 3),\n",
       " ('do', 3),\n",
       " ('sam', 3),\n",
       " ('blue', 3),\n",
       " ('you', 3),\n",
       " ('3:', 3),\n",
       " ('austin', 3),\n",
       " ('thing', 3),\n",
       " ('money', 3),\n",
       " ('river', 3),\n",
       " ('balto', 3),\n",
       " ('new', 3),\n",
       " ('stuart', 2),\n",
       " ('legend', 2),\n",
       " ('flintstones', 2),\n",
       " ('vegas', 2),\n",
       " ('kill', 2),\n",
       " ('bill:', 2),\n",
       " ('vol.', 2),\n",
       " ('genius', 2),\n",
       " ('park', 2),\n",
       " ('brother', 2),\n",
       " ('main', 2),\n",
       " ('too', 2),\n",
       " ('deep', 2),\n",
       " ('psycho', 2),\n",
       " ('baby', 2),\n",
       " ('first', 2),\n",
       " ('under', 2),\n",
       " ('mr.', 2),\n",
       " ('apna', 2),\n",
       " ('nothing', 2),\n",
       " ('not', 2),\n",
       " ('another', 2),\n",
       " ('willy', 2),\n",
       " ('bad', 2),\n",
       " ('boys', 2),\n",
       " ('scream', 2),\n",
       " ('like', 2),\n",
       " ('chocolate', 2),\n",
       " ('aapke', 2),\n",
       " ('kuch', 2),\n",
       " ('2:', 2),\n",
       " ('cat', 2),\n",
       " ('benji', 2),\n",
       " ('about', 2),\n",
       " ('fear', 2),\n",
       " ('all', 2),\n",
       " ('tarzan', 2),\n",
       " ('two', 2),\n",
       " ('event', 2),\n",
       " ('man', 2),\n",
       " ('mystic', 2),\n",
       " ('karate', 2),\n",
       " ('part', 2),\n",
       " ('big', 2),\n",
       " ('bob', 2),\n",
       " ('back', 2),\n",
       " ('killer', 2),\n",
       " ('end', 2),\n",
       " ('monty', 2),\n",
       " ('life', 2),\n",
       " ('rush', 2),\n",
       " ('hard', 2),\n",
       " (\"ocean's\", 2),\n",
       " ('fools', 2),\n",
       " ('i', 2),\n",
       " ('red', 2),\n",
       " ('remember', 2),\n",
       " ('best', 2),\n",
       " ('off', 2),\n",
       " ('space', 2),\n",
       " ('hindustani', 2),\n",
       " (\"charlie's\", 2),\n",
       " ('down', 2),\n",
       " ('girls', 2),\n",
       " ('full', 2),\n",
       " ('once', 2),\n",
       " ('upon', 2),\n",
       " ('it', 2),\n",
       " ('streets', 2),\n",
       " ('is', 2),\n",
       " ('small', 2),\n",
       " ('tail:', 2),\n",
       " ('goes', 2),\n",
       " ('prince', 2),\n",
       " ('at', 2),\n",
       " ('world', 2),\n",
       " ('dead', 2),\n",
       " ('family', 2),\n",
       " ('rugrats', 2),\n",
       " ('roof', 2),\n",
       " ('when', 2),\n",
       " (\"i'm\", 2),\n",
       " ('daddy', 2),\n",
       " ('as', 2),\n",
       " ('america', 2),\n",
       " ('teenage', 2),\n",
       " ('mutant', 2),\n",
       " ('turtles', 2),\n",
       " ('no', 2),\n",
       " ('bridge', 2),\n",
       " ('final', 2),\n",
       " ('destination', 2),\n",
       " ('york', 2),\n",
       " ('chalte', 2),\n",
       " ('white', 2),\n",
       " ('indiana', 2),\n",
       " ('fire', 2),\n",
       " ('chitty', 2),\n",
       " ('bang', 2),\n",
       " ('dark', 2),\n",
       " ('edge', 2),\n",
       " ('powers:', 2),\n",
       " ('factory', 2),\n",
       " ('kinison:', 2),\n",
       " ('live', 2),\n",
       " (\"something's\", 1),\n",
       " ('gotta', 1),\n",
       " ('give', 1),\n",
       " ('dragonheart', 1),\n",
       " ('congo', 1),\n",
       " ('game', 1),\n",
       " (\"charlotte's\", 1),\n",
       " ('web', 1),\n",
       " ('mann', 1),\n",
       " ('chasing', 1),\n",
       " ('amy', 1),\n",
       " ('4:', 1),\n",
       " ('begins', 1),\n",
       " ('swarm', 1),\n",
       " ('viva', 1),\n",
       " ('rock', 1),\n",
       " ('still', 1),\n",
       " ('jeans', 1),\n",
       " ('jimmy', 1),\n",
       " ('neutron:', 1),\n",
       " ('beauty', 1),\n",
       " ('domestic', 1),\n",
       " ('disturbance', 1),\n",
       " (\"logan's\", 1),\n",
       " ('mansfield', 1),\n",
       " ('body', 1),\n",
       " ('animal', 1),\n",
       " ('crackers', 1),\n",
       " ('fallen', 1),\n",
       " ('scarecrow', 1),\n",
       " ('cincinnati', 1),\n",
       " ('rhyme', 1),\n",
       " ('reason', 1),\n",
       " ('hoon', 1),\n",
       " ('chahta', 1),\n",
       " (\"king's\", 1),\n",
       " ('ransom', 1),\n",
       " ('jackpot', 1),\n",
       " ('coach', 1),\n",
       " ('carter', 1),\n",
       " ('dostana', 1),\n",
       " ('training', 1),\n",
       " ('mutiny', 1),\n",
       " ('bounty', 1),\n",
       " ('naked', 1),\n",
       " ('kyun!', 1),\n",
       " ('ho', 1),\n",
       " ('gaya', 1),\n",
       " ('bawarchi', 1),\n",
       " ('s.w.a.t.', 1),\n",
       " ('sherlock', 1),\n",
       " ('holmes', 1),\n",
       " (\"mother's\", 1),\n",
       " ('kurt', 1),\n",
       " ('courtney', 1),\n",
       " ('piano', 1),\n",
       " ('next', 1),\n",
       " ('door', 1),\n",
       " ('popeye', 1),\n",
       " ('superstar', 1),\n",
       " ('v', 1),\n",
       " ('president', 1),\n",
       " ('target', 1),\n",
       " ('clash', 1),\n",
       " ('titans', 1),\n",
       " ('trainspotting', 1),\n",
       " ('luck', 1),\n",
       " (\"rosemary's\", 1),\n",
       " ('evolution', 1),\n",
       " ('amityville', 1),\n",
       " ('horror', 1),\n",
       " ('50', 1),\n",
       " ('dates', 1),\n",
       " ('slam', 1),\n",
       " ('diary', 1),\n",
       " ('chambermaid', 1),\n",
       " ('weddings', 1),\n",
       " ('funeral', 1),\n",
       " ('siege', 1),\n",
       " ('talented', 1),\n",
       " ('ripley', 1),\n",
       " ('andaz', 1),\n",
       " ('bliss', 1),\n",
       " ('rebecca', 1),\n",
       " ('lose', 1),\n",
       " ('teen', 1),\n",
       " ('free', 1),\n",
       " ('baseketball', 1),\n",
       " ('lock', 1),\n",
       " ('biggie', 1),\n",
       " ('tupac', 1),\n",
       " ('duel', 1),\n",
       " ('center', 1),\n",
       " ('stage', 1),\n",
       " ('shanghai', 1),\n",
       " ('water', 1),\n",
       " ('cinderella', 1),\n",
       " ('story', 1),\n",
       " ('revelations', 1),\n",
       " ('exit', 1),\n",
       " ('wounds', 1),\n",
       " ('hum', 1),\n",
       " ('hain', 1),\n",
       " ('koun', 1),\n",
       " ('hota', 1),\n",
       " ('paheli', 1),\n",
       " ('now', 1),\n",
       " ('then', 1),\n",
       " ('lost', 1),\n",
       " ('satte', 1),\n",
       " ('pe', 1),\n",
       " ('satta', 1),\n",
       " ('pianist', 1),\n",
       " ('longest', 1),\n",
       " ('yard', 1),\n",
       " ('cleopatra', 1),\n",
       " ('dr.', 1),\n",
       " (\"seuss'\", 1),\n",
       " ('hat', 1),\n",
       " ('saint', 1),\n",
       " ('koshish', 1),\n",
       " ('croupier', 1),\n",
       " ('awara', 1),\n",
       " ('paagal', 1),\n",
       " ('deewana', 1),\n",
       " ('seasons', 1),\n",
       " ('cousins', 1),\n",
       " ('nicky', 1),\n",
       " (\"dante's\", 1),\n",
       " ('peak', 1),\n",
       " ('kabhi', 1),\n",
       " ('khushi', 1),\n",
       " ('kabhie', 1),\n",
       " ('gham', 1),\n",
       " ('kaalia', 1),\n",
       " ('doctor', 1),\n",
       " ('zhivago', 1),\n",
       " ('ravenous', 1),\n",
       " ('laugh', 1),\n",
       " ('highway', 1),\n",
       " ('beast', 1),\n",
       " ('stargate', 1),\n",
       " ('loathing', 1),\n",
       " ('las', 1),\n",
       " ('sum', 1),\n",
       " ('fears', 1),\n",
       " ('boom', 1),\n",
       " ('beverly', 1),\n",
       " ('hills', 1),\n",
       " ('safe', 1),\n",
       " ('insan', 1),\n",
       " ('lifeline', 1),\n",
       " ('darna', 1),\n",
       " ('mana', 1),\n",
       " ('mars', 1),\n",
       " ('attacks!', 1),\n",
       " ('has', 1),\n",
       " ('faces', 1),\n",
       " ('master', 1),\n",
       " ('point', 1),\n",
       " ('blank', 1),\n",
       " ('hazaaron', 1),\n",
       " ('khwaishein', 1),\n",
       " ('aisi', 1),\n",
       " ('khoobsurat', 1),\n",
       " ('ordinary', 1),\n",
       " ('people', 1),\n",
       " ('whipped', 1),\n",
       " ('forgotten', 1),\n",
       " ('arrest', 1),\n",
       " ('rain', 1),\n",
       " ('wrinkle', 1),\n",
       " ('pizza', 1),\n",
       " ('golden', 1),\n",
       " ('child', 1),\n",
       " ('cabin', 1),\n",
       " ('fever', 1),\n",
       " ('martin', 1),\n",
       " ('lawrence', 1),\n",
       " ('live:', 1),\n",
       " ('runteldat', 1),\n",
       " ('tortilla', 1),\n",
       " ('soup', 1),\n",
       " ('u', 1),\n",
       " ('turn', 1),\n",
       " ('loco', 1),\n",
       " ('grass', 1),\n",
       " ('maine', 1),\n",
       " ('pyar', 1),\n",
       " ('kiya', 1),\n",
       " ('swades', 1),\n",
       " ('seabiscuit', 1),\n",
       " ('lies', 1),\n",
       " ('beneath', 1),\n",
       " ('fearless', 1),\n",
       " ('angel', 1),\n",
       " ('eyes', 1),\n",
       " ('bonnie', 1),\n",
       " ('clyde', 1),\n",
       " ('patriot', 1),\n",
       " ('games', 1),\n",
       " ('fat', 1),\n",
       " ('liar', 1),\n",
       " ('jay', 1),\n",
       " ('silent', 1),\n",
       " ('strike', 1),\n",
       " ('pukar', 1),\n",
       " ('yaadein', 1),\n",
       " ('apostate', 1),\n",
       " ('machinist', 1),\n",
       " ('assignment', 1),\n",
       " (\"python's\", 1),\n",
       " ('brian', 1),\n",
       " ('cool', 1),\n",
       " ('hand', 1),\n",
       " ('luke', 1),\n",
       " ('machine', 1),\n",
       " ('nutty', 1),\n",
       " ('professor', 1),\n",
       " ('sahara', 1),\n",
       " ('dude', 1),\n",
       " ('art', 1),\n",
       " ('war', 1),\n",
       " ('xxx:', 1),\n",
       " ('state', 1),\n",
       " ('union', 1),\n",
       " ('trash', 1),\n",
       " ('sling', 1),\n",
       " ('blade', 1),\n",
       " ('underworld', 1),\n",
       " ('lagaan', 1),\n",
       " ('way', 1),\n",
       " ('eleven', 1),\n",
       " ('ghayal', 1),\n",
       " ('why', 1),\n",
       " ('fall', 1),\n",
       " ('brothers', 1),\n",
       " ('am', 1),\n",
       " ('starsky', 1),\n",
       " ('hutch', 1),\n",
       " ('dawn', 1),\n",
       " ('crash', 1),\n",
       " ('snow', 1),\n",
       " ('donnie', 1),\n",
       " ('brasco', 1),\n",
       " ('walk', 1),\n",
       " ('aftershock', 1),\n",
       " ('michael', 1),\n",
       " ('joseph:', 1),\n",
       " ('king', 1),\n",
       " ('benji:', 1),\n",
       " ('leash', 1),\n",
       " ('beethoven', 1),\n",
       " ('cowboys', 1),\n",
       " ('city', 1),\n",
       " ('god', 1),\n",
       " ('raja', 1),\n",
       " ('angels', 1),\n",
       " ('get', 1),\n",
       " ('smart', 1),\n",
       " ('sea', 1),\n",
       " ('quincy', 1),\n",
       " ('craft', 1),\n",
       " ('hawk', 1),\n",
       " ('kingpin', 1),\n",
       " ('loving', 1),\n",
       " ('shabd', 1),\n",
       " ('calendar', 1),\n",
       " ('sabotage', 1),\n",
       " ('sleepover', 1),\n",
       " ('terminator', 1),\n",
       " ('rise', 1),\n",
       " ('machines', 1),\n",
       " ('ferris', 1),\n",
       " (\"bueller's\", 1),\n",
       " ('whole', 1),\n",
       " ('nine', 1),\n",
       " ('yards', 1),\n",
       " ('powers', 1),\n",
       " ('goldmember', 1),\n",
       " ('angels:', 1),\n",
       " ('throttle', 1),\n",
       " ('dna', 1),\n",
       " ('trimurti', 1),\n",
       " ('pelican', 1),\n",
       " ('brief', 1),\n",
       " ('right', 1),\n",
       " ('takes', 1),\n",
       " (\"sister's\", 1),\n",
       " ('keeper', 1),\n",
       " ('mean', 1),\n",
       " ('solo', 1),\n",
       " ('where', 1),\n",
       " ('beowulf', 1),\n",
       " ('waiting', 1),\n",
       " ('die', 1),\n",
       " ('david', 1),\n",
       " ('gale', 1),\n",
       " ('scary', 1),\n",
       " ('kevin', 1),\n",
       " ('james:', 1),\n",
       " ('sweat', 1),\n",
       " ('stuff', 1),\n",
       " ('kaal', 1),\n",
       " ('long', 1),\n",
       " ('riders', 1),\n",
       " ('klowns', 1),\n",
       " ('from', 1),\n",
       " ('outer', 1),\n",
       " (\"can't\", 1),\n",
       " ('hardly', 1),\n",
       " ('wait', 1),\n",
       " ('fievel', 1),\n",
       " ('school', 1),\n",
       " ('daze', 1),\n",
       " ('rumble', 1),\n",
       " ('bronx', 1),\n",
       " ('freaks', 1),\n",
       " ('charming', 1),\n",
       " (\"boss's\", 1),\n",
       " ('daughter', 1),\n",
       " ('roxbury', 1),\n",
       " (\"bebe's\", 1),\n",
       " ('amandla!', 1),\n",
       " ('revolution', 1),\n",
       " ('harmony', 1),\n",
       " ('detour', 1),\n",
       " ('net', 1),\n",
       " ('butterfield', 1),\n",
       " ('8', 1),\n",
       " ('hop', 1),\n",
       " (\"beethoven's\", 1),\n",
       " ('2nd', 1),\n",
       " ('quigley', 1),\n",
       " ('original', 1),\n",
       " ('kings', 1),\n",
       " ('comedy', 1),\n",
       " ('soldier', 1),\n",
       " ('fida', 1),\n",
       " ('enough', 1),\n",
       " ('guns', 1),\n",
       " ('navarone', 1),\n",
       " ('crocodile', 1),\n",
       " ('dundee', 1),\n",
       " ('los', 1),\n",
       " ('angeles', 1),\n",
       " ('mad', 1),\n",
       " ('max', 1),\n",
       " ('sweeney', 1),\n",
       " ('todd:', 1),\n",
       " ('demon', 1),\n",
       " ('barber', 1),\n",
       " ('fleet', 1),\n",
       " ('street', 1),\n",
       " ('evil', 1),\n",
       " ('catch', 1),\n",
       " ('if', 1),\n",
       " ('can', 1),\n",
       " ('executive', 1),\n",
       " ('decision', 1),\n",
       " ('quartet', 1),\n",
       " ('strictly', 1),\n",
       " ('ballroom', 1),\n",
       " ('always', 1),\n",
       " ('bridesmaid', 1),\n",
       " ('grown', 1),\n",
       " ('ups', 1),\n",
       " ('187', 1),\n",
       " ('rounders', 1),\n",
       " ('affair', 1),\n",
       " ('universal', 1),\n",
       " ('soldier:', 1),\n",
       " ('return', 1),\n",
       " ('arthur', 1),\n",
       " ('boogie', 1),\n",
       " ('nights', 1),\n",
       " ('hero', 1),\n",
       " ('kiss', 1),\n",
       " ('destiny', 1),\n",
       " ('gol', 1),\n",
       " ('maal', 1),\n",
       " ('twilight', 1),\n",
       " ('dennis', 1),\n",
       " ('menace', 1),\n",
       " ('father', 1),\n",
       " ('texas', 1),\n",
       " ('chainsaw', 1),\n",
       " ('massacre', 1),\n",
       " ('natural', 1),\n",
       " ('striptease', 1),\n",
       " ('platoon', 1),\n",
       " ('fiddler', 1),\n",
       " (\"i'll\", 1),\n",
       " ('sleep', 1),\n",
       " ('undefeated', 1),\n",
       " ('iii', 1),\n",
       " ('wedding', 1),\n",
       " ('care', 1),\n",
       " ('bittersweet', 1),\n",
       " ('silence', 1),\n",
       " ('28', 1),\n",
       " ('days', 1),\n",
       " ('melvin', 1),\n",
       " ('dinner', 1),\n",
       " ('gets', 1),\n",
       " ('deeds', 1),\n",
       " ('hush', 1),\n",
       " ('jaws:', 1),\n",
       " ('revenge', 1),\n",
       " ('beavis', 1),\n",
       " ('butt-head', 1),\n",
       " ('wolf', 1),\n",
       " ('quest', 1),\n",
       " ('stripes', 1),\n",
       " ('amar', 1),\n",
       " ('akbar', 1),\n",
       " ('anthony', 1),\n",
       " ('monster-in-law', 1),\n",
       " ('heavy', 1),\n",
       " ('copenhagen', 1),\n",
       " ('show', 1),\n",
       " ('ii:', 1),\n",
       " ('secret', 1),\n",
       " ('ooze', 1),\n",
       " ('miss', 1),\n",
       " ('julie', 1),\n",
       " ('lionheart', 1),\n",
       " ('chameli', 1),\n",
       " ('midnight', 1),\n",
       " ('taxi', 1),\n",
       " ('driver', 1),\n",
       " ('escape', 1),\n",
       " ('babysitter', 1),\n",
       " ('kung', 1),\n",
       " ('fu', 1),\n",
       " ('hustle', 1),\n",
       " ('gospel', 1),\n",
       " ('john', 1),\n",
       " ('twelve', 1),\n",
       " ('runaway', 1),\n",
       " ('bride', 1),\n",
       " ('score', 1),\n",
       " ('direction', 1),\n",
       " ('home:', 1),\n",
       " ('dylan', 1),\n",
       " ('clockwork', 1),\n",
       " ('orange', 1),\n",
       " ('searching', 1),\n",
       " ('bobby', 1),\n",
       " ('fischer', 1),\n",
       " ('malevolent', 1),\n",
       " ('soldiers', 1),\n",
       " ('rainmaker', 1),\n",
       " ('season', 1),\n",
       " ('witch', 1),\n",
       " ('cold', 1),\n",
       " ('mountain', 1),\n",
       " ('duplicate', 1),\n",
       " ('opening', 1),\n",
       " ('gangs', 1),\n",
       " ('beguiled', 1),\n",
       " ('hamburger', 1),\n",
       " ('hill', 1),\n",
       " ('transcendence', 1),\n",
       " ('don', 1),\n",
       " ('employee', 1),\n",
       " ('month', 1),\n",
       " ('how', 1),\n",
       " ('make', 1),\n",
       " ('quilt', 1),\n",
       " ('dragonheart:', 1),\n",
       " ('beginning', 1),\n",
       " ('pulp', 1),\n",
       " ('fiction', 1),\n",
       " ('tail', 1),\n",
       " ('passenger', 1),\n",
       " ('57', 1),\n",
       " ('history', 1),\n",
       " ('x', 1),\n",
       " ('fang', 1),\n",
       " ('initial', 1),\n",
       " ('d', 1),\n",
       " ('la', 1),\n",
       " ('bamba', 1),\n",
       " ('true', 1),\n",
       " ('grit', 1),\n",
       " ('company', 1),\n",
       " ('layer', 1),\n",
       " ('cake', 1),\n",
       " ('lagoon', 1),\n",
       " ('scooby-doo', 1),\n",
       " ('zombie', 1),\n",
       " ('wishing', 1),\n",
       " ('tree', 1),\n",
       " ('may', 1),\n",
       " ('come', 1),\n",
       " ('burger', 1),\n",
       " ('hide', 1),\n",
       " ('seek', 1),\n",
       " ('swordfish', 1),\n",
       " ('casino', 1),\n",
       " ('royale', 1),\n",
       " ('hairspray', 1),\n",
       " ('happy', 1),\n",
       " ('times', 1),\n",
       " ('temple', 1),\n",
       " ('doom', 1),\n",
       " ('fireworks', 1),\n",
       " ('million', 1),\n",
       " ('dollar', 1),\n",
       " ('sylvia', 1),\n",
       " ('super', 1),\n",
       " ('runner', 1),\n",
       " ('bewafaa', 1),\n",
       " ('dumb', 1),\n",
       " ('dumberer:', 1),\n",
       " ('harry', 1),\n",
       " ('met', 1),\n",
       " ('lloyd', 1),\n",
       " ('or', 1),\n",
       " ('sabrina', 1),\n",
       " ('line', 1),\n",
       " ('agneepath', 1),\n",
       " ('high', 1),\n",
       " ('society', 1),\n",
       " ('uncorked', 1),\n",
       " ('iceman', 1),\n",
       " ('primal', 1),\n",
       " (\"child's\", 1),\n",
       " ('play', 1),\n",
       " ('blaze', 1),\n",
       " ('kate', 1),\n",
       " ('leopold', 1),\n",
       " ('sleepless', 1),\n",
       " ('cliffhanger', 1),\n",
       " ('battlefield', 1),\n",
       " ('earth', 1),\n",
       " ('healer', 1),\n",
       " ('paris:', 1),\n",
       " ('along', 1),\n",
       " ('came', 1),\n",
       " ('spider', 1),\n",
       " ('phantom', 1),\n",
       " ('opera', 1),\n",
       " ('rize', 1),\n",
       " ('uncovered', 1),\n",
       " ('kya', 1),\n",
       " ('kehna', 1),\n",
       " ('khalnayak', 1),\n",
       " ('got', 1),\n",
       " ('hook', 1),\n",
       " ('up', 1),\n",
       " ('jimi', 1),\n",
       " ('hendrix', 1),\n",
       " ('beyond', 1),\n",
       " ('clouds', 1),\n",
       " ('eerie', 1),\n",
       " ('crystal', 1),\n",
       " ('mischief', 1),\n",
       " ('hangman', 1),\n",
       " ('dad', 1),\n",
       " ('drive', 1),\n",
       " ('foreigner', 1),\n",
       " ('candyman', 1),\n",
       " ('interpreter', 1),\n",
       " ('swami', 1),\n",
       " ('hot', 1),\n",
       " ('tin', 1),\n",
       " (\"who's\", 1),\n",
       " ('that', 1),\n",
       " ('knocking', 1),\n",
       " ('door?', 1),\n",
       " (\"river's\", 1),\n",
       " ('out', 1),\n",
       " ('battle', 1),\n",
       " ('midway', 1),\n",
       " ('monsters', 1),\n",
       " (\"schindler's\", 1),\n",
       " ('list', 1),\n",
       " ('carrie', 1),\n",
       " ('head', 1),\n",
       " ('double', 1),\n",
       " ('jeopardy', 1),\n",
       " ('horizon', 1),\n",
       " ('outlaws', 1),\n",
       " ('phir', 1),\n",
       " ('bhi', 1),\n",
       " ('elaan', 1),\n",
       " ('hera', 1),\n",
       " ('pheri', 1),\n",
       " ('socha', 1),\n",
       " ('tha', 1),\n",
       " ('lessons', 1),\n",
       " (\"what's\", 1),\n",
       " ('eating', 1),\n",
       " ('gilbert', 1),\n",
       " ('grape', 1),\n",
       " ('international', 1),\n",
       " ('gigi', 1),\n",
       " ('billy', 1),\n",
       " ('elliot', 1),\n",
       " ('streak', 1),\n",
       " ('player', 1),\n",
       " ('skins', 1),\n",
       " ('iv', 1),\n",
       " ('much', 1),\n",
       " ('ado', 1),\n",
       " ('pink', 1),\n",
       " ('panther', 1),\n",
       " ('george', 1),\n",
       " ('jungle', 1),\n",
       " ('air', 1),\n",
       " ('force', 1),\n",
       " ('amateur', 1),\n",
       " ('english', 1),\n",
       " ('babu', 1),\n",
       " ('desi', 1),\n",
       " ('mem', 1),\n",
       " ('basic', 1),\n",
       " ('instinct', 1),\n",
       " ('fiza', 1),\n",
       " ('chosen', 1),\n",
       " ('wives', 1),\n",
       " ('club', 1),\n",
       " ('raging', 1),\n",
       " ('bull', 1),\n",
       " ('crow', 1),\n",
       " ('seventeen', 1),\n",
       " ('tears', 1),\n",
       " ('sun', 1),\n",
       " ('wonka', 1),\n",
       " ('total', 1),\n",
       " ('recall', 1),\n",
       " ('package', 1),\n",
       " (\"jacob's\", 1),\n",
       " ('ladder', 1),\n",
       " ('lolita', 1),\n",
       " ('far', 1),\n",
       " ('judwaa', 1),\n",
       " ('python', 1),\n",
       " ('holy', 1),\n",
       " ('grail', 1),\n",
       " ('wants', 1),\n",
       " ('wind', 1),\n",
       " ('mercy', 1),\n",
       " ('1', 1),\n",
       " ('cut', 1),\n",
       " ('christmas', 1),\n",
       " ('equilibrium', 1),\n",
       " ('kon-tiki', 1),\n",
       " ('asoka', 1),\n",
       " ('outsider', 1),\n",
       " ('waterboy', 1),\n",
       " ('labyrinth', 1),\n",
       " ('matrix', 1),\n",
       " ('who', 1),\n",
       " ('shagged', 1),\n",
       " ('sweetest', 1),\n",
       " ('se', 1),\n",
       " ('k-19:', 1),\n",
       " ('widowmaker', 1),\n",
       " ('team', 1),\n",
       " ('america:', 1),\n",
       " ('police', 1),\n",
       " ('gosford', 1),\n",
       " ('bombay', 1),\n",
       " ('yuva', 1),\n",
       " ('heartbreakers', 1),\n",
       " ('grease', 1),\n",
       " ('stand', 1),\n",
       " ('miracle', 1),\n",
       " ('osmosis', 1),\n",
       " ('entertainment', 1),\n",
       " ('hour', 1),\n",
       " ('superfly', 1),\n",
       " ('breaking', 1),\n",
       " ('rules', 1),\n",
       " ('wings', 1),\n",
       " ('change', 1),\n",
       " ('indian', 1),\n",
       " ('cupboard', 1),\n",
       " ('friday', 1),\n",
       " ('13th', 1),\n",
       " ('jhankaar', 1),\n",
       " ('beats', 1),\n",
       " ('hamara', 1),\n",
       " ('paas', 1),\n",
       " ('talks', 1),\n",
       " ('howards', 1),\n",
       " ('mona', 1),\n",
       " ('lisa', 1),\n",
       " ('smile', 1),\n",
       " ('lakshya', 1),\n",
       " ('taal', 1),\n",
       " ('backtrack', 1),\n",
       " ('heartbreak', 1),\n",
       " ('cradle', 1),\n",
       " ('grave', 1),\n",
       " ('peacemaker', 1),\n",
       " ('raising', 1),\n",
       " ('victor', 1),\n",
       " ('vargas', 1),\n",
       " ('mask', 1),\n",
       " ('zorro', 1),\n",
       " (\"don't\", 1),\n",
       " ('cost', 1),\n",
       " ('blind', 1),\n",
       " ('date', 1),\n",
       " ('hellboy', 1),\n",
       " ('scout', 1),\n",
       " ('maximum', 1),\n",
       " ('risk', 1),\n",
       " ('aitraaz', 1),\n",
       " ('gangaajal', 1),\n",
       " ('zoot', 1),\n",
       " ('suit', 1),\n",
       " ('son', 1),\n",
       " ('waters', 1),\n",
       " ('clear', 1),\n",
       " ('present', 1),\n",
       " ('danger', 1),\n",
       " ('richard', 1),\n",
       " ('pryor:', 1),\n",
       " ('concert', 1),\n",
       " ('panic', 1),\n",
       " ('room', 1),\n",
       " ('alice', 1),\n",
       " (\"doesn't\", 1),\n",
       " ('here', 1),\n",
       " ('anymore', 1),\n",
       " ('moves', 1),\n",
       " ('goldeneye', 1),\n",
       " ('prom', 1),\n",
       " ('sangam', 1),\n",
       " ('oxygen', 1),\n",
       " ('follow', 1),\n",
       " ('trigger', 1),\n",
       " ('effect', 1),\n",
       " ('magnolia', 1),\n",
       " ('blow', 1),\n",
       " ('anger', 1),\n",
       " ('management', 1),\n",
       " ('paid', 1),\n",
       " ('tumhaara', 1),\n",
       " ('metro', 1),\n",
       " ('tuxedo', 1),\n",
       " ('crusade', 1),\n",
       " ('vampire', 1),\n",
       " ('mujhse', 1),\n",
       " ('shaadi', 1),\n",
       " ('karogi', 1),\n",
       " ('dogs', 1),\n",
       " ('go', 1),\n",
       " ('heaven', 1),\n",
       " (\"she's\", 1),\n",
       " ('gothika', 1),\n",
       " ('philadelphia', 1),\n",
       " ('perfection', 1),\n",
       " ('national', 1),\n",
       " ('treasure', 1),\n",
       " ('legally', 1),\n",
       " ('blonde', 1),\n",
       " ('hitch', 1),\n",
       " ('major', 1),\n",
       " ('payne', 1),\n",
       " ('outlaw', 1),\n",
       " ('josey', 1),\n",
       " ('wales', 1),\n",
       " ('ring', 1),\n",
       " ('leapfrog:', 1),\n",
       " ('letter', 1),\n",
       " ('cell', 1),\n",
       " ('bhagat', 1),\n",
       " ('singh', 1),\n",
       " ('tomorrow', 1),\n",
       " ('never', 1),\n",
       " ('dies', 1),\n",
       " ('accidental', 1),\n",
       " ('hello', 1),\n",
       " ('minute', 1),\n",
       " ('mermaid', 1),\n",
       " ('redemption', 1),\n",
       " ('jerry', 1),\n",
       " ('seinfeld:', 1),\n",
       " ('telling', 1)]"
      ]
     },
     "execution_count": 217,
     "metadata": {},
     "output_type": "execute_result"
    }
   ],
   "source": [
    "d =sorted(word_to_ix.items(), reverse=True, key=lambda kv: kv[1])\n",
    "#import collections\n",
    "#sorted_dict = collections.OrderedDict(sorted_x)\n",
    "d"
   ]
  },
  {
   "cell_type": "code",
   "execution_count": 218,
   "id": "b827e52c",
   "metadata": {
    "scrolled": false
   },
   "outputs": [
    {
     "data": {
      "text/plain": [
       "<matplotlib.image.AxesImage at 0x7f637c1995d0>"
      ]
     },
     "execution_count": 218,
     "metadata": {},
     "output_type": "execute_result"
    },
    {
     "data": {
      "image/png": "[encoded data removed]",
      "text/plain": [
       "<Figure size 1080x576 with 1 Axes>"
      ]
     },
     "metadata": {
      "needs_background": "light"
     },
     "output_type": "display_data"
    }
   ],
   "source": [
    "import matplotlib.pyplot as plt\n",
    "from wordcloud import WordCloud\n",
    "\n",
    "wordcloud = WordCloud(width = 1000, height = 500).generate_from_frequencies(word_to_ix)\n",
    "\n",
    "plt.figure(figsize=(15,8))\n",
    "plt.imshow(wordcloud)"
   ]
  },
  {
   "cell_type": "markdown",
   "id": "3fc6b9b2",
   "metadata": {},
   "source": [
    "# TODO : wordcloud for movie description ?\n",
    "# TODO : EDA for director, cast, country, date_added, release_year, rating, duration, listed_in, description"
   ]
  },
  {
   "cell_type": "code",
   "execution_count": 219,
   "id": "07f3b4f9",
   "metadata": {},
   "outputs": [
    {
     "data": {
      "image/png": "[encoded data removed]",
      "text/plain": [
       "<Figure size 432x288 with 1 Axes>"
      ]
     },
     "metadata": {
      "needs_background": "light"
     },
     "output_type": "display_data"
    },
    {
     "name": "stdout",
     "output_type": "stream",
     "text": [
      "Mean nubmer of rating: 22257.55047318612\n",
      "Median nubmer of rating: 6015.5\n",
      "Min number of rating: 27\n",
      "Max number of rating: 160326\n"
     ]
    }
   ],
   "source": [
    "n = 4499\n",
    "\n",
    "ratings = data.groupby('MovieID').count()['Rating']\n",
    "ratings.hist(bins=n//100)\n",
    "plt.axvline(ratings.median(), color='y', label=\"Median\")\n",
    "plt.axvline(ratings.mean(), color='r', label=\"Mean\")\n",
    "plt.title(\"Number of Ratings per Movie\")\n",
    "plt.legend()\n",
    "\n",
    "plt.show()\n",
    "\n",
    "print(\"Mean nubmer of rating:\", ratings.mean())\n",
    "print(\"Median nubmer of rating:\", ratings.median())\n",
    "print(\"Min number of rating:\", ratings.min())\n",
    "print(\"Max number of rating:\", ratings.max())"
   ]
  },
  {
   "cell_type": "code",
   "execution_count": 220,
   "id": "b4c8fe9b",
   "metadata": {},
   "outputs": [
    {
     "data": {
      "image/png": "[encoded data removed]",
      "text/plain": [
       "<Figure size 432x288 with 1 Axes>"
      ]
     },
     "metadata": {
      "needs_background": "light"
     },
     "output_type": "display_data"
    },
    {
     "name": "stdout",
     "output_type": "stream",
     "text": [
      "Mean rating: 3.348061439974692\n",
      "Median rating: 3.393556930750974\n",
      "Min rating: 1.8877551020408163\n",
      "Max rating: 4.458004172392996\n"
     ]
    }
   ],
   "source": [
    "n = 4499\n",
    "\n",
    "ratings = data.groupby('MovieID')['Rating'].mean()\n",
    "ratings.hist(bins=n//100)\n",
    "plt.axvline(ratings.median(), color='y', label=\"Median\")\n",
    "plt.axvline(ratings.mean(), color='r', label=\"Mean\")\n",
    "plt.title(\"Average rating per Movie\")\n",
    "plt.legend()\n",
    "\n",
    "plt.show()\n",
    "\n",
    "print(\"Mean rating:\", ratings.mean())\n",
    "print(\"Median rating:\", ratings.median())\n",
    "print(\"Min rating:\", ratings.min())\n",
    "print(\"Max rating:\", ratings.max())"
   ]
  },
  {
   "cell_type": "markdown",
   "id": "fe161141",
   "metadata": {},
   "source": [
    "### Insightful\n",
    "\n",
    "\n",
    "#### Average and number of ratings per release date \n",
    "- Are movies released more recently more likely to recieve better ratings?\n",
    "- See some trends throughout date.\n",
    "\n",
    "#### Rating trend of movies.\n",
    "- How do ratings change across time?\n",
    "- Plot average rating since release date.\n",
    "\n",
    "\n",
    "### ToDO\n",
    "#### Word - Embeddings to Ratings\n",
    "- Which movie titles contain words that are more significant to viewers?\n",
    "- Extract words that correlate with better ratings.\n"
   ]
  },
  {
   "cell_type": "code",
   "execution_count": 221,
   "id": "64d3c665",
   "metadata": {},
   "outputs": [
    {
     "data": {
      "image/png": "[encoded data removed]",
      "text/plain": [
       "<Figure size 720x360 with 2 Axes>"
      ]
     },
     "metadata": {
      "needs_background": "light"
     },
     "output_type": "display_data"
    }
   ],
   "source": [
    "# Average and number of ratings per release date\n",
    "fig, axs = plt.subplots(1, 2, figsize=(10, 5))\n",
    "data.groupby('Released Date')['Rating'].mean().plot(ax=axs[0])\n",
    "axs[0].set_title('Average ratings per release date')\n",
    "data.groupby('Released Date')['Rating'].count().plot(ax=axs[1])\n",
    "axs[1].set_title('Number of ratings per release date')\n",
    "\n",
    "plt.show()\n",
    "\n",
    "# **** NEW ****"
   ]
  },
  {
   "cell_type": "code",
   "execution_count": 222,
   "id": "66f0694e",
   "metadata": {},
   "outputs": [],
   "source": [
    "data['Released Since'] = pd.to_datetime(data['Rated Date']) - pd.to_datetime(data['Released Date'], format='%Y')"
   ]
  },
  {
   "cell_type": "code",
   "execution_count": 223,
   "id": "9243fa22",
   "metadata": {},
   "outputs": [
    {
     "data": {
      "image/png": "[encoded data removed]",
      "text/plain": [
       "<Figure size 1080x360 with 2 Axes>"
      ]
     },
     "metadata": {
      "needs_background": "light"
     },
     "output_type": "display_data"
    }
   ],
   "source": [
    "# Average and number of ratings per release date\n",
    "fig, axs = plt.subplots(1, 2, figsize=(15, 5))\n",
    "\n",
    "temp = data\n",
    "\n",
    "#temp['days'] = temp['Released Since'].apply(lambda x: int(''.join(c for c in x if c.isdigit())))\n",
    "\n",
    "temp.groupby('Released Since')['Rating'].mean().plot(ax=axs[0])\n",
    "                                            \n",
    "rating_average = temp.groupby('Released Since')['Rating'].mean().rolling(window=250).mean()\n",
    "axs[0].plot(rating_average.values, 'r-', label='250 MA')\n",
    "axs[0].legend()\n",
    "axs[0].set_title('Average ratings since release date')\n",
    "\n",
    "temp.groupby('Released Since')['Rating'].count().plot(ax=axs[1])\n",
    "axs[1].set_title('Number of ratings since release date')\n",
    "\n",
    "plt.show()"
   ]
  },
  {
   "cell_type": "markdown",
   "id": "7a644c24",
   "metadata": {},
   "source": [
    "# * NOTE * 5% (70,5564/14,111,287) of data is used below since Data has 14M rows to reduce runtimes/failures"
   ]
  },
  {
   "cell_type": "markdown",
   "id": "49039834",
   "metadata": {},
   "source": [
    "# Baseline 1"
   ]
  },
  {
   "cell_type": "code",
   "execution_count": 8,
   "id": "ecef7e69",
   "metadata": {},
   "outputs": [],
   "source": [
    "from tqdm import tqdm"
   ]
  },
  {
   "cell_type": "code",
   "execution_count": 9,
   "id": "ba8ecd6a",
   "metadata": {},
   "outputs": [],
   "source": [
    "def mae(pred, true):\n",
    "    return np.mean(np.abs(pred - true))"
   ]
  },
  {
   "cell_type": "code",
   "execution_count": 10,
   "id": "0ffe4748",
   "metadata": {},
   "outputs": [],
   "source": [
    "from sklearn.model_selection import train_test_split\n",
    "from sklearn.metrics import mean_squared_error as mse\n",
    "\n",
    "seed = 20\n",
    "#working with half to reduce runtimes/failures\n",
    "small = data.sample(frac=0.05, replace=False, random_state=seed)\n",
    "\n",
    "\n",
    "# 60 / 20 / 20 split\n",
    "X_train, X_test, y_train, y_test = train_test_split(small,\n",
    "                    small.Rating, test_size=0.4, random_state=seed)\n",
    "\n",
    "X_valid, X_test, y_valid, y_test = train_test_split(X_test, y_test,\n",
    "                                                   test_size=0.5, random_state=seed)"
   ]
  },
  {
   "cell_type": "code",
   "execution_count": 11,
   "id": "7378135c",
   "metadata": {},
   "outputs": [
    {
     "data": {
      "text/plain": [
       "((423338, 9), (141113, 9), (141113, 9), (423338,), (141113,), (141113,))"
      ]
     },
     "execution_count": 11,
     "metadata": {},
     "output_type": "execute_result"
    }
   ],
   "source": [
    "X_train.shape, X_valid.shape, X_test.shape, y_train.shape, y_valid.shape, y_test.shape"
   ]
  },
  {
   "cell_type": "code",
   "execution_count": 51,
   "id": "9a6854d3",
   "metadata": {},
   "outputs": [
    {
     "name": "stdout",
     "output_type": "stream",
     "text": [
      "Global mean MSE:1.1129115025241003\n",
      "Global mean MAE:0.8810598653527241\n"
     ]
    }
   ],
   "source": [
    "#baseline 1\n",
    "global_mean = X_train.Rating.mean()\n",
    "y_pred1 = [global_mean for _ in y_valid]\n",
    "mse1 = mse(y_valid, y_pred1)\n",
    "mae1 = mae(y_valid, y_pred1)\n",
    "print(\"Global mean MSE:\" + str(mse1))\n",
    "print(\"Global mean MAE:\" + str(mae1))"
   ]
  },
  {
   "cell_type": "markdown",
   "id": "3b9883cc",
   "metadata": {},
   "source": [
    "# Baseline 2"
   ]
  },
  {
   "cell_type": "code",
   "execution_count": 32,
   "id": "06cb94a7",
   "metadata": {},
   "outputs": [
    {
     "name": "stderr",
     "output_type": "stream",
     "text": [
      "100%|██████████████████████████████████████████| 423338/423338 [00:22<00:00, 19126.10it/s]\n"
     ]
    }
   ],
   "source": [
    "#baseline2\n",
    "ratings_per_user = defaultdict(list)\n",
    "ratings_per_movie = defaultdict(list)\n",
    "movies_per_user= defaultdict(set)\n",
    "users_per_movie = defaultdict(set)\n",
    "for ind, row in tqdm(X_train.iterrows(), total=X_train.shape[0]):\n",
    "    ratings_per_user[row.UserID].append(row.Rating)\n",
    "    ratings_per_movie[row.MovieID].append(row.Rating)\n",
    "    movies_per_user[row.UserID].add(row.MovieID)\n",
    "    users_per_movie[row.MovieID].add(row.UserID)"
   ]
  },
  {
   "cell_type": "code",
   "execution_count": 33,
   "id": "db6ec8f1",
   "metadata": {},
   "outputs": [],
   "source": [
    "avg_user_rating = {u: (sum(ratings_per_user[u])/len(ratings_per_user[u]))\n",
    "    if len(ratings_per_user[u]) > 0 else 0 for u in ratings_per_user}"
   ]
  },
  {
   "cell_type": "code",
   "execution_count": 34,
   "id": "beeb0ec7",
   "metadata": {},
   "outputs": [],
   "source": [
    "avg_ratings_per_user = {}\n",
    "for u in ratings_per_user:\n",
    "    avg_ratings_per_user[u] = np.mean(ratings_per_user[u])"
   ]
  },
  {
   "cell_type": "code",
   "execution_count": 46,
   "id": "8eed5b85",
   "metadata": {},
   "outputs": [
    {
     "name": "stdout",
     "output_type": "stream",
     "text": [
      "Global mean with user/movie deviations MSE:1.2384769690381705\n",
      "Global mean with user/movie deviations MAE:0.867224829933108\n"
     ]
    }
   ],
   "source": [
    "dev_per_user = {u: (sum(ratings_per_user[u])/len(ratings_per_user[u])) - global_mean\n",
    "    if len(ratings_per_user[u]) > 0 else 0 for u in ratings_per_user}\n",
    "\n",
    "dev_per_movie = {m: (sum(ratings_per_movie[m])/len(ratings_per_movie[m])) - global_mean \n",
    "    if len(ratings_per_movie[m]) > 0 else 0 for m in ratings_per_movie}\n",
    "\n",
    "def baseline_2(row):\n",
    "    movie = row.MovieID\n",
    "    user = row.UserID\n",
    "    out = global_mean\n",
    "    if user in dev_per_user.keys():\n",
    "        out += dev_per_user[user]\n",
    "    if movie in dev_per_movie.keys():\n",
    "        out += dev_per_movie[movie]\n",
    "    return out\n",
    "\n",
    "y_pred2 = []\n",
    "for ind, row in X_valid.iterrows():\n",
    "    y_pred2.append(baseline_2(row))\n",
    "\n",
    "mse2 = mse(y_valid, y_pred2)\n",
    "\n",
    "mae2 = mae(y_valid, y_pred2)\n",
    "print(\"Global mean with user/movie deviations MSE:\" + str(mse2))\n",
    "print(\"Global mean with user/movie deviations MAE:\" + str(mae2))\n",
    "# Global mean with user/movie deviations MSE:0.446983340249063"
   ]
  },
  {
   "cell_type": "code",
   "execution_count": 54,
   "id": "ea400808",
   "metadata": {},
   "outputs": [],
   "source": [
    "# Global mean with user/movie deviations MSE:1.2384769690381705\n",
    "# Global mean with user/movie deviations MAE:0.867224829933108\n",
    "\n",
    "# The extra deviation information makes it worse for MSE but not for MAE. \n",
    "# This probably that for each user, on average, their ratings deviate more from the mean than not."
   ]
  },
  {
   "cell_type": "code",
   "execution_count": 56,
   "id": "83b2bbfb",
   "metadata": {},
   "outputs": [],
   "source": [
    "# Idea\n",
    "# We should hae less weight on the ratings that deviate more.\n",
    "# weight = np.abs(np.max(0, dev_per_user[user]))\n",
    "# out += weight * normal.pdf(mu=0, sig=1) # change mu and sig\n",
    "\n",
    "# if value is say 5, then normal.pdf(0, 1)(5) = small number, so weight less."
   ]
  },
  {
   "cell_type": "code",
   "execution_count": 57,
   "id": "0afd5036",
   "metadata": {
    "scrolled": true
   },
   "outputs": [
    {
     "data": {
      "image/png": "[encoded data removed]",
      "text/plain": [
       "<Figure size 720x360 with 2 Axes>"
      ]
     },
     "metadata": {
      "needs_background": "light"
     },
     "output_type": "display_data"
    }
   ],
   "source": [
    "fig, axs = plt.subplots(1, 2, figsize=(10, 5))\n",
    "axs[0].hist(dev_per_user.values())\n",
    "axs[0].set_title('Dev per user')\n",
    "axs[1].hist(dev_per_movie.values())\n",
    "axs[1].set_title('Dev per movie')\n",
    "plt.show()"
   ]
  },
  {
   "cell_type": "markdown",
   "id": "ca26c7c0",
   "metadata": {},
   "source": [
    "# Baseline 3"
   ]
  },
  {
   "cell_type": "code",
   "execution_count": 58,
   "id": "913574ef",
   "metadata": {},
   "outputs": [
    {
     "name": "stderr",
     "output_type": "stream",
     "text": [
      "100%|███████████████████████████████████████████| 141113/141113 [00:53<00:00, 2622.08it/s]"
     ]
    },
    {
     "name": "stdout",
     "output_type": "stream",
     "text": [
      "User similarity (tresh = 0.0) baseline MSE:0.3974873386548362\n",
      "User similarity (tresh = 0.0) baseline MAE:0.45044394313697705\n"
     ]
    },
    {
     "name": "stderr",
     "output_type": "stream",
     "text": [
      "\n"
     ]
    }
   ],
   "source": [
    "mean_per_movie = {m: (sum(ratings_per_movie[m])/len(ratings_per_movie[m])) \n",
    "    if len(ratings_per_movie[m]) > 0 else 0 for m in ratings_per_movie}\n",
    "\n",
    "mean_per_user = {m: (sum(ratings_per_movie[m])/len(ratings_per_movie[m])) \n",
    "    if len(ratings_per_movie[m]) > 0 else 0 for m in ratings_per_movie}\n",
    "\n",
    "\n",
    "\n",
    "def Jaccard(s1, s2):\n",
    "    numer = len(s1.intersection(s2))\n",
    "    denom = len(s1.union(s2))\n",
    "    if denom == 0:\n",
    "        return 0\n",
    "    return numer / denom\n",
    "\n",
    "max_sims = []\n",
    "\n",
    "def predict_rating(row,thresh):\n",
    "    ratings = []\n",
    "    sims = []\n",
    "    max_sim = 0\n",
    "    movie = row.MovieID\n",
    "    user = row.UserID\n",
    "    rating = row.Rating\n",
    "    for m in movies_per_user[user]:\n",
    "        if m == movie: continue\n",
    "        ratings.append(row.Rating - mean_per_movie[m])\n",
    "        sim = Jaccard(users_per_movie[movie],users_per_movie[m])\n",
    "        if sim > max_sim:\n",
    "            max_sim = sim\n",
    "            \n",
    "        sims.append(sim)\n",
    "    max_sims.append(max_sim)\n",
    "    if (max_sim > 0):\n",
    "        weightedRatings = [(x*y) for x,y in zip(ratings,sims)]\n",
    "        return mean_per_movie[movie]  + sum(weightedRatings) / sum(sims)\n",
    "    else:\n",
    "        return baseline_2(row) #global_mean\n",
    "\n",
    "#for tresh in np.arange(0, 2, .005):\n",
    "tresh = 0.000\n",
    "y_pred3 = [predict_rating(row,tresh) for ind, row in tqdm(X_valid.iterrows(), total=X_valid.shape[0], position=0)]\n",
    "mse3 = mse(y_valid, y_pred3)\n",
    "mae3 = mae(y_valid, y_pred3)\n",
    "print(f\"User similarity (tresh = {tresh}) baseline MSE:\" + str(mse3))\n",
    "print(f\"User similarity (tresh = {tresh}) baseline MAE:\" + str(mae3))\n",
    "\n"
   ]
  },
  {
   "cell_type": "code",
   "execution_count": null,
   "id": "bdbce5aa",
   "metadata": {},
   "outputs": [],
   "source": [
    "# NEW\n",
    "# User similarity (tresh = 0.0) baseline MSE:0.3974873386548362\n",
    "# User similarity (tresh = 0.0) baseline MAE:0.45044394313697705"
   ]
  },
  {
   "cell_type": "code",
   "execution_count": 59,
   "id": "1a51ade4",
   "metadata": {},
   "outputs": [
    {
     "data": {
      "image/png": "[encoded data removed]",
      "text/plain": [
       "<Figure size 432x288 with 1 Axes>"
      ]
     },
     "metadata": {
      "needs_background": "light"
     },
     "output_type": "display_data"
    }
   ],
   "source": [
    "# we tried setting multiple thresholds but 0 performs best.\n",
    "# * best threshold exactly at 0 (0.002, 0.0002 perform worse) because the dataset is sparse.\n",
    "# if there are some user similarities, it is produces significant results.\n",
    "plt.hist(max_sims)\n",
    "plt.show()"
   ]
  },
  {
   "cell_type": "markdown",
   "id": "4a2ea715",
   "metadata": {},
   "source": [
    "# Baseline 4"
   ]
  },
  {
   "cell_type": "markdown",
   "id": "0bc6c1ae",
   "metadata": {},
   "source": [
    "### **only 1 change from baseline 3 ** Somehow mean_per_movie[movie] - dev_per_movie makes a significant difference not sure how to interpert this"
   ]
  },
  {
   "cell_type": "code",
   "execution_count": 65,
   "id": "80c7b5a4",
   "metadata": {},
   "outputs": [
    {
     "name": "stderr",
     "output_type": "stream",
     "text": [
      "100%|███████████████████████████████████████████| 141113/141113 [00:53<00:00, 2657.59it/s]\n"
     ]
    },
    {
     "name": "stdout",
     "output_type": "stream",
     "text": [
      "User similarity (tresh = 0.0) baseline MSE:0.3240462108786994\n",
      "User similarity (tresh = 0.0) baseline MAE:0.36002929990697086\n"
     ]
    }
   ],
   "source": [
    "def Jaccard(s1, s2):\n",
    "    numer = len(s1.intersection(s2))\n",
    "    denom = len(s1.union(s2))\n",
    "    if denom == 0:\n",
    "        return 0\n",
    "    return numer / denom\n",
    "\n",
    "def predict_rating(row,thresh):\n",
    "    ratings = []\n",
    "    sims = []\n",
    "    max_sim = 0\n",
    "    movie = row.MovieID\n",
    "    user = row.UserID\n",
    "    rating = row.Rating\n",
    "    for m in movies_per_user[user]:\n",
    "        if m == movie: continue\n",
    "        ratings.append(row.Rating - mean_per_movie[m])\n",
    "        sim = Jaccard(users_per_movie[movie],users_per_movie[m])\n",
    "        if sim > max_sim:\n",
    "            max_sim = sim\n",
    "            \n",
    "        sims.append(sim)\n",
    "\n",
    "    if (max_sim > 0):\n",
    "        weightedRatings = [(x*y) for x,y in zip(ratings,sims)]\n",
    "        return mean_per_movie[movie] - dev_per_movie[movie] + sum(weightedRatings) / sum(sims)\n",
    "    else:\n",
    "        return baseline_2(row) #global_mean\n",
    "\n",
    "\n",
    "tresh = 0.000\n",
    "y_pred3 = [predict_rating(row,tresh) for ind, row in tqdm(X_valid.iterrows(), total=X_valid.shape[0], position=0)]\n",
    "mse3 = mse(y_valid, y_pred3)\n",
    "mae3 = mae(y_valid, y_pred3)\n",
    "print(f\"User similarity (tresh = {tresh}) baseline MSE:\" + str(mse3))\n",
    "print(f\"User similarity (tresh = {tresh}) baseline MAE:\" + str(mae3))"
   ]
  },
  {
   "cell_type": "code",
   "execution_count": 66,
   "id": "a0118e51",
   "metadata": {},
   "outputs": [],
   "source": [
    "# NEW\n",
    "# User similarity (tresh = 0.0) baseline MSE:0.3240462108786994\n",
    "# User similarity (tresh = 0.0) baseline MAE:0.36002929990697086\n",
    "\n",
    "# Maybe on the report we can bullshit that we need to subtract the deviation."
   ]
  },
  {
   "cell_type": "markdown",
   "id": "559d4a5d",
   "metadata": {},
   "source": [
    "### 11/28 7:30AM - added\n",
    "### Temporal Models\n",
    "\n",
    "# Baseline 5\n",
    "\n",
    "1. Moving average window by movie."
   ]
  },
  {
   "cell_type": "code",
   "execution_count": null,
   "id": "f56705ab",
   "metadata": {},
   "outputs": [],
   "source": [
    "from datetime import datetime\n",
    "from sklearn.linear_model import LinearRegression\n",
    "import pickle"
   ]
  },
  {
   "cell_type": "code",
   "execution_count": 69,
   "id": "c41b57e8",
   "metadata": {},
   "outputs": [
    {
     "data": {
      "text/html": [
       "<div>\n",
       "<style scoped>\n",
       "    .dataframe tbody tr th:only-of-type {\n",
       "        vertical-align: middle;\n",
       "    }\n",
       "\n",
       "    .dataframe tbody tr th {\n",
       "        vertical-align: top;\n",
       "    }\n",
       "\n",
       "    .dataframe thead th {\n",
       "        text-align: right;\n",
       "    }\n",
       "</style>\n",
       "<table border=\"1\" class=\"dataframe\">\n",
       "  <thead>\n",
       "    <tr style=\"text-align: right;\">\n",
       "      <th></th>\n",
       "      <th>Unnamed: 0</th>\n",
       "      <th>MovieID</th>\n",
       "      <th>UserID</th>\n",
       "      <th>Rating</th>\n",
       "      <th>Rated Date</th>\n",
       "      <th>Released Date</th>\n",
       "      <th>Title</th>\n",
       "      <th>Released Since</th>\n",
       "      <th>show_id</th>\n",
       "      <th>month</th>\n",
       "      <th>day_of_month</th>\n",
       "      <th>year</th>\n",
       "    </tr>\n",
       "  </thead>\n",
       "  <tbody>\n",
       "    <tr>\n",
       "      <th>6328647</th>\n",
       "      <td>6552913</td>\n",
       "      <td>8669</td>\n",
       "      <td>552382</td>\n",
       "      <td>4</td>\n",
       "      <td>2005-08-08</td>\n",
       "      <td>1996</td>\n",
       "      <td>Executive Decision</td>\n",
       "      <td>3507 days</td>\n",
       "      <td>s6720</td>\n",
       "      <td>08</td>\n",
       "      <td>08</td>\n",
       "      <td>2005</td>\n",
       "    </tr>\n",
       "    <tr>\n",
       "      <th>5754832</th>\n",
       "      <td>5858377</td>\n",
       "      <td>7509</td>\n",
       "      <td>374423</td>\n",
       "      <td>3</td>\n",
       "      <td>2003-10-22</td>\n",
       "      <td>2002</td>\n",
       "      <td>Die Another Day</td>\n",
       "      <td>659 days</td>\n",
       "      <td>s6610</td>\n",
       "      <td>10</td>\n",
       "      <td>22</td>\n",
       "      <td>2003</td>\n",
       "    </tr>\n",
       "    <tr>\n",
       "      <th>8914216</th>\n",
       "      <td>9177702</td>\n",
       "      <td>11781</td>\n",
       "      <td>2207196</td>\n",
       "      <td>4</td>\n",
       "      <td>2004-01-02</td>\n",
       "      <td>1984</td>\n",
       "      <td>Indiana Jones and the Temple of Doom</td>\n",
       "      <td>7306 days</td>\n",
       "      <td>s7074</td>\n",
       "      <td>01</td>\n",
       "      <td>02</td>\n",
       "      <td>2004</td>\n",
       "    </tr>\n",
       "    <tr>\n",
       "      <th>7484300</th>\n",
       "      <td>7747786</td>\n",
       "      <td>10231</td>\n",
       "      <td>2550125</td>\n",
       "      <td>1</td>\n",
       "      <td>2005-11-06</td>\n",
       "      <td>2004</td>\n",
       "      <td>Kung Fu Hustle</td>\n",
       "      <td>675 days</td>\n",
       "      <td>s7240</td>\n",
       "      <td>11</td>\n",
       "      <td>06</td>\n",
       "      <td>2005</td>\n",
       "    </tr>\n",
       "    <tr>\n",
       "      <th>373631</th>\n",
       "      <td>384234</td>\n",
       "      <td>457</td>\n",
       "      <td>1424596</td>\n",
       "      <td>5</td>\n",
       "      <td>2004-08-23</td>\n",
       "      <td>2004</td>\n",
       "      <td>Kill Bill: Vol. 2</td>\n",
       "      <td>235 days</td>\n",
       "      <td>s7199</td>\n",
       "      <td>08</td>\n",
       "      <td>23</td>\n",
       "      <td>2004</td>\n",
       "    </tr>\n",
       "  </tbody>\n",
       "</table>\n",
       "</div>"
      ],
      "text/plain": [
       "         Unnamed: 0  MovieID   UserID  Rating  Rated Date  Released Date  \\\n",
       "6328647     6552913     8669   552382       4  2005-08-08           1996   \n",
       "5754832     5858377     7509   374423       3  2003-10-22           2002   \n",
       "8914216     9177702    11781  2207196       4  2004-01-02           1984   \n",
       "7484300     7747786    10231  2550125       1  2005-11-06           2004   \n",
       "373631       384234      457  1424596       5  2004-08-23           2004   \n",
       "\n",
       "                                        Title Released Since show_id month  \\\n",
       "6328647                    Executive Decision      3507 days   s6720    08   \n",
       "5754832                       Die Another Day       659 days   s6610    10   \n",
       "8914216  Indiana Jones and the Temple of Doom      7306 days   s7074    01   \n",
       "7484300                        Kung Fu Hustle       675 days   s7240    11   \n",
       "373631                      Kill Bill: Vol. 2       235 days   s7199    08   \n",
       "\n",
       "        day_of_month  year  \n",
       "6328647           08  2005  \n",
       "5754832           22  2003  \n",
       "8914216           02  2004  \n",
       "7484300           06  2005  \n",
       "373631            23  2004  "
      ]
     },
     "execution_count": 69,
     "metadata": {},
     "output_type": "execute_result"
    }
   ],
   "source": [
    "X_train.head()"
   ]
  },
  {
   "cell_type": "code",
   "execution_count": 144,
   "id": "21751cf3",
   "metadata": {
    "scrolled": true
   },
   "outputs": [],
   "source": [
    "ratings_per_user_stamped = defaultdict(list)\n",
    "ratings_per_movie_stamped = defaultdict(list)\n",
    "for i, row in X_train.iterrows():\n",
    "    # rating ID, rated date, rating\n",
    "    ratings_per_user_stamped[row['UserID']].append([i, datetime.strptime(row['Rated Date'], \"%Y-%m-%d\"), row.Rating])\n",
    "    ratings_per_movie_stamped[row['MovieID']].append([i, datetime.strptime(row['Rated Date'], \"%Y-%m-%d\"), row.Rating])\n",
    "\n",
    "# sort by rated date\n",
    "for user, stamp in ratings_per_user_stamped.items():\n",
    "    stamp.sort(key=lambda val: val[1], reverse=True)\n",
    "    \n",
    "for user, stamp in ratings_per_movie_stamped.items():\n",
    "    stamp.sort(key=lambda val: val[1], reverse=True)"
   ]
  },
  {
   "cell_type": "code",
   "execution_count": 142,
   "id": "61d6f8eb",
   "metadata": {},
   "outputs": [
    {
     "data": {
      "text/plain": [
       "(array([1.04355e+05, 4.70580e+04, 2.41850e+04, 1.33050e+04, 7.17500e+03,\n",
       "        4.04200e+03, 2.21100e+03, 1.20800e+03, 6.77000e+02, 3.10000e+02,\n",
       "        1.89000e+02, 8.80000e+01, 4.80000e+01, 2.80000e+01, 1.20000e+01,\n",
       "        8.00000e+00, 3.00000e+00, 2.00000e+00, 1.00000e+00, 0.00000e+00,\n",
       "        0.00000e+00, 3.00000e+00]),\n",
       " array([ 1.        ,  1.95454545,  2.90909091,  3.86363636,  4.81818182,\n",
       "         5.77272727,  6.72727273,  7.68181818,  8.63636364,  9.59090909,\n",
       "        10.54545455, 11.5       , 12.45454545, 13.40909091, 14.36363636,\n",
       "        15.31818182, 16.27272727, 17.22727273, 18.18181818, 19.13636364,\n",
       "        20.09090909, 21.04545455, 22.        ]),\n",
       " <BarContainer object of 22 artists>)"
      ]
     },
     "execution_count": 142,
     "metadata": {},
     "output_type": "execute_result"
    },
    {
     "data": {
      "image/png": "[encoded data removed]",
      "text/plain": [
       "<Figure size 432x288 with 1 Axes>"
      ]
     },
     "metadata": {
      "needs_background": "light"
     },
     "output_type": "display_data"
    }
   ],
   "source": [
    "num_ratings = [len(v) for v in ratings_per_user_stamped.values()]\n",
    "plt.hist(num_ratings, bins= max(num_ratings))"
   ]
  },
  {
   "cell_type": "code",
   "execution_count": 229,
   "id": "ac2a41a0",
   "metadata": {
    "scrolled": true
   },
   "outputs": [
    {
     "name": "stderr",
     "output_type": "stream",
     "text": [
      "100%|███████████████████████████████████████████| 423338/423338 [02:47<00:00, 2534.80it/s]\n"
     ]
    },
    {
     "name": "stdout",
     "output_type": "stream",
     "text": [
      "Baseline 5 training MSE: 0.7390546411207946\n",
      "Baseline 5 training MAE: 0.6672864547514502\n"
     ]
    }
   ],
   "source": [
    "# 1) Predict user rating by previous x timesteps of that movie.\n",
    "# If previous rating doesn't exist, return mean of that movie.\n",
    "\n",
    "# keep track of ratings per users with rated date\n",
    "# to predict rating of the user, look at the timesteps from before of that user.\n",
    "\n",
    "def movie_window_features(stamps, window_size, mean):\n",
    "    # stamps: [ [ratingID, ratedDate, Rating]]\n",
    "    # if not enough window size, use mean of the movie\n",
    "    features = [mean] * window_size\n",
    "    for i in range(min(window_size, len(stamps))):\n",
    "        features[i] = stamps[i][2]\n",
    "    return features        \n",
    "    \n",
    "def predict_rating(ind, row, window_size):\n",
    "    movie = row.MovieID\n",
    "    movie_stamps = ratings_per_movie_stamped[movie]\n",
    "    \n",
    "    if movie in mean_per_movie.keys():\n",
    "        movie_mean = mean_per_movie[movie]\n",
    "    else:\n",
    "        movie_mean = global_mean\n",
    "\n",
    "    features = [movie_mean] * window_size\n",
    "    rated_date = datetime.strptime(row['Rated Date'], \"%Y-%m-%d\")\n",
    "\n",
    "    for i, stamp in enumerate(movie_stamps):\n",
    "        if stamp[1] <= rated_date:\n",
    "            features = movie_window_features(movie_stamps[i: i+n], window_size, movie_mean)\n",
    "            break\n",
    "    return features\n",
    "        \n",
    "window_size = 10\n",
    "\n",
    "model = LinearRegression()\n",
    "\n",
    "X_features = []\n",
    "\n",
    "for ind, row in tqdm(X_train.iterrows(), total=X_train.shape[0]):\n",
    "    X_features.append(predict_rating(ind, row, window_size))\n",
    "\n",
    "model.fit(X_features, y_train)\n",
    "\n",
    "# filename = \"baseline5_model.pickle\"\n",
    "# pickle.dump(model, open(filename, 'wb')) \n",
    "# # load the model from disk\n",
    "# model = pickle.load(open(filename, 'rb'))\n",
    "\n",
    "# train score\n",
    "print(\"Baseline 5 training MSE:\", mse(y_train, model.predict(X_features)))\n",
    "print(\"Baseline 5 training MAE:\", mae(y_train, model.predict(X_features)))"
   ]
  },
  {
   "cell_type": "code",
   "execution_count": 230,
   "id": "fdac8b34",
   "metadata": {
    "scrolled": true
   },
   "outputs": [
    {
     "name": "stderr",
     "output_type": "stream",
     "text": [
      "100%|███████████████████████████████████████████| 141113/141113 [01:52<00:00, 1257.39it/s]"
     ]
    },
    {
     "name": "stdout",
     "output_type": "stream",
     "text": [
      "Baseline 5 valid MSE: 1.226954132557433\n",
      "Baseline 5 valid MAE: 0.8837190580624726\n"
     ]
    },
    {
     "name": "stderr",
     "output_type": "stream",
     "text": [
      "\n"
     ]
    }
   ],
   "source": [
    "mse5 = []\n",
    "mae5 = []\n",
    "for i, (ind, row) in enumerate(tqdm(X_valid.iterrows(), total=X_valid.shape[0])):\n",
    "    features = predict_rating(ind, row, window_size)\n",
    "    pred = model.predict([features])\n",
    "    mse5.append(mse(pred, y_valid.iloc[[i]]))\n",
    "    mae5.append(mae(pred, y_valid.iloc[[i]]))\n",
    "\n",
    "print(\"Baseline 5 valid MSE:\", np.mean(mse5))\n",
    "print(\"Baseline 5 valid MAE:\", np.mean(mae5))"
   ]
  },
  {
   "cell_type": "markdown",
   "id": "2a6e5643",
   "metadata": {},
   "source": [
    "## Results of baseline 5\n",
    "\n",
    "| window_size | Train MSE | Train MAE | Valid MSE | Valid MAE |\n",
    "| --- | --- | --- | --- | --- |\n",
    "| 1 | 0.8358 | 0.7070 | 1.2561 | 0.9045 |\n",
    "| 3 | 0.7541 | 0.6724 | 1.2536 | 0.8948 |\n",
    "| 5 | 0.7424 | 0.6685 | 1.2386 | 0.8884 |\n",
    "| 10 | 0.7390 | 0.6673 | 1.226 | 0.8837 |\n",
    "\n"
   ]
  },
  {
   "cell_type": "code",
   "execution_count": null,
   "id": "79e5387e",
   "metadata": {},
   "outputs": [],
   "source": [
    "    \n",
    "    \n",
    "    \n",
    "#     user = row.UserID\n",
    "#     user_stamps = ratings_per_user_stamped[user]\n",
    "#     print(user_stamps)\n",
    "    \n",
    "# y_pred5 = [predict_rating(ind, row,tresh) for ind, row in tqdm(X_valid.iterrows(), total=X_valid.shape[0], position=0)]\n",
    "\n",
    "# mse5 = mse(y_valid, y_pred5)\n",
    "# mae5 = mae(y_valid, y_pred5)\n",
    "# print(f\"Window size = {window_size}) baseline 5 MSE:\" + str(mse5))\n",
    "# print(f\"Window size = {window_size}) baseline 5 MAE:\" + str(mae5))"
   ]
  },
  {
   "cell_type": "code",
   "execution_count": 148,
   "id": "c540fea1",
   "metadata": {
    "scrolled": true
   },
   "outputs": [
    {
     "data": {
      "text/html": [
       "<div>\n",
       "<style scoped>\n",
       "    .dataframe tbody tr th:only-of-type {\n",
       "        vertical-align: middle;\n",
       "    }\n",
       "\n",
       "    .dataframe tbody tr th {\n",
       "        vertical-align: top;\n",
       "    }\n",
       "\n",
       "    .dataframe thead th {\n",
       "        text-align: right;\n",
       "    }\n",
       "</style>\n",
       "<table border=\"1\" class=\"dataframe\">\n",
       "  <thead>\n",
       "    <tr style=\"text-align: right;\">\n",
       "      <th></th>\n",
       "      <th>Unnamed: 0</th>\n",
       "      <th>MovieID</th>\n",
       "      <th>UserID</th>\n",
       "      <th>Rating</th>\n",
       "      <th>Rated Date</th>\n",
       "      <th>Released Date</th>\n",
       "      <th>Title</th>\n",
       "      <th>Released Since</th>\n",
       "      <th>show_id</th>\n",
       "      <th>month</th>\n",
       "      <th>day_of_month</th>\n",
       "      <th>year</th>\n",
       "    </tr>\n",
       "  </thead>\n",
       "  <tbody>\n",
       "    <tr>\n",
       "      <th>6328647</th>\n",
       "      <td>6552913</td>\n",
       "      <td>8669</td>\n",
       "      <td>552382</td>\n",
       "      <td>4</td>\n",
       "      <td>2005-08-08</td>\n",
       "      <td>1996</td>\n",
       "      <td>Executive Decision</td>\n",
       "      <td>3507 days</td>\n",
       "      <td>s6720</td>\n",
       "      <td>08</td>\n",
       "      <td>08</td>\n",
       "      <td>2005</td>\n",
       "    </tr>\n",
       "    <tr>\n",
       "      <th>5754832</th>\n",
       "      <td>5858377</td>\n",
       "      <td>7509</td>\n",
       "      <td>374423</td>\n",
       "      <td>3</td>\n",
       "      <td>2003-10-22</td>\n",
       "      <td>2002</td>\n",
       "      <td>Die Another Day</td>\n",
       "      <td>659 days</td>\n",
       "      <td>s6610</td>\n",
       "      <td>10</td>\n",
       "      <td>22</td>\n",
       "      <td>2003</td>\n",
       "    </tr>\n",
       "    <tr>\n",
       "      <th>8914216</th>\n",
       "      <td>9177702</td>\n",
       "      <td>11781</td>\n",
       "      <td>2207196</td>\n",
       "      <td>4</td>\n",
       "      <td>2004-01-02</td>\n",
       "      <td>1984</td>\n",
       "      <td>Indiana Jones and the Temple of Doom</td>\n",
       "      <td>7306 days</td>\n",
       "      <td>s7074</td>\n",
       "      <td>01</td>\n",
       "      <td>02</td>\n",
       "      <td>2004</td>\n",
       "    </tr>\n",
       "    <tr>\n",
       "      <th>7484300</th>\n",
       "      <td>7747786</td>\n",
       "      <td>10231</td>\n",
       "      <td>2550125</td>\n",
       "      <td>1</td>\n",
       "      <td>2005-11-06</td>\n",
       "      <td>2004</td>\n",
       "      <td>Kung Fu Hustle</td>\n",
       "      <td>675 days</td>\n",
       "      <td>s7240</td>\n",
       "      <td>11</td>\n",
       "      <td>06</td>\n",
       "      <td>2005</td>\n",
       "    </tr>\n",
       "    <tr>\n",
       "      <th>373631</th>\n",
       "      <td>384234</td>\n",
       "      <td>457</td>\n",
       "      <td>1424596</td>\n",
       "      <td>5</td>\n",
       "      <td>2004-08-23</td>\n",
       "      <td>2004</td>\n",
       "      <td>Kill Bill: Vol. 2</td>\n",
       "      <td>235 days</td>\n",
       "      <td>s7199</td>\n",
       "      <td>08</td>\n",
       "      <td>23</td>\n",
       "      <td>2004</td>\n",
       "    </tr>\n",
       "  </tbody>\n",
       "</table>\n",
       "</div>"
      ],
      "text/plain": [
       "         Unnamed: 0  MovieID   UserID  Rating  Rated Date  Released Date  \\\n",
       "6328647     6552913     8669   552382       4  2005-08-08           1996   \n",
       "5754832     5858377     7509   374423       3  2003-10-22           2002   \n",
       "8914216     9177702    11781  2207196       4  2004-01-02           1984   \n",
       "7484300     7747786    10231  2550125       1  2005-11-06           2004   \n",
       "373631       384234      457  1424596       5  2004-08-23           2004   \n",
       "\n",
       "                                        Title Released Since show_id month  \\\n",
       "6328647                    Executive Decision      3507 days   s6720    08   \n",
       "5754832                       Die Another Day       659 days   s6610    10   \n",
       "8914216  Indiana Jones and the Temple of Doom      7306 days   s7074    01   \n",
       "7484300                        Kung Fu Hustle       675 days   s7240    11   \n",
       "373631                      Kill Bill: Vol. 2       235 days   s7199    08   \n",
       "\n",
       "        day_of_month  year  \n",
       "6328647           08  2005  \n",
       "5754832           22  2003  \n",
       "8914216           02  2004  \n",
       "7484300           06  2005  \n",
       "373631            23  2004  "
      ]
     },
     "execution_count": 148,
     "metadata": {},
     "output_type": "execute_result"
    }
   ],
   "source": [
    "X_train.head()"
   ]
  },
  {
   "cell_type": "markdown",
   "id": "56aeda48",
   "metadata": {},
   "source": [
    "### 11/28 7:30AM - added\n",
    "### Factorized Machines Models\n",
    "\n",
    "# Baseline 6\n",
    "\n",
    "1. Latent factor models\n",
    "    - \n"
   ]
  },
  {
   "cell_type": "code",
   "execution_count": 2,
   "id": "ff2c51d7",
   "metadata": {},
   "outputs": [],
   "source": [
    "from sklearn.model_selection import train_test_split\n",
    "from sklearn.metrics import mean_squared_error as mse\n",
    "\n",
    "data = pd.read_csv('data/data.csv')\n",
    "details = pd.read_csv('data/movie_detials.csv')\n",
    "seed = 20\n",
    "#working with half to reduce runtimes/failures\n",
    "small = data.sample(frac=0.05, replace=False, random_state=seed)\n",
    "\n",
    "\n",
    "# 60 / 20 / 20 split\n",
    "X_train, X_test, y_train, y_test = train_test_split(small,\n",
    "                    small.Rating, test_size=0.4, random_state=seed)\n",
    "\n",
    "X_valid, X_test, y_valid, y_test = train_test_split(X_test, y_test,\n",
    "                                                   test_size=0.5, random_state=seed)\n"
   ]
  },
  {
   "cell_type": "code",
   "execution_count": 33,
   "id": "e0cfd3c4",
   "metadata": {
    "scrolled": true
   },
   "outputs": [
    {
     "name": "stdout",
     "output_type": "stream",
     "text": [
      "Evaluating MSE, MAE of algorithm SVD on 5 split(s).\n",
      "\n",
      "                  Fold 1  Fold 2  Fold 3  Fold 4  Fold 5  Mean    Std     \n",
      "MSE (testset)     0.9929  0.9934  1.0012  0.9927  0.9946  0.9950  0.0032  \n",
      "MAE (testset)     0.7942  0.7925  0.7964  0.7930  0.7952  0.7943  0.0014  \n",
      "Fit time          6.46    6.15    6.37    6.38    6.45    6.36    0.11    \n",
      "Test time         1.04    0.48    0.48    1.00    0.47    0.69    0.27    \n"
     ]
    },
    {
     "data": {
      "text/plain": [
       "{'test_mse': array([0.99294404, 0.9934367 , 1.00124265, 0.99271232, 0.99463695]),\n",
       " 'test_mae': array([0.79423931, 0.79250555, 0.79639337, 0.79297743, 0.795157  ]),\n",
       " 'fit_time': (6.458282470703125,\n",
       "  6.151134490966797,\n",
       "  6.373811960220337,\n",
       "  6.380130290985107,\n",
       "  6.453195571899414),\n",
       " 'test_time': (1.0447471141815186,\n",
       "  0.48354530334472656,\n",
       "  0.4750077724456787,\n",
       "  1.0015232563018799,\n",
       "  0.4651298522949219)}"
      ]
     },
     "execution_count": 33,
     "metadata": {},
     "output_type": "execute_result"
    }
   ],
   "source": [
    "# 1) latent factor model\n",
    "\n",
    "# ! pip install scikit-surprise\n",
    "from surprise import SVD, Reader, Dataset\n",
    "from surprise.model_selection import cross_validate\n",
    "\n",
    "reader = Reader(rating_scale=(1, 5))\n",
    "\n",
    "dataset = small.reset_index(drop=True)\n",
    "dataset.rename(columns={'UserID': \"userID\", \"MovieID\":\"itemID\", \"Rating\":\"rating\"}, inplace=True)\n",
    "dataset = Dataset.load_from_df(dataset[['userID', 'itemID', 'rating']], reader)\n",
    "# trainset, testset = train_test_split(dataset, test_size=0.25)\n",
    "\n",
    "model = SVD()\n",
    "# model.fit(trainset)\n",
    "\n",
    "# train_pred = model.test(trainset)\n",
    "# mse6_train = mse(np.array([p.est for p in train_pred]), np.array([t[2] for t in trainset]))\n",
    "# mae6_train = mae(np.array([p.est for p in train_pred]), np.array([t[2] for t in trainset]))\n",
    "\n",
    "# print(\"MSE6 train:\", mse6)\n",
    "# print(\"MAE6 trian:\", mae6)\n",
    "\n",
    "# predictions = model.test(testset)\n",
    "\n",
    "# mse6_valid = mse(np.array([p.est for p in predictions]), np.array([t[2] for t in testset]))\n",
    "# mae6_valid = mae(np.array([p.est for p in predictions]), np.array([t[2] for t in testset]))\n",
    "\n",
    "# print(\"MSE6 test:\", mse6)\n",
    "# print(\"MAE6 test:\", mae6)\n",
    "\n",
    "cross_validate(model, dataset, measures=[\"MSE\", \"MAE\"], cv=5, verbose=True)"
   ]
  },
  {
   "cell_type": "code",
   "execution_count": null,
   "id": "d52b5b17",
   "metadata": {},
   "outputs": [],
   "source": [
    "# Evaluating MSE, MAE of algorithm SVD on 5 split(s).\n",
    "\n",
    "#                   Fold 1  Fold 2  Fold 3  Fold 4  Fold 5  Mean    Std     \n",
    "# MSE (testset)     0.9929  0.9934  1.0012  0.9927  0.9946  0.9950  0.0032  \n",
    "# MAE (testset)     0.7942  0.7925  0.7964  0.7930  0.7952  0.7943  0.0014  \n",
    "# Fit time          6.46    6.15    6.37    6.38    6.45    6.36    0.11    \n",
    "# Test time         1.04    0.48    0.48    1.00    0.47    0.69    0.27    \n",
    "# {'test_mse': array([0.99294404, 0.9934367 , 1.00124265, 0.99271232, 0.99463695]),\n",
    "#  'test_mae': array([0.79423931, 0.79250555, 0.79639337, 0.79297743, 0.795157  ]),\n",
    "#  'fit_time': (6.458282470703125,\n",
    "#   6.151134490966797,\n",
    "#   6.373811960220337,\n",
    "#   6.380130290985107,\n",
    "#   6.453195571899414),\n",
    "#  'test_time': (1.0447471141815186,\n",
    "#   0.48354530334472656,\n",
    "#   0.4750077724456787,\n",
    "#   1.0015232563018799,\n",
    "#   0.4651298522949219)}"
   ]
  },
  {
   "cell_type": "code",
   "execution_count": 34,
   "id": "af553303",
   "metadata": {},
   "outputs": [],
   "source": [
    "# SVD doesn't perform as well, which is expected.\n",
    "# SVD is not great at cold start problems because it only uses userID, movieID, to predict rating.\n",
    "# Since our dataset is sparse and additional features are not used, values from SVD for new users and items \n",
    "# revert to zero because of the regularizer."
   ]
  },
  {
   "cell_type": "code",
   "execution_count": 107,
   "id": "c35ea3fc",
   "metadata": {},
   "outputs": [],
   "source": [
    "# TODO: show that data is sparse to explain"
   ]
  },
  {
   "cell_type": "markdown",
   "id": "51ed562e",
   "metadata": {},
   "source": [
    "# Baseline 7\n",
    "\n",
    "## Factorization machines\n",
    "\n",
    "### extends latent-factor\n",
    "\n",
    "- 1) User and Movie ID\n",
    "- 2) User + MovieID + Genre + release Year"
   ]
  },
  {
   "cell_type": "code",
   "execution_count": 81,
   "id": "5ff95d16",
   "metadata": {},
   "outputs": [],
   "source": [
    "# https://github.com/ibayer/fastFM\n",
    "from fastFM import als\n",
    "from scipy.spatial import distance\n",
    "from scipy.sparse import lil_matrix"
   ]
  },
  {
   "cell_type": "code",
   "execution_count": 82,
   "id": "e598acae",
   "metadata": {},
   "outputs": [
    {
     "name": "stderr",
     "output_type": "stream",
     "text": [
      "100%|██████████████████████████████████████████| 705564/705564 [00:21<00:00, 32878.56it/s]\n"
     ]
    }
   ],
   "source": [
    "# basline 6\n",
    "userIDs,itemIDs = {},{}\n",
    "\n",
    "for idx, d in tqdm(small.iterrows(), total=len(small)):\n",
    "    u,i = d.UserID, d.MovieID\n",
    "    if not u in userIDs: userIDs[u] = len(userIDs)\n",
    "    if not i in itemIDs: itemIDs[i] = len(itemIDs)\n",
    "    \n",
    "nUsers,nItems = len(userIDs),len(itemIDs)"
   ]
  },
  {
   "cell_type": "code",
   "execution_count": 110,
   "id": "4830f29e",
   "metadata": {},
   "outputs": [
    {
     "data": {
      "text/plain": [
       "1942"
      ]
     },
     "execution_count": 110,
     "metadata": {},
     "output_type": "execute_result"
    }
   ],
   "source": [
    "medium.release_year.min()"
   ]
  },
  {
   "cell_type": "code",
   "execution_count": 83,
   "id": "ce2f73aa",
   "metadata": {},
   "outputs": [
    {
     "data": {
      "text/plain": [
       "(259040, 633)"
      ]
     },
     "execution_count": 83,
     "metadata": {},
     "output_type": "execute_result"
    }
   ],
   "source": [
    "nUsers, nItems"
   ]
  },
  {
   "cell_type": "code",
   "execution_count": 37,
   "id": "36b54ffa",
   "metadata": {},
   "outputs": [
    {
     "data": {
      "text/plain": [
       "(705564, 259673)"
      ]
     },
     "execution_count": 37,
     "metadata": {},
     "output_type": "execute_result"
    }
   ],
   "source": [
    "X = lil_matrix((small.shape[0], nUsers+nItems))\n",
    "\n",
    "print(X.shape)\n",
    "\n",
    "for i in trange(small.shape[0]):\n",
    "    user = userIDs[small.iloc[i].UserID]\n",
    "    item = itemIDs[small.iloc[i].MovieID]\n",
    "    X[i,user] = 1 # One-hot encoding of user\n",
    "    X[i,nUsers + item] = 1 # One-hot encoding of item"
   ]
  },
  {
   "cell_type": "code",
   "execution_count": 70,
   "id": "028edb16",
   "metadata": {},
   "outputs": [
    {
     "data": {
      "text/html": [
       "<style>#sk-container-id-9 {color: black;background-color: white;}#sk-container-id-9 pre{padding: 0;}#sk-container-id-9 div.sk-toggleable {background-color: white;}#sk-container-id-9 label.sk-toggleable__label {cursor: pointer;display: block;width: 100%;margin-bottom: 0;padding: 0.3em;box-sizing: border-box;text-align: center;}#sk-container-id-9 label.sk-toggleable__label-arrow:before {content: \"▸\";float: left;margin-right: 0.25em;color: #696969;}#sk-container-id-9 label.sk-toggleable__label-arrow:hover:before {color: black;}#sk-container-id-9 div.sk-estimator:hover label.sk-toggleable__label-arrow:before {color: black;}#sk-container-id-9 div.sk-toggleable__content {max-height: 0;max-width: 0;overflow: hidden;text-align: left;background-color: #f0f8ff;}#sk-container-id-9 div.sk-toggleable__content pre {margin: 0.2em;color: black;border-radius: 0.25em;background-color: #f0f8ff;}#sk-container-id-9 input.sk-toggleable__control:checked~div.sk-toggleable__content {max-height: 200px;max-width: 100%;overflow: auto;}#sk-container-id-9 input.sk-toggleable__control:checked~label.sk-toggleable__label-arrow:before {content: \"▾\";}#sk-container-id-9 div.sk-estimator input.sk-toggleable__control:checked~label.sk-toggleable__label {background-color: #d4ebff;}#sk-container-id-9 div.sk-label input.sk-toggleable__control:checked~label.sk-toggleable__label {background-color: #d4ebff;}#sk-container-id-9 input.sk-hidden--visually {border: 0;clip: rect(1px 1px 1px 1px);clip: rect(1px, 1px, 1px, 1px);height: 1px;margin: -1px;overflow: hidden;padding: 0;position: absolute;width: 1px;}#sk-container-id-9 div.sk-estimator {font-family: monospace;background-color: #f0f8ff;border: 1px dotted black;border-radius: 0.25em;box-sizing: border-box;margin-bottom: 0.5em;}#sk-container-id-9 div.sk-estimator:hover {background-color: #d4ebff;}#sk-container-id-9 div.sk-parallel-item::after {content: \"\";width: 100%;border-bottom: 1px solid gray;flex-grow: 1;}#sk-container-id-9 div.sk-label:hover label.sk-toggleable__label {background-color: #d4ebff;}#sk-container-id-9 div.sk-serial::before {content: \"\";position: absolute;border-left: 1px solid gray;box-sizing: border-box;top: 0;bottom: 0;left: 50%;z-index: 0;}#sk-container-id-9 div.sk-serial {display: flex;flex-direction: column;align-items: center;background-color: white;padding-right: 0.2em;padding-left: 0.2em;position: relative;}#sk-container-id-9 div.sk-item {position: relative;z-index: 1;}#sk-container-id-9 div.sk-parallel {display: flex;align-items: stretch;justify-content: center;background-color: white;position: relative;}#sk-container-id-9 div.sk-item::before, #sk-container-id-9 div.sk-parallel-item::before {content: \"\";position: absolute;border-left: 1px solid gray;box-sizing: border-box;top: 0;bottom: 0;left: 50%;z-index: -1;}#sk-container-id-9 div.sk-parallel-item {display: flex;flex-direction: column;z-index: 1;position: relative;background-color: white;}#sk-container-id-9 div.sk-parallel-item:first-child::after {align-self: flex-end;width: 50%;}#sk-container-id-9 div.sk-parallel-item:last-child::after {align-self: flex-start;width: 50%;}#sk-container-id-9 div.sk-parallel-item:only-child::after {width: 0;}#sk-container-id-9 div.sk-dashed-wrapped {border: 1px dashed gray;margin: 0 0.4em 0.5em 0.4em;box-sizing: border-box;padding-bottom: 0.4em;background-color: white;}#sk-container-id-9 div.sk-label label {font-family: monospace;font-weight: bold;display: inline-block;line-height: 1.2em;}#sk-container-id-9 div.sk-label-container {text-align: center;}#sk-container-id-9 div.sk-container {/* jupyter's `normalize.less` sets `[hidden] { display: none; }` but bootstrap.min.css set `[hidden] { display: none !important; }` so we also need the `!important` here to be able to override the default hidden behavior on the sphinx rendered scikit-learn.org. See: https://github.com/scikit-learn/scikit-learn/issues/21755 */display: inline-block !important;position: relative;}#sk-container-id-9 div.sk-text-repr-fallback {display: none;}</style><div id=\"sk-container-id-9\" class=\"sk-top-container\"><div class=\"sk-text-repr-fallback\"><pre>FMRegression(l2_reg_V=1, l2_reg_w=1, n_iter=500, random_state=20, rank=5)</pre><b>In a Jupyter environment, please rerun this cell to show the HTML representation or trust the notebook. <br />On GitHub, the HTML representation is unable to render, please try loading this page with nbviewer.org.</b></div><div class=\"sk-container\" hidden><div class=\"sk-item\"><div class=\"sk-estimator sk-toggleable\"><input class=\"sk-toggleable__control sk-hidden--visually\" id=\"sk-estimator-id-9\" type=\"checkbox\" checked><label for=\"sk-estimator-id-9\" class=\"sk-toggleable__label sk-toggleable__label-arrow\">FMRegression</label><div class=\"sk-toggleable__content\"><pre>FMRegression(l2_reg_V=1, l2_reg_w=1, n_iter=500, random_state=20, rank=5)</pre></div></div></div></div></div>"
      ],
      "text/plain": [
       "FMRegression(l2_reg_V=1, l2_reg_w=1, n_iter=500, random_state=20, rank=5)"
      ]
     },
     "execution_count": 70,
     "metadata": {},
     "output_type": "execute_result"
    }
   ],
   "source": [
    "seed = 20\n",
    "\n",
    "y = small.Rating\n",
    "\n",
    "fm = als.FMRegression(n_iter=500, init_stdev=0.1, rank=5, random_state=seed, l2_reg_w=1, l2_reg_V=1)\n",
    "\n",
    "\n",
    "# 80 / 10 / 10 split\n",
    "X_train, X_test, y_train, y_test = train_test_split(X, y, test_size=0.2, random_state=seed)\n",
    "\n",
    "X_valid, X_test, y_valid, y_test = train_test_split(X_test, y_test, test_size=0.5, random_state=seed)\n",
    "fm.fit(X_train, y_train)"
   ]
  },
  {
   "cell_type": "code",
   "execution_count": 71,
   "id": "13a92193",
   "metadata": {},
   "outputs": [
    {
     "name": "stdout",
     "output_type": "stream",
     "text": [
      "Baseline train 7 FM: RMSE: 0.19859783123430458\n",
      "Baseline train 7 FM: MAE: 0.0962419354018597\n",
      "Baseline valid 7 FM: RMSE: 1.3598246989410048\n",
      "Baseline valid 7 FM: MAE: 1.0321521189169733\n"
     ]
    }
   ],
   "source": [
    "y_pred_train = fm.predict(X_train)\n",
    "print(\"Baseline train 7 FM: RMSE:\", np.sqrt(mse(y_pred_train, y_train)))\n",
    "print(\"Baseline train 7 FM: MAE:\", mae(y_pred_train, y_train))\n",
    "\n",
    "y_pred_valid = fm.predict(X_valid)\n",
    "print(\"Baseline valid 7 FM: RMSE:\", np.sqrt(mse(y_pred_valid, y_valid)))\n",
    "print(\"Baseline valid 7 FM: MAE:\", mae(y_pred_valid, y_valid))"
   ]
  },
  {
   "cell_type": "code",
   "execution_count": 190,
   "id": "90506001",
   "metadata": {},
   "outputs": [],
   "source": [
    "# Baseline train 7 FM: RMSE: 0.19859783123430458\n",
    "# Baseline train 7 FM: MAE: 0.0962419354018597\n",
    "# Baseline valid 7 FM: RMSE: 1.3598246989410048\n",
    "# Baseline valid 7 FM: MAE: 1.0321521189169733"
   ]
  },
  {
   "cell_type": "markdown",
   "id": "5ec6559b",
   "metadata": {},
   "source": [
    "2) User ID + MovieID + Genre"
   ]
  },
  {
   "cell_type": "code",
   "execution_count": 111,
   "id": "537c531a",
   "metadata": {},
   "outputs": [],
   "source": [
    "# baseline 7b\n",
    "medium = small.merge(details, on=\"show_id\")"
   ]
  },
  {
   "cell_type": "code",
   "execution_count": 145,
   "id": "3f81b6c4",
   "metadata": {},
   "outputs": [
    {
     "data": {
      "text/html": [
       "<div>\n",
       "<style scoped>\n",
       "    .dataframe tbody tr th:only-of-type {\n",
       "        vertical-align: middle;\n",
       "    }\n",
       "\n",
       "    .dataframe tbody tr th {\n",
       "        vertical-align: top;\n",
       "    }\n",
       "\n",
       "    .dataframe thead th {\n",
       "        text-align: right;\n",
       "    }\n",
       "</style>\n",
       "<table border=\"1\" class=\"dataframe\">\n",
       "  <thead>\n",
       "    <tr style=\"text-align: right;\">\n",
       "      <th></th>\n",
       "      <th>Unnamed: 0</th>\n",
       "      <th>show_id</th>\n",
       "      <th>Title</th>\n",
       "      <th>director</th>\n",
       "      <th>cast</th>\n",
       "      <th>country</th>\n",
       "      <th>date_added</th>\n",
       "      <th>release_year</th>\n",
       "      <th>rating</th>\n",
       "      <th>duration</th>\n",
       "      <th>listed_in</th>\n",
       "      <th>description</th>\n",
       "    </tr>\n",
       "  </thead>\n",
       "  <tbody>\n",
       "    <tr>\n",
       "      <th>222</th>\n",
       "      <td>5539372</td>\n",
       "      <td>s562</td>\n",
       "      <td>Austin Powers in Goldmember</td>\n",
       "      <td>Jay Roach</td>\n",
       "      <td>Mike Myers, Beyoncé Knowles-Carter, Seth Green...</td>\n",
       "      <td>United States</td>\n",
       "      <td>July 1, 2021</td>\n",
       "      <td>2002</td>\n",
       "      <td>PG-13</td>\n",
       "      <td>94 min</td>\n",
       "      <td>Action &amp; Adventure, Comedies</td>\n",
       "      <td>The world's most shagadelic spy continues his ...</td>\n",
       "    </tr>\n",
       "  </tbody>\n",
       "</table>\n",
       "</div>"
      ],
      "text/plain": [
       "     Unnamed: 0 show_id                        Title   director  \\\n",
       "222     5539372    s562  Austin Powers in Goldmember  Jay Roach   \n",
       "\n",
       "                                                  cast        country  \\\n",
       "222  Mike Myers, Beyoncé Knowles-Carter, Seth Green...  United States   \n",
       "\n",
       "       date_added  release_year rating duration                     listed_in  \\\n",
       "222  July 1, 2021          2002  PG-13   94 min  Action & Adventure, Comedies   \n",
       "\n",
       "                                           description  \n",
       "222  The world's most shagadelic spy continues his ...  "
      ]
     },
     "execution_count": 145,
     "metadata": {},
     "output_type": "execute_result"
    }
   ],
   "source": [
    "small\n",
    "show_id = 's562'\n",
    "details[details['show_id'] == 's562']"
   ]
  },
  {
   "cell_type": "code",
   "execution_count": 150,
   "id": "f05947e2",
   "metadata": {
    "scrolled": false
   },
   "outputs": [
    {
     "data": {
      "text/plain": [
       "19"
      ]
     },
     "execution_count": 150,
     "metadata": {},
     "output_type": "execute_result"
    }
   ],
   "source": [
    "len(genres_series)"
   ]
  },
  {
   "cell_type": "code",
   "execution_count": 187,
   "id": "7ecf6f1c",
   "metadata": {
    "scrolled": true
   },
   "outputs": [
    {
     "name": "stderr",
     "output_type": "stream",
     "text": [
      "100%|███████████████████████████████████████████| 705564/705564 [02:15<00:00, 5212.59it/s]\n"
     ]
    }
   ],
   "source": [
    "minYear = details.release_year.min()\n",
    "maxYear = details.release_year.max()\n",
    "nYears = maxYear - minYear + 1\n",
    "\n",
    "genres_series = pd.DataFrame(details.listed_in.str.split(',').tolist()).stack().str.strip().value_counts()\n",
    "nGenres = len(genres)\n",
    "\n",
    "X = lil_matrix((medium.shape[0], nUsers+nItems+nYears+nGenres))\n",
    "\n",
    "for i, row in tqdm(medium.iterrows(), total=medium.shape[0]):\n",
    "    user = userIDs[row.UserID]\n",
    "    item = itemIDs[row.MovieID]\n",
    "    year = row.release_year - minYear\n",
    "    X[i,user] = 1 # One-hot encoding of user\n",
    "    X[i,nUsers + item] = 1 # One-hot encoding of item\n",
    "    X[i,nUsers+item + year] = 1\n",
    "    \n",
    "    genres = row.listed_in.split(',')\n",
    "    for g in genres:\n",
    "        g_idx = genres_series.index == g.strip()\n",
    "        X[i, nUsers+nItems+g_idx] = 1"
   ]
  },
  {
   "cell_type": "code",
   "execution_count": 188,
   "id": "1f88b263",
   "metadata": {},
   "outputs": [
    {
     "data": {
      "text/html": [
       "<style>#sk-container-id-10 {color: black;background-color: white;}#sk-container-id-10 pre{padding: 0;}#sk-container-id-10 div.sk-toggleable {background-color: white;}#sk-container-id-10 label.sk-toggleable__label {cursor: pointer;display: block;width: 100%;margin-bottom: 0;padding: 0.3em;box-sizing: border-box;text-align: center;}#sk-container-id-10 label.sk-toggleable__label-arrow:before {content: \"▸\";float: left;margin-right: 0.25em;color: #696969;}#sk-container-id-10 label.sk-toggleable__label-arrow:hover:before {color: black;}#sk-container-id-10 div.sk-estimator:hover label.sk-toggleable__label-arrow:before {color: black;}#sk-container-id-10 div.sk-toggleable__content {max-height: 0;max-width: 0;overflow: hidden;text-align: left;background-color: #f0f8ff;}#sk-container-id-10 div.sk-toggleable__content pre {margin: 0.2em;color: black;border-radius: 0.25em;background-color: #f0f8ff;}#sk-container-id-10 input.sk-toggleable__control:checked~div.sk-toggleable__content {max-height: 200px;max-width: 100%;overflow: auto;}#sk-container-id-10 input.sk-toggleable__control:checked~label.sk-toggleable__label-arrow:before {content: \"▾\";}#sk-container-id-10 div.sk-estimator input.sk-toggleable__control:checked~label.sk-toggleable__label {background-color: #d4ebff;}#sk-container-id-10 div.sk-label input.sk-toggleable__control:checked~label.sk-toggleable__label {background-color: #d4ebff;}#sk-container-id-10 input.sk-hidden--visually {border: 0;clip: rect(1px 1px 1px 1px);clip: rect(1px, 1px, 1px, 1px);height: 1px;margin: -1px;overflow: hidden;padding: 0;position: absolute;width: 1px;}#sk-container-id-10 div.sk-estimator {font-family: monospace;background-color: #f0f8ff;border: 1px dotted black;border-radius: 0.25em;box-sizing: border-box;margin-bottom: 0.5em;}#sk-container-id-10 div.sk-estimator:hover {background-color: #d4ebff;}#sk-container-id-10 div.sk-parallel-item::after {content: \"\";width: 100%;border-bottom: 1px solid gray;flex-grow: 1;}#sk-container-id-10 div.sk-label:hover label.sk-toggleable__label {background-color: #d4ebff;}#sk-container-id-10 div.sk-serial::before {content: \"\";position: absolute;border-left: 1px solid gray;box-sizing: border-box;top: 0;bottom: 0;left: 50%;z-index: 0;}#sk-container-id-10 div.sk-serial {display: flex;flex-direction: column;align-items: center;background-color: white;padding-right: 0.2em;padding-left: 0.2em;position: relative;}#sk-container-id-10 div.sk-item {position: relative;z-index: 1;}#sk-container-id-10 div.sk-parallel {display: flex;align-items: stretch;justify-content: center;background-color: white;position: relative;}#sk-container-id-10 div.sk-item::before, #sk-container-id-10 div.sk-parallel-item::before {content: \"\";position: absolute;border-left: 1px solid gray;box-sizing: border-box;top: 0;bottom: 0;left: 50%;z-index: -1;}#sk-container-id-10 div.sk-parallel-item {display: flex;flex-direction: column;z-index: 1;position: relative;background-color: white;}#sk-container-id-10 div.sk-parallel-item:first-child::after {align-self: flex-end;width: 50%;}#sk-container-id-10 div.sk-parallel-item:last-child::after {align-self: flex-start;width: 50%;}#sk-container-id-10 div.sk-parallel-item:only-child::after {width: 0;}#sk-container-id-10 div.sk-dashed-wrapped {border: 1px dashed gray;margin: 0 0.4em 0.5em 0.4em;box-sizing: border-box;padding-bottom: 0.4em;background-color: white;}#sk-container-id-10 div.sk-label label {font-family: monospace;font-weight: bold;display: inline-block;line-height: 1.2em;}#sk-container-id-10 div.sk-label-container {text-align: center;}#sk-container-id-10 div.sk-container {/* jupyter's `normalize.less` sets `[hidden] { display: none; }` but bootstrap.min.css set `[hidden] { display: none !important; }` so we also need the `!important` here to be able to override the default hidden behavior on the sphinx rendered scikit-learn.org. See: https://github.com/scikit-learn/scikit-learn/issues/21755 */display: inline-block !important;position: relative;}#sk-container-id-10 div.sk-text-repr-fallback {display: none;}</style><div id=\"sk-container-id-10\" class=\"sk-top-container\"><div class=\"sk-text-repr-fallback\"><pre>FMRegression(l2_reg_V=1, l2_reg_w=1, n_iter=500, random_state=20, rank=5)</pre><b>In a Jupyter environment, please rerun this cell to show the HTML representation or trust the notebook. <br />On GitHub, the HTML representation is unable to render, please try loading this page with nbviewer.org.</b></div><div class=\"sk-container\" hidden><div class=\"sk-item\"><div class=\"sk-estimator sk-toggleable\"><input class=\"sk-toggleable__control sk-hidden--visually\" id=\"sk-estimator-id-10\" type=\"checkbox\" checked><label for=\"sk-estimator-id-10\" class=\"sk-toggleable__label sk-toggleable__label-arrow\">FMRegression</label><div class=\"sk-toggleable__content\"><pre>FMRegression(l2_reg_V=1, l2_reg_w=1, n_iter=500, random_state=20, rank=5)</pre></div></div></div></div></div>"
      ],
      "text/plain": [
       "FMRegression(l2_reg_V=1, l2_reg_w=1, n_iter=500, random_state=20, rank=5)"
      ]
     },
     "execution_count": 188,
     "metadata": {},
     "output_type": "execute_result"
    }
   ],
   "source": [
    "seed = 20\n",
    "\n",
    "y = small.Rating\n",
    "\n",
    "fm = als.FMRegression(n_iter=500, init_stdev=0.1, rank=5, random_state=seed, l2_reg_w=1, l2_reg_V=1)\n",
    "\n",
    "\n",
    "# 80 / 10 / 10 split\n",
    "X_train, X_test, y_train, y_test = train_test_split(X, y, test_size=0.2, random_state=seed)\n",
    "\n",
    "X_valid, X_test, y_valid, y_test = train_test_split(X_test, y_test, test_size=0.5, random_state=seed)\n",
    "fm.fit(X_train, y_train)"
   ]
  },
  {
   "cell_type": "code",
   "execution_count": 189,
   "id": "3513f856",
   "metadata": {
    "scrolled": true
   },
   "outputs": [
    {
     "name": "stdout",
     "output_type": "stream",
     "text": [
      "Baseline train 7b FM: RMSE: 0.24434819514982983\n",
      "Baseline train 7b FM: MAE: 0.11038932534199308\n",
      "Baseline valid 7b FM: RMSE: 1.5388583476656417\n",
      "Baseline valid 7b FM: MAE: 1.1750044285470544\n"
     ]
    }
   ],
   "source": [
    "y_pred_train = fm.predict(X_train)\n",
    "print(\"Baseline train 7b FM: RMSE:\", np.sqrt(mse(y_pred_train, y_train)))\n",
    "print(\"Baseline train 7b FM: MAE:\", mae(y_pred_train, y_train))\n",
    "\n",
    "y_pred_valid = fm.predict(X_valid)\n",
    "print(\"Baseline valid 7b FM: RMSE:\", np.sqrt(mse(y_pred_valid, y_valid)))\n",
    "print(\"Baseline valid 7b FM: MAE:\", mae(y_pred_valid, y_valid))"
   ]
  },
  {
   "cell_type": "code",
   "execution_count": null,
   "id": "205b4aec",
   "metadata": {},
   "outputs": [],
   "source": [
    "# Baseline train 7b FM: RMSE: 0.24434819514982983\n",
    "# Baseline train 7b FM: MAE: 0.11038932534199308\n",
    "# Baseline valid 7b FM: RMSE: 1.5388583476656417\n",
    "# Baseline valid 7b FM: MAE: 1.1750044285470544"
   ]
  },
  {
   "cell_type": "markdown",
   "id": "a9e2391c",
   "metadata": {},
   "source": [
    "# Testset metrics"
   ]
  },
  {
   "cell_type": "code",
   "execution_count": null,
   "id": "c535dc52",
   "metadata": {},
   "outputs": [],
   "source": [
    "# Plot \"cold start for users\"\n"
   ]
  }
 ],
 "metadata": {
  "kernelspec": {
   "display_name": "Python 3 (ipykernel)",
   "language": "python",
   "name": "python3"
  },
  "language_info": {
   "codemirror_mode": {
    "name": "ipython",
    "version": 3
   },
   "file_extension": ".py",
   "mimetype": "text/x-python",
   "name": "python",
   "nbconvert_exporter": "python",
   "pygments_lexer": "ipython3",
   "version": "3.10.4"
  }
 },
 "nbformat": 4,
 "nbformat_minor": 5
}
